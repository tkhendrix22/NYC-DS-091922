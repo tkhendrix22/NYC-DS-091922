{
 "cells": [
  {
   "cell_type": "markdown",
   "metadata": {
    "slideshow": {
     "slide_type": "slide"
    }
   },
   "source": [
    "<div style=\"color:white;\n",
    "           display:fill;\n",
    "           border-radius:5px;\n",
    "           background-color:#5642C5;\n",
    "           font-size:200%;\n",
    "           font-family:Arial;letter-spacing:0.5px\">\n",
    "\n",
    "<p width = 20%, style=\"padding: 10px;\n",
    "              color:white;\">\n",
    "Classification Workflow 1\n",
    "              \n",
    "</p>\n",
    "</div>\n",
    "\n",
    "Data Science Cohort Live NYC Nov 2022\n",
    "<p>Phase 3: Topic 25:</p>\n",
    "<br>\n",
    "<br>\n",
    "\n",
    "<div align = \"right\">\n",
    "<img src=\"Images/flatiron-school-logo.png\" align = \"right\" width=\"200\"/>\n",
    "</div>\n",
    "    \n",
    "    "
   ]
  },
  {
   "cell_type": "code",
   "execution_count": 1,
   "metadata": {
    "cell_style": "center",
    "slideshow": {
     "slide_type": "slide"
    }
   },
   "outputs": [],
   "source": [
    "import pandas as pd\n",
    "import numpy as np\n",
    "import math\n",
    "\n",
    "import matplotlib.pyplot as plt\n",
    "import seaborn as sns\n",
    "%matplotlib inline\n",
    "\n",
    "from sklearn.preprocessing import OneHotEncoder, StandardScaler\n",
    "from sklearn.impute import SimpleImputer\n",
    "\n",
    "from sklearn.linear_model import LogisticRegression\n",
    "from sklearn.model_selection import train_test_split, cross_val_score\n",
    "from sklearn.feature_selection import SelectFromModel\n",
    "\n",
    "# ConfusionMatrixDisplayis added in the latest version of scikit-learn\n",
    "# if you are running an older version, comment out this line and just use plot_confusion_matrix\n",
    "from sklearn.metrics import ConfusionMatrixDisplay\n",
    "from sklearn.metrics import plot_confusion_matrix\n",
    "from sklearn.metrics import confusion_matrix\n",
    "\n",
    "\n",
    "\n",
    "from sklearn.metrics import plot_roc_curve\n",
    "from sklearn.metrics import RocCurveDisplay"
   ]
  },
  {
   "cell_type": "markdown",
   "metadata": {
    "heading_collapsed": true,
    "slideshow": {
     "slide_type": "slide"
    }
   },
   "source": [
    "# Objectives"
   ]
  },
  {
   "cell_type": "markdown",
   "metadata": {
    "hidden": true,
    "slideshow": {
     "slide_type": "fragment"
    }
   },
   "source": [
    "> The goal here is to illustrate a possible workflow for classification modeling with `sklearn`'s `LogisticRegression` model.\n",
    "\n",
    "\n",
    "- Formulate and implement an iterative modeling workflow"
   ]
  },
  {
   "cell_type": "markdown",
   "metadata": {
    "heading_collapsed": true,
    "slideshow": {
     "slide_type": "slide"
    }
   },
   "source": [
    "# Modeling Walkthrough"
   ]
  },
  {
   "cell_type": "markdown",
   "metadata": {
    "slideshow": {
     "slide_type": "fragment"
    }
   },
   "source": [
    "Caution! This notebook is very long and we will likely not get through it all. But the good news is that the modeling process is *iterative* and so after a few of those iterations you should get the hang of it!"
   ]
  },
  {
   "cell_type": "markdown",
   "metadata": {
    "slideshow": {
     "slide_type": "fragment"
    }
   },
   "source": [
    "Build a model based on the [Titanic dataset](https://www.kaggle.com/c/titanic/data) that predicts whether a given person survived or not"
   ]
  },
  {
   "cell_type": "markdown",
   "metadata": {
    "cell_style": "center",
    "heading_collapsed": true,
    "hidden": true,
    "slideshow": {
     "slide_type": "slide"
    }
   },
   "source": [
    "# Modeling Steps\n",
    "## Data Preparation\n",
    "1. Explore data\n",
    "2. Feature Selection\n",
    "3. Separate out values for imputation\n",
    "4. Impute missing values\n",
    "5. One-hot encode categorical data\n",
    "6. Scale values"
   ]
  },
  {
   "cell_type": "markdown",
   "metadata": {
    "cell_style": "center",
    "slideshow": {
     "slide_type": "slide"
    }
   },
   "source": [
    "\n",
    "\n",
    "\n",
    "\n",
    "\n",
    "\n",
    "## Fine Tuning\n",
    "7. Build a model\n",
    "8. Evaluate performance\n",
    "9. Make changes in an attempt to improve the model\n",
    "10. Demonstrate improvement was made"
   ]
  },
  {
   "cell_type": "markdown",
   "metadata": {
    "heading_collapsed": true,
    "hidden": true,
    "slideshow": {
     "slide_type": "slide"
    }
   },
   "source": [
    "## The Data"
   ]
  },
  {
   "cell_type": "markdown",
   "metadata": {
    "hidden": true,
    "slideshow": {
     "slide_type": "fragment"
    }
   },
   "source": [
    "This dataset has the following columns:\n",
    "\n",
    "| Variable | Definition | Key |\n",
    "| -------- | ---------- | --- |\n",
    "| survival | Survival | 0 = No, 1 = Yes |\n",
    "| pclass | Ticket class | 1 = 1st, 2 = 2nd, 3 = 3rd |\n",
    "| sex | Sex | |\n",
    "| Age | Age in years | |\n",
    "| sibsp | # of siblings / spouses aboard the Titanic | |\n",
    "| parch | # of parents / children aboard the Titanic | |\n",
    "| ticket | Ticket number | |\n",
    "| fare | Passenger fare | |\n",
    "| cabin | Cabin number | |\n",
    "| embarked | Port of Embarkation | C = Cherbourg, Q = Queenstown, S = Southampton |"
   ]
  },
  {
   "cell_type": "markdown",
   "metadata": {
    "heading_collapsed": true,
    "hidden": true,
    "slideshow": {
     "slide_type": "slide"
    }
   },
   "source": [
    "## Initial Data Understanding and Preparation"
   ]
  },
  {
   "cell_type": "markdown",
   "metadata": {
    "hidden": true,
    "slideshow": {
     "slide_type": "fragment"
    }
   },
   "source": [
    "Open up the file, get everything into `X` features and `y` target variables, divided into train and test."
   ]
  },
  {
   "cell_type": "code",
   "execution_count": 2,
   "metadata": {
    "hidden": true,
    "slideshow": {
     "slide_type": "fragment"
    }
   },
   "outputs": [],
   "source": [
    "df = pd.read_csv(\"data/titanic.csv\")"
   ]
  },
  {
   "cell_type": "code",
   "execution_count": 3,
   "metadata": {
    "hidden": true,
    "slideshow": {
     "slide_type": "slide"
    }
   },
   "outputs": [
    {
     "data": {
      "text/html": [
       "<div>\n",
       "<style scoped>\n",
       "    .dataframe tbody tr th:only-of-type {\n",
       "        vertical-align: middle;\n",
       "    }\n",
       "\n",
       "    .dataframe tbody tr th {\n",
       "        vertical-align: top;\n",
       "    }\n",
       "\n",
       "    .dataframe thead th {\n",
       "        text-align: right;\n",
       "    }\n",
       "</style>\n",
       "<table border=\"1\" class=\"dataframe\">\n",
       "  <thead>\n",
       "    <tr style=\"text-align: right;\">\n",
       "      <th></th>\n",
       "      <th>PassengerId</th>\n",
       "      <th>Survived</th>\n",
       "      <th>Pclass</th>\n",
       "      <th>Name</th>\n",
       "      <th>Sex</th>\n",
       "      <th>Age</th>\n",
       "      <th>SibSp</th>\n",
       "      <th>Parch</th>\n",
       "      <th>Ticket</th>\n",
       "      <th>Fare</th>\n",
       "      <th>Cabin</th>\n",
       "      <th>Embarked</th>\n",
       "    </tr>\n",
       "  </thead>\n",
       "  <tbody>\n",
       "    <tr>\n",
       "      <th>0</th>\n",
       "      <td>1</td>\n",
       "      <td>0</td>\n",
       "      <td>3</td>\n",
       "      <td>Braund, Mr. Owen Harris</td>\n",
       "      <td>male</td>\n",
       "      <td>22.0</td>\n",
       "      <td>1</td>\n",
       "      <td>0</td>\n",
       "      <td>A/5 21171</td>\n",
       "      <td>7.2500</td>\n",
       "      <td>NaN</td>\n",
       "      <td>S</td>\n",
       "    </tr>\n",
       "    <tr>\n",
       "      <th>1</th>\n",
       "      <td>2</td>\n",
       "      <td>1</td>\n",
       "      <td>1</td>\n",
       "      <td>Cumings, Mrs. John Bradley (Florence Briggs Th...</td>\n",
       "      <td>female</td>\n",
       "      <td>38.0</td>\n",
       "      <td>1</td>\n",
       "      <td>0</td>\n",
       "      <td>PC 17599</td>\n",
       "      <td>71.2833</td>\n",
       "      <td>C85</td>\n",
       "      <td>C</td>\n",
       "    </tr>\n",
       "    <tr>\n",
       "      <th>2</th>\n",
       "      <td>3</td>\n",
       "      <td>1</td>\n",
       "      <td>3</td>\n",
       "      <td>Heikkinen, Miss. Laina</td>\n",
       "      <td>female</td>\n",
       "      <td>26.0</td>\n",
       "      <td>0</td>\n",
       "      <td>0</td>\n",
       "      <td>STON/O2. 3101282</td>\n",
       "      <td>7.9250</td>\n",
       "      <td>NaN</td>\n",
       "      <td>S</td>\n",
       "    </tr>\n",
       "    <tr>\n",
       "      <th>3</th>\n",
       "      <td>4</td>\n",
       "      <td>1</td>\n",
       "      <td>1</td>\n",
       "      <td>Futrelle, Mrs. Jacques Heath (Lily May Peel)</td>\n",
       "      <td>female</td>\n",
       "      <td>35.0</td>\n",
       "      <td>1</td>\n",
       "      <td>0</td>\n",
       "      <td>113803</td>\n",
       "      <td>53.1000</td>\n",
       "      <td>C123</td>\n",
       "      <td>S</td>\n",
       "    </tr>\n",
       "    <tr>\n",
       "      <th>4</th>\n",
       "      <td>5</td>\n",
       "      <td>0</td>\n",
       "      <td>3</td>\n",
       "      <td>Allen, Mr. William Henry</td>\n",
       "      <td>male</td>\n",
       "      <td>35.0</td>\n",
       "      <td>0</td>\n",
       "      <td>0</td>\n",
       "      <td>373450</td>\n",
       "      <td>8.0500</td>\n",
       "      <td>NaN</td>\n",
       "      <td>S</td>\n",
       "    </tr>\n",
       "  </tbody>\n",
       "</table>\n",
       "</div>"
      ],
      "text/plain": [
       "   PassengerId  Survived  Pclass  \\\n",
       "0            1         0       3   \n",
       "1            2         1       1   \n",
       "2            3         1       3   \n",
       "3            4         1       1   \n",
       "4            5         0       3   \n",
       "\n",
       "                                                Name     Sex   Age  SibSp  \\\n",
       "0                            Braund, Mr. Owen Harris    male  22.0      1   \n",
       "1  Cumings, Mrs. John Bradley (Florence Briggs Th...  female  38.0      1   \n",
       "2                             Heikkinen, Miss. Laina  female  26.0      0   \n",
       "3       Futrelle, Mrs. Jacques Heath (Lily May Peel)  female  35.0      1   \n",
       "4                           Allen, Mr. William Henry    male  35.0      0   \n",
       "\n",
       "   Parch            Ticket     Fare Cabin Embarked  \n",
       "0      0         A/5 21171   7.2500   NaN        S  \n",
       "1      0          PC 17599  71.2833   C85        C  \n",
       "2      0  STON/O2. 3101282   7.9250   NaN        S  \n",
       "3      0            113803  53.1000  C123        S  \n",
       "4      0            373450   8.0500   NaN        S  "
      ]
     },
     "execution_count": 3,
     "metadata": {},
     "output_type": "execute_result"
    }
   ],
   "source": [
    "df.head()"
   ]
  },
  {
   "cell_type": "markdown",
   "metadata": {
    "slideshow": {
     "slide_type": "fragment"
    }
   },
   "source": [
    "Which columns do you think we can let go of?"
   ]
  },
  {
   "cell_type": "code",
   "execution_count": 4,
   "metadata": {
    "hidden": true,
    "scrolled": true,
    "slideshow": {
     "slide_type": "slide"
    }
   },
   "outputs": [
    {
     "data": {
      "text/html": [
       "<div>\n",
       "<style scoped>\n",
       "    .dataframe tbody tr th:only-of-type {\n",
       "        vertical-align: middle;\n",
       "    }\n",
       "\n",
       "    .dataframe tbody tr th {\n",
       "        vertical-align: top;\n",
       "    }\n",
       "\n",
       "    .dataframe thead th {\n",
       "        text-align: right;\n",
       "    }\n",
       "</style>\n",
       "<table border=\"1\" class=\"dataframe\">\n",
       "  <thead>\n",
       "    <tr style=\"text-align: right;\">\n",
       "      <th></th>\n",
       "      <th>PassengerId</th>\n",
       "      <th>Survived</th>\n",
       "      <th>Pclass</th>\n",
       "      <th>Age</th>\n",
       "      <th>SibSp</th>\n",
       "      <th>Parch</th>\n",
       "      <th>Fare</th>\n",
       "    </tr>\n",
       "  </thead>\n",
       "  <tbody>\n",
       "    <tr>\n",
       "      <th>count</th>\n",
       "      <td>891.000000</td>\n",
       "      <td>891.000000</td>\n",
       "      <td>891.000000</td>\n",
       "      <td>714.000000</td>\n",
       "      <td>891.000000</td>\n",
       "      <td>891.000000</td>\n",
       "      <td>891.000000</td>\n",
       "    </tr>\n",
       "    <tr>\n",
       "      <th>mean</th>\n",
       "      <td>446.000000</td>\n",
       "      <td>0.383838</td>\n",
       "      <td>2.308642</td>\n",
       "      <td>29.699118</td>\n",
       "      <td>0.523008</td>\n",
       "      <td>0.381594</td>\n",
       "      <td>32.204208</td>\n",
       "    </tr>\n",
       "    <tr>\n",
       "      <th>std</th>\n",
       "      <td>257.353842</td>\n",
       "      <td>0.486592</td>\n",
       "      <td>0.836071</td>\n",
       "      <td>14.526497</td>\n",
       "      <td>1.102743</td>\n",
       "      <td>0.806057</td>\n",
       "      <td>49.693429</td>\n",
       "    </tr>\n",
       "    <tr>\n",
       "      <th>min</th>\n",
       "      <td>1.000000</td>\n",
       "      <td>0.000000</td>\n",
       "      <td>1.000000</td>\n",
       "      <td>0.420000</td>\n",
       "      <td>0.000000</td>\n",
       "      <td>0.000000</td>\n",
       "      <td>0.000000</td>\n",
       "    </tr>\n",
       "    <tr>\n",
       "      <th>25%</th>\n",
       "      <td>223.500000</td>\n",
       "      <td>0.000000</td>\n",
       "      <td>2.000000</td>\n",
       "      <td>20.125000</td>\n",
       "      <td>0.000000</td>\n",
       "      <td>0.000000</td>\n",
       "      <td>7.910400</td>\n",
       "    </tr>\n",
       "    <tr>\n",
       "      <th>50%</th>\n",
       "      <td>446.000000</td>\n",
       "      <td>0.000000</td>\n",
       "      <td>3.000000</td>\n",
       "      <td>28.000000</td>\n",
       "      <td>0.000000</td>\n",
       "      <td>0.000000</td>\n",
       "      <td>14.454200</td>\n",
       "    </tr>\n",
       "    <tr>\n",
       "      <th>75%</th>\n",
       "      <td>668.500000</td>\n",
       "      <td>1.000000</td>\n",
       "      <td>3.000000</td>\n",
       "      <td>38.000000</td>\n",
       "      <td>1.000000</td>\n",
       "      <td>0.000000</td>\n",
       "      <td>31.000000</td>\n",
       "    </tr>\n",
       "    <tr>\n",
       "      <th>max</th>\n",
       "      <td>891.000000</td>\n",
       "      <td>1.000000</td>\n",
       "      <td>3.000000</td>\n",
       "      <td>80.000000</td>\n",
       "      <td>8.000000</td>\n",
       "      <td>6.000000</td>\n",
       "      <td>512.329200</td>\n",
       "    </tr>\n",
       "  </tbody>\n",
       "</table>\n",
       "</div>"
      ],
      "text/plain": [
       "       PassengerId    Survived      Pclass         Age       SibSp  \\\n",
       "count   891.000000  891.000000  891.000000  714.000000  891.000000   \n",
       "mean    446.000000    0.383838    2.308642   29.699118    0.523008   \n",
       "std     257.353842    0.486592    0.836071   14.526497    1.102743   \n",
       "min       1.000000    0.000000    1.000000    0.420000    0.000000   \n",
       "25%     223.500000    0.000000    2.000000   20.125000    0.000000   \n",
       "50%     446.000000    0.000000    3.000000   28.000000    0.000000   \n",
       "75%     668.500000    1.000000    3.000000   38.000000    1.000000   \n",
       "max     891.000000    1.000000    3.000000   80.000000    8.000000   \n",
       "\n",
       "            Parch        Fare  \n",
       "count  891.000000  891.000000  \n",
       "mean     0.381594   32.204208  \n",
       "std      0.806057   49.693429  \n",
       "min      0.000000    0.000000  \n",
       "25%      0.000000    7.910400  \n",
       "50%      0.000000   14.454200  \n",
       "75%      0.000000   31.000000  \n",
       "max      6.000000  512.329200  "
      ]
     },
     "execution_count": 4,
     "metadata": {},
     "output_type": "execute_result"
    }
   ],
   "source": [
    "df.describe()"
   ]
  },
  {
   "cell_type": "markdown",
   "metadata": {
    "cell_style": "split",
    "slideshow": {
     "slide_type": "fragment"
    }
   },
   "source": [
    "What do you notice?"
   ]
  },
  {
   "cell_type": "markdown",
   "metadata": {
    "slideshow": {
     "slide_type": "fragment"
    }
   },
   "source": [
    "\n",
    "<details>\n",
    "    <summary><b><u>Observations</u></b></summary>\n",
    "\n",
    "38% Survived\n",
    "\n",
    "Missing vlaues in Age\n",
    "\n",
    "Its seems like some didn't pay\n",
    "\n",
    "Outliers in Fair/Sibsp look at mean and max\n",
    "</details>\n"
   ]
  },
  {
   "cell_type": "markdown",
   "metadata": {
    "heading_collapsed": true,
    "slideshow": {
     "slide_type": "slide"
    }
   },
   "source": [
    "# 1st Model - Logistic Regression"
   ]
  },
  {
   "cell_type": "markdown",
   "metadata": {
    "hidden": true,
    "slideshow": {
     "slide_type": "slide"
    }
   },
   "source": [
    "Let's use a logistic regression and compare its performance."
   ]
  },
  {
   "cell_type": "markdown",
   "metadata": {
    "hidden": true,
    "slideshow": {
     "slide_type": "fragment"
    }
   },
   "source": [
    "We're going to specifically avoid any regularization (the default) to see how the model does with little change. So we'll pass `'none'` to the `penalty` parameter to not use any regularization. "
   ]
  },
  {
   "cell_type": "markdown",
   "metadata": {
    "heading_collapsed": true,
    "slideshow": {
     "slide_type": "slide"
    }
   },
   "source": [
    "# Data Preparation"
   ]
  },
  {
   "cell_type": "markdown",
   "metadata": {
    "hidden": true,
    "slideshow": {
     "slide_type": "fragment"
    }
   },
   "source": [
    "> Note: you can and should add features incrementally in a \"real\" modeling context.  The engineering effort of encoding the variables can be non-trivial!  But here let's assume that it's not too much work to encode all of them."
   ]
  },
  {
   "cell_type": "code",
   "execution_count": 5,
   "metadata": {
    "slideshow": {
     "slide_type": "slide"
    }
   },
   "outputs": [
    {
     "data": {
      "text/plain": [
       "(891, 12)"
      ]
     },
     "execution_count": 5,
     "metadata": {},
     "output_type": "execute_result"
    }
   ],
   "source": [
    "df = pd.read_csv(\"data/titanic.csv\")\n",
    "df.shape"
   ]
  },
  {
   "cell_type": "code",
   "execution_count": 6,
   "metadata": {
    "cell_style": "split",
    "slideshow": {
     "slide_type": "fragment"
    }
   },
   "outputs": [
    {
     "data": {
      "text/plain": [
       "PassengerId      int64\n",
       "Survived         int64\n",
       "Pclass           int64\n",
       "Name            object\n",
       "Sex             object\n",
       "Age            float64\n",
       "SibSp            int64\n",
       "Parch            int64\n",
       "Ticket          object\n",
       "Fare           float64\n",
       "Cabin           object\n",
       "Embarked        object\n",
       "dtype: object"
      ]
     },
     "execution_count": 6,
     "metadata": {},
     "output_type": "execute_result"
    }
   ],
   "source": [
    "#check data types \n",
    "df.dtypes"
   ]
  },
  {
   "cell_type": "code",
   "execution_count": 7,
   "metadata": {
    "cell_style": "split",
    "slideshow": {
     "slide_type": "fragment"
    }
   },
   "outputs": [
    {
     "data": {
      "text/plain": [
       "0"
      ]
     },
     "execution_count": 7,
     "metadata": {},
     "output_type": "execute_result"
    }
   ],
   "source": [
    "# Check for missing target values\n",
    "df.Survived.isnull().sum()"
   ]
  },
  {
   "cell_type": "code",
   "execution_count": 8,
   "metadata": {
    "hidden": true,
    "slideshow": {
     "slide_type": "slide"
    }
   },
   "outputs": [],
   "source": [
    "# Feature Selection\n",
    "X = df.drop(['PassengerId','Name','Ticket','Embarked', 'Survived'],axis=1)\n",
    "y = df[\"Survived\"]\n",
    "X_train, X_test, y_train, y_test = train_test_split(X, y, random_state=2022)"
   ]
  },
  {
   "cell_type": "code",
   "execution_count": 9,
   "metadata": {
    "hidden": true,
    "slideshow": {
     "slide_type": "fragment"
    }
   },
   "outputs": [
    {
     "data": {
      "text/plain": [
       "Index(['Pclass', 'Sex', 'Age', 'SibSp', 'Parch', 'Fare', 'Cabin'], dtype='object')"
      ]
     },
     "execution_count": 9,
     "metadata": {},
     "output_type": "execute_result"
    }
   ],
   "source": [
    "X_train.columns"
   ]
  },
  {
   "cell_type": "markdown",
   "metadata": {
    "heading_collapsed": true,
    "hidden": true,
    "slideshow": {
     "slide_type": "slide"
    }
   },
   "source": [
    "## Handling Missing Values"
   ]
  },
  {
   "cell_type": "markdown",
   "metadata": {
    "slideshow": {
     "slide_type": "fragment"
    }
   },
   "source": [
    "1. Drop missing values\n",
    "2. Imputation\n",
    "3. Impute and catalog where you imputed missing values"
   ]
  },
  {
   "cell_type": "code",
   "execution_count": 10,
   "metadata": {
    "cell_style": "split",
    "hidden": true,
    "slideshow": {
     "slide_type": "fragment"
    }
   },
   "outputs": [
    {
     "name": "stdout",
     "output_type": "stream",
     "text": [
      "Pclass      0\n",
      "Sex         0\n",
      "Age       132\n",
      "SibSp       0\n",
      "Parch       0\n",
      "Fare        0\n",
      "Cabin     513\n",
      "dtype: int64\n"
     ]
    }
   ],
   "source": [
    "print(X_train.isna().sum())\n"
   ]
  },
  {
   "cell_type": "code",
   "execution_count": 11,
   "metadata": {
    "cell_style": "split",
    "slideshow": {
     "slide_type": "fragment"
    }
   },
   "outputs": [
    {
     "name": "stdout",
     "output_type": "stream",
     "text": [
      "20.0% of Age is missing.\n",
      "77.0% of Cabin is missing.\n"
     ]
    }
   ],
   "source": [
    "a = (X_train['Age'].isna().sum()/X_train.shape[0]).round(2) * 100\n",
    "c = (X_train['Cabin'].isna().sum()/X_train.shape[0]).round(2) * 100\n",
    "print(f'{a}% of Age is missing.')\n",
    "print(f'{c}% of Cabin is missing.')"
   ]
  },
  {
   "cell_type": "markdown",
   "metadata": {
    "hidden": true,
    "slideshow": {
     "slide_type": "slide"
    }
   },
   "source": [
    "Now that we've specified which values were originally missing, let's fill in those missing values.  This takes two separate imputers because we want to use the mean for numeric data and the majority class for categorical data.\n",
    "\n",
    "The `SimpleImputer` class fills in the mean value by default, so we'll have to override that for the categorical columns."
   ]
  },
  {
   "cell_type": "code",
   "execution_count": 12,
   "metadata": {
    "cell_style": "center",
    "slideshow": {
     "slide_type": "fragment"
    }
   },
   "outputs": [
    {
     "data": {
      "text/plain": [
       "Index(['Pclass', 'Age', 'SibSp', 'Parch', 'Fare'], dtype='object')"
      ]
     },
     "execution_count": 12,
     "metadata": {},
     "output_type": "execute_result"
    }
   ],
   "source": [
    "X_train_numeric = X_train.select_dtypes(exclude=['object'])\n",
    "X_train_numeric.columns"
   ]
  },
  {
   "cell_type": "code",
   "execution_count": 13,
   "metadata": {
    "cell_style": "center",
    "slideshow": {
     "slide_type": "fragment"
    }
   },
   "outputs": [
    {
     "data": {
      "text/plain": [
       "Index(['Sex', 'Cabin'], dtype='object')"
      ]
     },
     "execution_count": 13,
     "metadata": {},
     "output_type": "execute_result"
    }
   ],
   "source": [
    "X_train_categorical = X_train.select_dtypes(include=['object'])\n",
    "X_train_categorical.columns\n"
   ]
  },
  {
   "cell_type": "code",
   "execution_count": 20,
   "metadata": {
    "hidden": true,
    "slideshow": {
     "slide_type": "slide"
    }
   },
   "outputs": [
    {
     "data": {
      "text/plain": [
       "SimpleImputer()"
      ]
     },
     "execution_count": 20,
     "metadata": {},
     "output_type": "execute_result"
    }
   ],
   "source": [
    "# uses mean\n",
    "numeric_imputer = SimpleImputer()\n",
    "numeric_imputer.fit(X_train_numeric)"
   ]
  },
  {
   "cell_type": "code",
   "execution_count": 21,
   "metadata": {
    "hidden": true,
    "slideshow": {
     "slide_type": "fragment"
    }
   },
   "outputs": [
    {
     "data": {
      "text/plain": [
       "SimpleImputer(strategy='most_frequent')"
      ]
     },
     "execution_count": 21,
     "metadata": {},
     "output_type": "execute_result"
    }
   ],
   "source": [
    "categorical_imputer = SimpleImputer(strategy=\"most_frequent\")\n",
    "categorical_imputer.fit(X_train_categorical)"
   ]
  },
  {
   "cell_type": "markdown",
   "metadata": {
    "hidden": true,
    "slideshow": {
     "slide_type": "slide"
    }
   },
   "source": [
    "We'll build a function here to minimize our work of imputation:"
   ]
  },
  {
   "cell_type": "code",
   "execution_count": 22,
   "metadata": {
    "slideshow": {
     "slide_type": "slide"
    }
   },
   "outputs": [],
   "source": [
    "def impute_missing_values(X, imputer):\n",
    "    \"\"\"\n",
    "    Given a DataFrame and an imputer, use the imputer to fill in all\n",
    "    missing values in the DataFrame\n",
    "    \"\"\"\n",
    "    imputed_array = imputer.transform(X)\n",
    "    imputed_df = pd.DataFrame(imputed_array, columns=X.columns, index=X.index)\n",
    "    return imputed_df"
   ]
  },
  {
   "cell_type": "code",
   "execution_count": 23,
   "metadata": {
    "hidden": true,
    "slideshow": {
     "slide_type": "fragment"
    }
   },
   "outputs": [],
   "source": [
    "X_train_numeric = impute_missing_values(X_train_numeric, numeric_imputer)\n",
    "X_train_categorical = impute_missing_values(X_train_categorical, categorical_imputer)"
   ]
  },
  {
   "cell_type": "markdown",
   "metadata": {
    "hidden": true,
    "slideshow": {
     "slide_type": "slide"
    }
   },
   "source": [
    "Double-check to make sure that all of the missing values are gone:"
   ]
  },
  {
   "cell_type": "code",
   "execution_count": 26,
   "metadata": {
    "hidden": true,
    "slideshow": {
     "slide_type": "fragment"
    }
   },
   "outputs": [
    {
     "data": {
      "text/plain": [
       "Pclass    0\n",
       "Age       0\n",
       "SibSp     0\n",
       "Parch     0\n",
       "Fare      0\n",
       "Sex       0\n",
       "Cabin     0\n",
       "dtype: int64"
      ]
     },
     "execution_count": 26,
     "metadata": {},
     "output_type": "execute_result"
    }
   ],
   "source": [
    "X_train_imputed = pd.concat([X_train_numeric, X_train_categorical], axis=1)\n",
    "X_train_imputed.isna().sum()"
   ]
  },
  {
   "cell_type": "code",
   "execution_count": 27,
   "metadata": {
    "slideshow": {
     "slide_type": "slide"
    }
   },
   "outputs": [
    {
     "data": {
      "text/html": [
       "<div>\n",
       "<style scoped>\n",
       "    .dataframe tbody tr th:only-of-type {\n",
       "        vertical-align: middle;\n",
       "    }\n",
       "\n",
       "    .dataframe tbody tr th {\n",
       "        vertical-align: top;\n",
       "    }\n",
       "\n",
       "    .dataframe thead th {\n",
       "        text-align: right;\n",
       "    }\n",
       "</style>\n",
       "<table border=\"1\" class=\"dataframe\">\n",
       "  <thead>\n",
       "    <tr style=\"text-align: right;\">\n",
       "      <th></th>\n",
       "      <th>Pclass</th>\n",
       "      <th>Age</th>\n",
       "      <th>SibSp</th>\n",
       "      <th>Parch</th>\n",
       "      <th>Fare</th>\n",
       "      <th>Sex</th>\n",
       "      <th>Cabin</th>\n",
       "    </tr>\n",
       "  </thead>\n",
       "  <tbody>\n",
       "    <tr>\n",
       "      <th>221</th>\n",
       "      <td>2.0</td>\n",
       "      <td>27.000000</td>\n",
       "      <td>0.0</td>\n",
       "      <td>0.0</td>\n",
       "      <td>13.0000</td>\n",
       "      <td>male</td>\n",
       "      <td>B96 B98</td>\n",
       "    </tr>\n",
       "    <tr>\n",
       "      <th>39</th>\n",
       "      <td>3.0</td>\n",
       "      <td>14.000000</td>\n",
       "      <td>1.0</td>\n",
       "      <td>0.0</td>\n",
       "      <td>11.2417</td>\n",
       "      <td>female</td>\n",
       "      <td>B96 B98</td>\n",
       "    </tr>\n",
       "    <tr>\n",
       "      <th>223</th>\n",
       "      <td>3.0</td>\n",
       "      <td>29.456623</td>\n",
       "      <td>0.0</td>\n",
       "      <td>0.0</td>\n",
       "      <td>7.8958</td>\n",
       "      <td>male</td>\n",
       "      <td>B96 B98</td>\n",
       "    </tr>\n",
       "    <tr>\n",
       "      <th>591</th>\n",
       "      <td>1.0</td>\n",
       "      <td>52.000000</td>\n",
       "      <td>1.0</td>\n",
       "      <td>0.0</td>\n",
       "      <td>78.2667</td>\n",
       "      <td>female</td>\n",
       "      <td>D20</td>\n",
       "    </tr>\n",
       "    <tr>\n",
       "      <th>763</th>\n",
       "      <td>1.0</td>\n",
       "      <td>36.000000</td>\n",
       "      <td>1.0</td>\n",
       "      <td>2.0</td>\n",
       "      <td>120.0000</td>\n",
       "      <td>female</td>\n",
       "      <td>B96 B98</td>\n",
       "    </tr>\n",
       "    <tr>\n",
       "      <th>...</th>\n",
       "      <td>...</td>\n",
       "      <td>...</td>\n",
       "      <td>...</td>\n",
       "      <td>...</td>\n",
       "      <td>...</td>\n",
       "      <td>...</td>\n",
       "      <td>...</td>\n",
       "    </tr>\n",
       "    <tr>\n",
       "      <th>240</th>\n",
       "      <td>3.0</td>\n",
       "      <td>29.456623</td>\n",
       "      <td>1.0</td>\n",
       "      <td>0.0</td>\n",
       "      <td>14.4542</td>\n",
       "      <td>female</td>\n",
       "      <td>B96 B98</td>\n",
       "    </tr>\n",
       "    <tr>\n",
       "      <th>689</th>\n",
       "      <td>1.0</td>\n",
       "      <td>15.000000</td>\n",
       "      <td>0.0</td>\n",
       "      <td>1.0</td>\n",
       "      <td>211.3375</td>\n",
       "      <td>female</td>\n",
       "      <td>B5</td>\n",
       "    </tr>\n",
       "    <tr>\n",
       "      <th>624</th>\n",
       "      <td>3.0</td>\n",
       "      <td>21.000000</td>\n",
       "      <td>0.0</td>\n",
       "      <td>0.0</td>\n",
       "      <td>16.1000</td>\n",
       "      <td>male</td>\n",
       "      <td>B96 B98</td>\n",
       "    </tr>\n",
       "    <tr>\n",
       "      <th>173</th>\n",
       "      <td>3.0</td>\n",
       "      <td>21.000000</td>\n",
       "      <td>0.0</td>\n",
       "      <td>0.0</td>\n",
       "      <td>7.9250</td>\n",
       "      <td>male</td>\n",
       "      <td>B96 B98</td>\n",
       "    </tr>\n",
       "    <tr>\n",
       "      <th>220</th>\n",
       "      <td>3.0</td>\n",
       "      <td>16.000000</td>\n",
       "      <td>0.0</td>\n",
       "      <td>0.0</td>\n",
       "      <td>8.0500</td>\n",
       "      <td>male</td>\n",
       "      <td>B96 B98</td>\n",
       "    </tr>\n",
       "  </tbody>\n",
       "</table>\n",
       "<p>668 rows × 7 columns</p>\n",
       "</div>"
      ],
      "text/plain": [
       "     Pclass        Age  SibSp  Parch      Fare     Sex    Cabin\n",
       "221     2.0  27.000000    0.0    0.0   13.0000    male  B96 B98\n",
       "39      3.0  14.000000    1.0    0.0   11.2417  female  B96 B98\n",
       "223     3.0  29.456623    0.0    0.0    7.8958    male  B96 B98\n",
       "591     1.0  52.000000    1.0    0.0   78.2667  female      D20\n",
       "763     1.0  36.000000    1.0    2.0  120.0000  female  B96 B98\n",
       "..      ...        ...    ...    ...       ...     ...      ...\n",
       "240     3.0  29.456623    1.0    0.0   14.4542  female  B96 B98\n",
       "689     1.0  15.000000    0.0    1.0  211.3375  female       B5\n",
       "624     3.0  21.000000    0.0    0.0   16.1000    male  B96 B98\n",
       "173     3.0  21.000000    0.0    0.0    7.9250    male  B96 B98\n",
       "220     3.0  16.000000    0.0    0.0    8.0500    male  B96 B98\n",
       "\n",
       "[668 rows x 7 columns]"
      ]
     },
     "execution_count": 27,
     "metadata": {},
     "output_type": "execute_result"
    }
   ],
   "source": [
    "X_train_imputed"
   ]
  },
  {
   "cell_type": "markdown",
   "metadata": {
    "heading_collapsed": true,
    "hidden": true,
    "slideshow": {
     "slide_type": "slide"
    }
   },
   "source": [
    "## One-Hot Encoding"
   ]
  },
  {
   "cell_type": "markdown",
   "metadata": {
    "hidden": true,
    "slideshow": {
     "slide_type": "fragment"
    }
   },
   "source": [
    "Now that there are no missing values, convert all of the categorical features into numbers."
   ]
  },
  {
   "cell_type": "code",
   "execution_count": 28,
   "metadata": {
    "hidden": true,
    "slideshow": {
     "slide_type": "slide"
    }
   },
   "outputs": [],
   "source": [
    "def encode_and_concat_feature_train(X_train, feature_name):\n",
    "    \"\"\"\n",
    "    Helper function for transforming training data.  It takes in the full X dataframe and\n",
    "    feature name, makes a one-hot encoder, and returns the encoder as well as the dataframe\n",
    "    with that feature transformed into multiple columns of 1s and 0s\n",
    "    \"\"\"\n",
    "    # make a one-hot encoder and fit it to the training data\n",
    "    ohe = OneHotEncoder(categories=\"auto\", handle_unknown=\"ignore\")\n",
    "    single_feature_df = X_train[[feature_name]]\n",
    "    ohe.fit(single_feature_df)\n",
    "    \n",
    "    # call helper function that actually encodes the feature and concats it\n",
    "    X_train = encode_and_concat_feature(X_train, feature_name, ohe)\n",
    "    \n",
    "    return ohe, X_train"
   ]
  },
  {
   "cell_type": "code",
   "execution_count": 29,
   "metadata": {
    "hidden": true,
    "slideshow": {
     "slide_type": "slide"
    }
   },
   "outputs": [],
   "source": [
    "def encode_and_concat_feature(X, feature_name, ohe):\n",
    "    \"\"\"\n",
    "    Helper function for transforming a feature into multiple columns of 1s and 0s. Used\n",
    "    in both training and testing steps.  Takes in the full X dataframe, feature name, \n",
    "    and encoder, and returns the dataframe with that feature transformed into multiple\n",
    "    columns of 1s and 0s\n",
    "    \"\"\"\n",
    "    # create new one-hot encoded df based on the feature\n",
    "    single_feature_df = X[[feature_name]]\n",
    "    feature_array = ohe.transform(single_feature_df).toarray()\n",
    "    ohe_df = pd.DataFrame(feature_array, columns=ohe.categories_[0], index=X.index)\n",
    "    #ohe_df = pd.DataFrame(feature_array, columns=ohe.get_feature_names_out(), index=X.index)\n",
    "    # drop the old feature from X and concat the new one-hot encoded df\n",
    "    X = X.drop(feature_name, axis=1)\n",
    "    X = pd.concat([X, ohe_df], axis=1)\n",
    "    \n",
    "    return X"
   ]
  },
  {
   "cell_type": "code",
   "execution_count": 30,
   "metadata": {
    "cell_style": "center",
    "hidden": true,
    "slideshow": {
     "slide_type": "slide"
    }
   },
   "outputs": [],
   "source": [
    "categorical_feature_names = [\"Sex\", 'Cabin']\n",
    "\n",
    "\n",
    "\n",
    "encoders = {}\n",
    "\n",
    "for categorical_feature in categorical_feature_names:\n",
    "    ohe,X_train_imputed = encode_and_concat_feature_train(X_train_imputed, categorical_feature)\n",
    "    encoders[categorical_feature] = ohe"
   ]
  },
  {
   "cell_type": "code",
   "execution_count": 31,
   "metadata": {
    "hidden": true,
    "slideshow": {
     "slide_type": "fragment"
    }
   },
   "outputs": [
    {
     "data": {
      "text/plain": [
       "{'Sex': OneHotEncoder(handle_unknown='ignore'),\n",
       " 'Cabin': OneHotEncoder(handle_unknown='ignore')}"
      ]
     },
     "execution_count": 31,
     "metadata": {},
     "output_type": "execute_result"
    }
   ],
   "source": [
    "encoders"
   ]
  },
  {
   "cell_type": "code",
   "execution_count": 32,
   "metadata": {
    "hidden": true,
    "scrolled": true,
    "slideshow": {
     "slide_type": "slide"
    }
   },
   "outputs": [
    {
     "data": {
      "text/html": [
       "<div>\n",
       "<style scoped>\n",
       "    .dataframe tbody tr th:only-of-type {\n",
       "        vertical-align: middle;\n",
       "    }\n",
       "\n",
       "    .dataframe tbody tr th {\n",
       "        vertical-align: top;\n",
       "    }\n",
       "\n",
       "    .dataframe thead th {\n",
       "        text-align: right;\n",
       "    }\n",
       "</style>\n",
       "<table border=\"1\" class=\"dataframe\">\n",
       "  <thead>\n",
       "    <tr style=\"text-align: right;\">\n",
       "      <th></th>\n",
       "      <th>Pclass</th>\n",
       "      <th>Age</th>\n",
       "      <th>SibSp</th>\n",
       "      <th>Parch</th>\n",
       "      <th>Fare</th>\n",
       "      <th>female</th>\n",
       "      <th>male</th>\n",
       "      <th>A10</th>\n",
       "      <th>A14</th>\n",
       "      <th>A16</th>\n",
       "      <th>...</th>\n",
       "      <th>E8</th>\n",
       "      <th>F E69</th>\n",
       "      <th>F G63</th>\n",
       "      <th>F G73</th>\n",
       "      <th>F2</th>\n",
       "      <th>F33</th>\n",
       "      <th>F38</th>\n",
       "      <th>F4</th>\n",
       "      <th>G6</th>\n",
       "      <th>T</th>\n",
       "    </tr>\n",
       "  </thead>\n",
       "  <tbody>\n",
       "    <tr>\n",
       "      <th>221</th>\n",
       "      <td>2.0</td>\n",
       "      <td>27.000000</td>\n",
       "      <td>0.0</td>\n",
       "      <td>0.0</td>\n",
       "      <td>13.0000</td>\n",
       "      <td>0.0</td>\n",
       "      <td>1.0</td>\n",
       "      <td>0.0</td>\n",
       "      <td>0.0</td>\n",
       "      <td>0.0</td>\n",
       "      <td>...</td>\n",
       "      <td>0.0</td>\n",
       "      <td>0.0</td>\n",
       "      <td>0.0</td>\n",
       "      <td>0.0</td>\n",
       "      <td>0.0</td>\n",
       "      <td>0.0</td>\n",
       "      <td>0.0</td>\n",
       "      <td>0.0</td>\n",
       "      <td>0.0</td>\n",
       "      <td>0.0</td>\n",
       "    </tr>\n",
       "    <tr>\n",
       "      <th>39</th>\n",
       "      <td>3.0</td>\n",
       "      <td>14.000000</td>\n",
       "      <td>1.0</td>\n",
       "      <td>0.0</td>\n",
       "      <td>11.2417</td>\n",
       "      <td>1.0</td>\n",
       "      <td>0.0</td>\n",
       "      <td>0.0</td>\n",
       "      <td>0.0</td>\n",
       "      <td>0.0</td>\n",
       "      <td>...</td>\n",
       "      <td>0.0</td>\n",
       "      <td>0.0</td>\n",
       "      <td>0.0</td>\n",
       "      <td>0.0</td>\n",
       "      <td>0.0</td>\n",
       "      <td>0.0</td>\n",
       "      <td>0.0</td>\n",
       "      <td>0.0</td>\n",
       "      <td>0.0</td>\n",
       "      <td>0.0</td>\n",
       "    </tr>\n",
       "    <tr>\n",
       "      <th>223</th>\n",
       "      <td>3.0</td>\n",
       "      <td>29.456623</td>\n",
       "      <td>0.0</td>\n",
       "      <td>0.0</td>\n",
       "      <td>7.8958</td>\n",
       "      <td>0.0</td>\n",
       "      <td>1.0</td>\n",
       "      <td>0.0</td>\n",
       "      <td>0.0</td>\n",
       "      <td>0.0</td>\n",
       "      <td>...</td>\n",
       "      <td>0.0</td>\n",
       "      <td>0.0</td>\n",
       "      <td>0.0</td>\n",
       "      <td>0.0</td>\n",
       "      <td>0.0</td>\n",
       "      <td>0.0</td>\n",
       "      <td>0.0</td>\n",
       "      <td>0.0</td>\n",
       "      <td>0.0</td>\n",
       "      <td>0.0</td>\n",
       "    </tr>\n",
       "    <tr>\n",
       "      <th>591</th>\n",
       "      <td>1.0</td>\n",
       "      <td>52.000000</td>\n",
       "      <td>1.0</td>\n",
       "      <td>0.0</td>\n",
       "      <td>78.2667</td>\n",
       "      <td>1.0</td>\n",
       "      <td>0.0</td>\n",
       "      <td>0.0</td>\n",
       "      <td>0.0</td>\n",
       "      <td>0.0</td>\n",
       "      <td>...</td>\n",
       "      <td>0.0</td>\n",
       "      <td>0.0</td>\n",
       "      <td>0.0</td>\n",
       "      <td>0.0</td>\n",
       "      <td>0.0</td>\n",
       "      <td>0.0</td>\n",
       "      <td>0.0</td>\n",
       "      <td>0.0</td>\n",
       "      <td>0.0</td>\n",
       "      <td>0.0</td>\n",
       "    </tr>\n",
       "    <tr>\n",
       "      <th>763</th>\n",
       "      <td>1.0</td>\n",
       "      <td>36.000000</td>\n",
       "      <td>1.0</td>\n",
       "      <td>2.0</td>\n",
       "      <td>120.0000</td>\n",
       "      <td>1.0</td>\n",
       "      <td>0.0</td>\n",
       "      <td>0.0</td>\n",
       "      <td>0.0</td>\n",
       "      <td>0.0</td>\n",
       "      <td>...</td>\n",
       "      <td>0.0</td>\n",
       "      <td>0.0</td>\n",
       "      <td>0.0</td>\n",
       "      <td>0.0</td>\n",
       "      <td>0.0</td>\n",
       "      <td>0.0</td>\n",
       "      <td>0.0</td>\n",
       "      <td>0.0</td>\n",
       "      <td>0.0</td>\n",
       "      <td>0.0</td>\n",
       "    </tr>\n",
       "    <tr>\n",
       "      <th>...</th>\n",
       "      <td>...</td>\n",
       "      <td>...</td>\n",
       "      <td>...</td>\n",
       "      <td>...</td>\n",
       "      <td>...</td>\n",
       "      <td>...</td>\n",
       "      <td>...</td>\n",
       "      <td>...</td>\n",
       "      <td>...</td>\n",
       "      <td>...</td>\n",
       "      <td>...</td>\n",
       "      <td>...</td>\n",
       "      <td>...</td>\n",
       "      <td>...</td>\n",
       "      <td>...</td>\n",
       "      <td>...</td>\n",
       "      <td>...</td>\n",
       "      <td>...</td>\n",
       "      <td>...</td>\n",
       "      <td>...</td>\n",
       "      <td>...</td>\n",
       "    </tr>\n",
       "    <tr>\n",
       "      <th>240</th>\n",
       "      <td>3.0</td>\n",
       "      <td>29.456623</td>\n",
       "      <td>1.0</td>\n",
       "      <td>0.0</td>\n",
       "      <td>14.4542</td>\n",
       "      <td>1.0</td>\n",
       "      <td>0.0</td>\n",
       "      <td>0.0</td>\n",
       "      <td>0.0</td>\n",
       "      <td>0.0</td>\n",
       "      <td>...</td>\n",
       "      <td>0.0</td>\n",
       "      <td>0.0</td>\n",
       "      <td>0.0</td>\n",
       "      <td>0.0</td>\n",
       "      <td>0.0</td>\n",
       "      <td>0.0</td>\n",
       "      <td>0.0</td>\n",
       "      <td>0.0</td>\n",
       "      <td>0.0</td>\n",
       "      <td>0.0</td>\n",
       "    </tr>\n",
       "    <tr>\n",
       "      <th>689</th>\n",
       "      <td>1.0</td>\n",
       "      <td>15.000000</td>\n",
       "      <td>0.0</td>\n",
       "      <td>1.0</td>\n",
       "      <td>211.3375</td>\n",
       "      <td>1.0</td>\n",
       "      <td>0.0</td>\n",
       "      <td>0.0</td>\n",
       "      <td>0.0</td>\n",
       "      <td>0.0</td>\n",
       "      <td>...</td>\n",
       "      <td>0.0</td>\n",
       "      <td>0.0</td>\n",
       "      <td>0.0</td>\n",
       "      <td>0.0</td>\n",
       "      <td>0.0</td>\n",
       "      <td>0.0</td>\n",
       "      <td>0.0</td>\n",
       "      <td>0.0</td>\n",
       "      <td>0.0</td>\n",
       "      <td>0.0</td>\n",
       "    </tr>\n",
       "    <tr>\n",
       "      <th>624</th>\n",
       "      <td>3.0</td>\n",
       "      <td>21.000000</td>\n",
       "      <td>0.0</td>\n",
       "      <td>0.0</td>\n",
       "      <td>16.1000</td>\n",
       "      <td>0.0</td>\n",
       "      <td>1.0</td>\n",
       "      <td>0.0</td>\n",
       "      <td>0.0</td>\n",
       "      <td>0.0</td>\n",
       "      <td>...</td>\n",
       "      <td>0.0</td>\n",
       "      <td>0.0</td>\n",
       "      <td>0.0</td>\n",
       "      <td>0.0</td>\n",
       "      <td>0.0</td>\n",
       "      <td>0.0</td>\n",
       "      <td>0.0</td>\n",
       "      <td>0.0</td>\n",
       "      <td>0.0</td>\n",
       "      <td>0.0</td>\n",
       "    </tr>\n",
       "    <tr>\n",
       "      <th>173</th>\n",
       "      <td>3.0</td>\n",
       "      <td>21.000000</td>\n",
       "      <td>0.0</td>\n",
       "      <td>0.0</td>\n",
       "      <td>7.9250</td>\n",
       "      <td>0.0</td>\n",
       "      <td>1.0</td>\n",
       "      <td>0.0</td>\n",
       "      <td>0.0</td>\n",
       "      <td>0.0</td>\n",
       "      <td>...</td>\n",
       "      <td>0.0</td>\n",
       "      <td>0.0</td>\n",
       "      <td>0.0</td>\n",
       "      <td>0.0</td>\n",
       "      <td>0.0</td>\n",
       "      <td>0.0</td>\n",
       "      <td>0.0</td>\n",
       "      <td>0.0</td>\n",
       "      <td>0.0</td>\n",
       "      <td>0.0</td>\n",
       "    </tr>\n",
       "    <tr>\n",
       "      <th>220</th>\n",
       "      <td>3.0</td>\n",
       "      <td>16.000000</td>\n",
       "      <td>0.0</td>\n",
       "      <td>0.0</td>\n",
       "      <td>8.0500</td>\n",
       "      <td>0.0</td>\n",
       "      <td>1.0</td>\n",
       "      <td>0.0</td>\n",
       "      <td>0.0</td>\n",
       "      <td>0.0</td>\n",
       "      <td>...</td>\n",
       "      <td>0.0</td>\n",
       "      <td>0.0</td>\n",
       "      <td>0.0</td>\n",
       "      <td>0.0</td>\n",
       "      <td>0.0</td>\n",
       "      <td>0.0</td>\n",
       "      <td>0.0</td>\n",
       "      <td>0.0</td>\n",
       "      <td>0.0</td>\n",
       "      <td>0.0</td>\n",
       "    </tr>\n",
       "  </tbody>\n",
       "</table>\n",
       "<p>668 rows × 129 columns</p>\n",
       "</div>"
      ],
      "text/plain": [
       "     Pclass        Age  SibSp  Parch      Fare  female  male  A10  A14  A16  \\\n",
       "221     2.0  27.000000    0.0    0.0   13.0000     0.0   1.0  0.0  0.0  0.0   \n",
       "39      3.0  14.000000    1.0    0.0   11.2417     1.0   0.0  0.0  0.0  0.0   \n",
       "223     3.0  29.456623    0.0    0.0    7.8958     0.0   1.0  0.0  0.0  0.0   \n",
       "591     1.0  52.000000    1.0    0.0   78.2667     1.0   0.0  0.0  0.0  0.0   \n",
       "763     1.0  36.000000    1.0    2.0  120.0000     1.0   0.0  0.0  0.0  0.0   \n",
       "..      ...        ...    ...    ...       ...     ...   ...  ...  ...  ...   \n",
       "240     3.0  29.456623    1.0    0.0   14.4542     1.0   0.0  0.0  0.0  0.0   \n",
       "689     1.0  15.000000    0.0    1.0  211.3375     1.0   0.0  0.0  0.0  0.0   \n",
       "624     3.0  21.000000    0.0    0.0   16.1000     0.0   1.0  0.0  0.0  0.0   \n",
       "173     3.0  21.000000    0.0    0.0    7.9250     0.0   1.0  0.0  0.0  0.0   \n",
       "220     3.0  16.000000    0.0    0.0    8.0500     0.0   1.0  0.0  0.0  0.0   \n",
       "\n",
       "     ...   E8  F E69  F G63  F G73   F2  F33  F38   F4   G6    T  \n",
       "221  ...  0.0    0.0    0.0    0.0  0.0  0.0  0.0  0.0  0.0  0.0  \n",
       "39   ...  0.0    0.0    0.0    0.0  0.0  0.0  0.0  0.0  0.0  0.0  \n",
       "223  ...  0.0    0.0    0.0    0.0  0.0  0.0  0.0  0.0  0.0  0.0  \n",
       "591  ...  0.0    0.0    0.0    0.0  0.0  0.0  0.0  0.0  0.0  0.0  \n",
       "763  ...  0.0    0.0    0.0    0.0  0.0  0.0  0.0  0.0  0.0  0.0  \n",
       "..   ...  ...    ...    ...    ...  ...  ...  ...  ...  ...  ...  \n",
       "240  ...  0.0    0.0    0.0    0.0  0.0  0.0  0.0  0.0  0.0  0.0  \n",
       "689  ...  0.0    0.0    0.0    0.0  0.0  0.0  0.0  0.0  0.0  0.0  \n",
       "624  ...  0.0    0.0    0.0    0.0  0.0  0.0  0.0  0.0  0.0  0.0  \n",
       "173  ...  0.0    0.0    0.0    0.0  0.0  0.0  0.0  0.0  0.0  0.0  \n",
       "220  ...  0.0    0.0    0.0    0.0  0.0  0.0  0.0  0.0  0.0  0.0  \n",
       "\n",
       "[668 rows x 129 columns]"
      ]
     },
     "execution_count": 32,
     "metadata": {},
     "output_type": "execute_result"
    }
   ],
   "source": [
    "X_train_imputed"
   ]
  },
  {
   "cell_type": "markdown",
   "metadata": {
    "heading_collapsed": true,
    "slideshow": {
     "slide_type": "slide"
    }
   },
   "source": [
    "# 1st Model "
   ]
  },
  {
   "cell_type": "markdown",
   "metadata": {
    "hidden": true,
    "slideshow": {
     "slide_type": "fragment"
    }
   },
   "source": [
    "Let's run a logistic regression:"
   ]
  },
  {
   "cell_type": "code",
   "execution_count": 33,
   "metadata": {
    "hidden": true,
    "scrolled": true,
    "slideshow": {
     "slide_type": "fragment"
    }
   },
   "outputs": [
    {
     "name": "stderr",
     "output_type": "stream",
     "text": [
      "/opt/anaconda3/envs/learn-env/lib/python3.8/site-packages/sklearn/linear_model/_logistic.py:762: ConvergenceWarning: lbfgs failed to converge (status=1):\n",
      "STOP: TOTAL NO. of ITERATIONS REACHED LIMIT.\n",
      "\n",
      "Increase the number of iterations (max_iter) or scale the data as shown in:\n",
      "    https://scikit-learn.org/stable/modules/preprocessing.html\n",
      "Please also refer to the documentation for alternative solver options:\n",
      "    https://scikit-learn.org/stable/modules/linear_model.html#logistic-regression\n",
      "  n_iter_i = _check_optimize_result(\n"
     ]
    },
    {
     "data": {
      "text/plain": [
       "LogisticRegression(penalty='none', random_state=2022)"
      ]
     },
     "execution_count": 33,
     "metadata": {},
     "output_type": "execute_result"
    }
   ],
   "source": [
    "logreg_model = LogisticRegression(random_state=2022, penalty = 'none')\n",
    "logreg_model.fit(X_train_imputed, y_train)"
   ]
  },
  {
   "cell_type": "markdown",
   "metadata": {
    "hidden": true,
    "slideshow": {
     "slide_type": "fragment"
    }
   },
   "source": [
    "What happened there? \n"
   ]
  },
  {
   "cell_type": "markdown",
   "metadata": {
    "slideshow": {
     "slide_type": "slide"
    }
   },
   "source": [
    "Answer: it wasn't able to find the minimum with this number of steps in gradient descent."
   ]
  },
  {
   "cell_type": "markdown",
   "metadata": {
    "heading_collapsed": true,
    "hidden": true,
    "slideshow": {
     "slide_type": "slide"
    }
   },
   "source": [
    "## Hyperparameter Adjustments to the Model"
   ]
  },
  {
   "cell_type": "markdown",
   "metadata": {
    "hidden": true,
    "slideshow": {
     "slide_type": "fragment"
    }
   },
   "source": [
    "Let's try a couple of stopgap measures to get the model to run."
   ]
  },
  {
   "cell_type": "markdown",
   "metadata": {
    "heading_collapsed": true,
    "hidden": true,
    "slideshow": {
     "slide_type": "fragment"
    }
   },
   "source": [
    "### More Iterations"
   ]
  },
  {
   "cell_type": "markdown",
   "metadata": {
    "hidden": true,
    "slideshow": {
     "slide_type": "fragment"
    }
   },
   "source": [
    "Allows for more iterations to find a solution"
   ]
  },
  {
   "cell_type": "code",
   "execution_count": 34,
   "metadata": {
    "hidden": true,
    "slideshow": {
     "slide_type": "slide"
    }
   },
   "outputs": [
    {
     "data": {
      "text/plain": [
       "LogisticRegression(max_iter=5000, penalty='none', random_state=2022)"
      ]
     },
     "execution_count": 34,
     "metadata": {},
     "output_type": "execute_result"
    }
   ],
   "source": [
    "logreg_model_more_iterations = LogisticRegression(\n",
    "                                                random_state=2022, \n",
    "                                                penalty='none', \n",
    "                                                max_iter=5000\n",
    ")\n",
    "logreg_model_more_iterations.fit(X_train_imputed, y_train)"
   ]
  },
  {
   "cell_type": "markdown",
   "metadata": {
    "heading_collapsed": true,
    "hidden": true,
    "slideshow": {
     "slide_type": "slide"
    }
   },
   "source": [
    "### More Regularization"
   ]
  },
  {
   "cell_type": "markdown",
   "metadata": {
    "hidden": true,
    "slideshow": {
     "slide_type": "fragment"
    }
   },
   "source": [
    "Remember that the `C` parameter is the inverse of the regularization strength."
   ]
  },
  {
   "cell_type": "markdown",
   "metadata": {
    "hidden": true,
    "slideshow": {
     "slide_type": "fragment"
    }
   },
   "source": [
    "> Note: We could do regularization but we should first scale our features. We're actually going to skip this hyperparameter until we scale our data "
   ]
  },
  {
   "cell_type": "markdown",
   "metadata": {
    "heading_collapsed": true,
    "hidden": true,
    "slideshow": {
     "slide_type": "slide"
    }
   },
   "source": [
    "### Higher Tolerance"
   ]
  },
  {
   "cell_type": "markdown",
   "metadata": {
    "hidden": true,
    "slideshow": {
     "slide_type": "fragment"
    }
   },
   "source": [
    "A higher tolerance means that the model will stop training earlier (when predictions and true values aren't as close as they could be)."
   ]
  },
  {
   "cell_type": "code",
   "execution_count": 35,
   "metadata": {
    "hidden": true,
    "scrolled": true,
    "slideshow": {
     "slide_type": "fragment"
    }
   },
   "outputs": [
    {
     "data": {
      "text/plain": [
       "LogisticRegression(penalty='none', random_state=2022, tol=25)"
      ]
     },
     "execution_count": 35,
     "metadata": {},
     "output_type": "execute_result"
    }
   ],
   "source": [
    "logreg_model_higher_tolerance = LogisticRegression(\n",
    "                                                random_state=2022, \n",
    "                                                penalty='none', \n",
    "                                                tol=25\n",
    ")\n",
    "logreg_model_higher_tolerance.fit(X_train_imputed, y_train)"
   ]
  },
  {
   "cell_type": "markdown",
   "metadata": {
    "heading_collapsed": true,
    "hidden": true,
    "slideshow": {
     "slide_type": "slide"
    }
   },
   "source": [
    "## Model Evaluation"
   ]
  },
  {
   "cell_type": "code",
   "execution_count": 39,
   "metadata": {
    "hidden": true,
    "slideshow": {
     "slide_type": "fragment"
    }
   },
   "outputs": [
    {
     "data": {
      "image/png": "[encoded data removed]",
      "text/plain": [
       "<Figure size 1080x432 with 4 Axes>"
      ]
     },
     "metadata": {
      "needs_background": "light"
     },
     "output_type": "display_data"
    }
   ],
   "source": [
    "fix, axes = plt.subplots(nrows=1, ncols=2, figsize=(15, 6))\n",
    "\n",
    "axes[0].set_title(\"More Iterations\")\n",
    "axes[1].set_title(\"Higher Tolerance\")\n",
    "\n",
    "plot_confusion_matrix(logreg_model_more_iterations, X_train_imputed, y_train, ax=axes[0], cmap=\"plasma\")\n",
    "plot_confusion_matrix(logreg_model_higher_tolerance, X_train_imputed, y_train, ax=axes[1], cmap=\"plasma\");\n",
    "\n",
    "#ConfusionMatrixDisplay.from_estimator(logreg_model_more_iterations, X_train_imputed, y_train, ax=axes[0], cmap=\"plasma\")\n",
    "#ConfusionMatrixDisplay.from_estimator(logreg_model_higher_tolerance, X_train_imputed, y_train, ax=axes[1], cmap=\"plasma\");"
   ]
  },
  {
   "cell_type": "code",
   "execution_count": 40,
   "metadata": {
    "slideshow": {
     "slide_type": "slide"
    }
   },
   "outputs": [],
   "source": [
    "class ModelWithCV():\n",
    "    '''Structure to save the model and more easily see its crossvalidation'''\n",
    "    \n",
    "    def __init__(self, model, model_name, X, y, cv_now=True):\n",
    "        self.model = model\n",
    "        self.name = model_name\n",
    "        self.X = X\n",
    "        self.y = y\n",
    "        # For CV results\n",
    "        self.cv_results = None\n",
    "        self.cv_mean = None\n",
    "        self.cv_median = None\n",
    "        self.cv_std = None\n",
    "        #\n",
    "        if cv_now:\n",
    "            self.cross_validate()\n",
    "        \n",
    "    def cross_validate(self, X=None, y=None, kfolds=10):\n",
    "        '''\n",
    "        Perform cross-validation and return results.\n",
    "        \n",
    "        Args: \n",
    "          X:\n",
    "            Optional; Training data to perform CV on. Otherwise use X from object\n",
    "          y:\n",
    "            Optional; Training data to perform CV on. Otherwise use y from object\n",
    "          kfolds:\n",
    "            Optional; Number of folds for CV (default is 10)  \n",
    "        '''\n",
    "        \n",
    "        cv_X = X if X else self.X\n",
    "        cv_y = y if y else self.y\n",
    "\n",
    "        self.cv_results = cross_val_score(self.model, cv_X, cv_y, cv=kfolds)\n",
    "        self.cv_mean = np.mean(self.cv_results)\n",
    "        self.cv_median = np.median(self.cv_results)\n",
    "        self.cv_std = np.std(self.cv_results)\n",
    "\n",
    "        \n",
    "    def print_cv_summary(self):\n",
    "        cv_summary = (\n",
    "        f'''CV Results for `{self.name}` model:\n",
    "            {self.cv_mean:.5f} ± {self.cv_std:.5f} accuracy\n",
    "        ''')\n",
    "        print(cv_summary)\n",
    "\n",
    "        \n",
    "    def plot_cv(self, ax):\n",
    "        '''\n",
    "        Plot the cross-validation values using the array of results and given \n",
    "        Axis for plotting.\n",
    "        '''\n",
    "        ax.set_title(f'CV Results for `{self.name}` Model')\n",
    "        # Thinner violinplot with higher bw\n",
    "        sns.violinplot(y=self.cv_results, ax=ax, bw=.4)\n",
    "        sns.swarmplot(\n",
    "                y=self.cv_results,\n",
    "                color='orange',\n",
    "                size=10,\n",
    "                alpha= 0.8,\n",
    "                ax=ax\n",
    "        )\n",
    "\n",
    "        return ax"
   ]
  },
  {
   "cell_type": "code",
   "execution_count": 41,
   "metadata": {
    "hidden": true,
    "slideshow": {
     "slide_type": "slide"
    }
   },
   "outputs": [],
   "source": [
    "logreg_model_more_iterations_results = ModelWithCV(\n",
    "                                        logreg_model_more_iterations,\n",
    "                                        'more_iterations',\n",
    "                                        X_train_imputed,\n",
    "                                        y_train\n",
    ")\n",
    "    \n",
    "logreg_model_higher_tolerance_results = ModelWithCV(\n",
    "                                        logreg_model_higher_tolerance,\n",
    "                                        'higher_tolerance',\n",
    "                                        X_train_imputed,\n",
    "                                        y_train\n",
    ")\n",
    "\n",
    "model_results = [\n",
    "    logreg_model_more_iterations_results,\n",
    "    logreg_model_higher_tolerance_results\n",
    "]\n",
    "\n",
    "\n",
    "\n"
   ]
  },
  {
   "cell_type": "code",
   "execution_count": 42,
   "metadata": {
    "hidden": true,
    "slideshow": {
     "slide_type": "slide"
    }
   },
   "outputs": [
    {
     "name": "stdout",
     "output_type": "stream",
     "text": [
      "CV Results for `more_iterations` model:\n",
      "            0.76508 ± 0.06404 accuracy\n",
      "        \n",
      "CV Results for `higher_tolerance` model:\n",
      "            0.77849 ± 0.07414 accuracy\n",
      "        \n"
     ]
    },
    {
     "data": {
      "image/png": "[encoded data removed]",
      "text/plain": [
       "<Figure size 864x432 with 2 Axes>"
      ]
     },
     "metadata": {
      "needs_background": "light"
     },
     "output_type": "display_data"
    }
   ],
   "source": [
    "f,axes = plt.subplots(ncols=2, sharey=True, figsize=(12, 6))\n",
    "\n",
    "for ax, result in zip(axes, model_results):\n",
    "    ax = result.plot_cv(ax)\n",
    "    result.print_cv_summary()\n",
    "plt.tight_layout();"
   ]
  },
  {
   "cell_type": "code",
   "execution_count": 45,
   "metadata": {
    "hidden": true,
    "slideshow": {
     "slide_type": "slide"
    }
   },
   "outputs": [
    {
     "data": {
      "image/png": "[encoded data removed]",
      "text/plain": [
       "<Figure size 432x288 with 1 Axes>"
      ]
     },
     "metadata": {
      "needs_background": "light"
     },
     "output_type": "display_data"
    }
   ],
   "source": [
    "fig, ax = plt.subplots()\n",
    "\n",
    "plot_roc_curve(logreg_model_more_iterations, X_train_imputed, y_train, name='logreg_model_more_iterations', ax=ax)\n",
    "plot_roc_curve(logreg_model_higher_tolerance, X_train_imputed, y_train, name='logreg_model_higher_tolerance', ax=ax);\n",
    "\n",
    "#RocCurveDisplay.from_estimator(logreg_model_more_iterations, X_train_imputed, y_train, \n",
    "                #name='logreg_model_more_iterations', ax=ax)\n",
    "#RocCurveDisplay.from_estimator(logreg_model_higher_tolerance, X_train_imputed, y_train, \n",
    "               #name='logreg_model_higher_tolerance', ax=ax);\n",
    "\n"
   ]
  },
  {
   "cell_type": "markdown",
   "metadata": {
    "heading_collapsed": true,
    "slideshow": {
     "slide_type": "slide"
    }
   },
   "source": [
    "# Even More Data Preparation - Scaling"
   ]
  },
  {
   "cell_type": "markdown",
   "metadata": {
    "hidden": true,
    "slideshow": {
     "slide_type": "fragment"
    }
   },
   "source": [
    "However, recall we should scale all of the features, so the model isn't overly penalizing age and fare."
   ]
  },
  {
   "cell_type": "code",
   "execution_count": 46,
   "metadata": {
    "hidden": true,
    "slideshow": {
     "slide_type": "slide"
    }
   },
   "outputs": [
    {
     "data": {
      "text/plain": [
       "StandardScaler()"
      ]
     },
     "execution_count": 46,
     "metadata": {},
     "output_type": "execute_result"
    }
   ],
   "source": [
    "#We need to perform Feature Scaling when we are dealing with Gradient Descent Based algorithms (Linear and Logistic Regression, Neural Network) \n",
    "\n",
    "scaler = StandardScaler()\n",
    "\n",
    "scaler.fit(X_train_imputed)"
   ]
  },
  {
   "cell_type": "code",
   "execution_count": 47,
   "metadata": {
    "hidden": true,
    "slideshow": {
     "slide_type": "fragment"
    }
   },
   "outputs": [],
   "source": [
    "def scale_values(X, scaler):\n",
    "    \"\"\"\n",
    "    Given a DataFrame and a fitted scaler, use the scaler to scale all of the features\n",
    "    \"\"\"\n",
    "    scaled_array = scaler.transform(X)\n",
    "    scaled_df = pd.DataFrame(scaled_array, columns=X.columns, index=X.index)\n",
    "    return scaled_df"
   ]
  },
  {
   "cell_type": "code",
   "execution_count": 48,
   "metadata": {
    "hidden": true,
    "slideshow": {
     "slide_type": "slide"
    }
   },
   "outputs": [],
   "source": [
    "X_train_scaled = scale_values(X_train_imputed, scaler)"
   ]
  },
  {
   "cell_type": "code",
   "execution_count": 49,
   "metadata": {
    "hidden": true,
    "slideshow": {
     "slide_type": "fragment"
    }
   },
   "outputs": [
    {
     "data": {
      "text/html": [
       "<div>\n",
       "<style scoped>\n",
       "    .dataframe tbody tr th:only-of-type {\n",
       "        vertical-align: middle;\n",
       "    }\n",
       "\n",
       "    .dataframe tbody tr th {\n",
       "        vertical-align: top;\n",
       "    }\n",
       "\n",
       "    .dataframe thead th {\n",
       "        text-align: right;\n",
       "    }\n",
       "</style>\n",
       "<table border=\"1\" class=\"dataframe\">\n",
       "  <thead>\n",
       "    <tr style=\"text-align: right;\">\n",
       "      <th></th>\n",
       "      <th>Pclass</th>\n",
       "      <th>Age</th>\n",
       "      <th>SibSp</th>\n",
       "      <th>Parch</th>\n",
       "      <th>Fare</th>\n",
       "      <th>female</th>\n",
       "      <th>male</th>\n",
       "      <th>A10</th>\n",
       "      <th>A14</th>\n",
       "      <th>A16</th>\n",
       "      <th>...</th>\n",
       "      <th>E8</th>\n",
       "      <th>F E69</th>\n",
       "      <th>F G63</th>\n",
       "      <th>F G73</th>\n",
       "      <th>F2</th>\n",
       "      <th>F33</th>\n",
       "      <th>F38</th>\n",
       "      <th>F4</th>\n",
       "      <th>G6</th>\n",
       "      <th>T</th>\n",
       "    </tr>\n",
       "  </thead>\n",
       "  <tbody>\n",
       "    <tr>\n",
       "      <th>221</th>\n",
       "      <td>-0.348729</td>\n",
       "      <td>-1.892053e-01</td>\n",
       "      <td>-0.472880</td>\n",
       "      <td>-0.485799</td>\n",
       "      <td>-0.381921</td>\n",
       "      <td>-0.743968</td>\n",
       "      <td>0.743968</td>\n",
       "      <td>-0.03872</td>\n",
       "      <td>-0.03872</td>\n",
       "      <td>-0.03872</td>\n",
       "      <td>...</td>\n",
       "      <td>-0.0548</td>\n",
       "      <td>-0.03872</td>\n",
       "      <td>-0.03872</td>\n",
       "      <td>-0.0548</td>\n",
       "      <td>-0.067166</td>\n",
       "      <td>-0.067166</td>\n",
       "      <td>-0.03872</td>\n",
       "      <td>-0.03872</td>\n",
       "      <td>-0.0548</td>\n",
       "      <td>-0.03872</td>\n",
       "    </tr>\n",
       "    <tr>\n",
       "      <th>39</th>\n",
       "      <td>0.845891</td>\n",
       "      <td>-1.190445e+00</td>\n",
       "      <td>0.442725</td>\n",
       "      <td>-0.485799</td>\n",
       "      <td>-0.414974</td>\n",
       "      <td>1.344144</td>\n",
       "      <td>-1.344144</td>\n",
       "      <td>-0.03872</td>\n",
       "      <td>-0.03872</td>\n",
       "      <td>-0.03872</td>\n",
       "      <td>...</td>\n",
       "      <td>-0.0548</td>\n",
       "      <td>-0.03872</td>\n",
       "      <td>-0.03872</td>\n",
       "      <td>-0.0548</td>\n",
       "      <td>-0.067166</td>\n",
       "      <td>-0.067166</td>\n",
       "      <td>-0.03872</td>\n",
       "      <td>-0.03872</td>\n",
       "      <td>-0.0548</td>\n",
       "      <td>-0.03872</td>\n",
       "    </tr>\n",
       "    <tr>\n",
       "      <th>223</th>\n",
       "      <td>0.845891</td>\n",
       "      <td>-5.472489e-16</td>\n",
       "      <td>-0.472880</td>\n",
       "      <td>-0.485799</td>\n",
       "      <td>-0.477873</td>\n",
       "      <td>-0.743968</td>\n",
       "      <td>0.743968</td>\n",
       "      <td>-0.03872</td>\n",
       "      <td>-0.03872</td>\n",
       "      <td>-0.03872</td>\n",
       "      <td>...</td>\n",
       "      <td>-0.0548</td>\n",
       "      <td>-0.03872</td>\n",
       "      <td>-0.03872</td>\n",
       "      <td>-0.0548</td>\n",
       "      <td>-0.067166</td>\n",
       "      <td>-0.067166</td>\n",
       "      <td>-0.03872</td>\n",
       "      <td>-0.03872</td>\n",
       "      <td>-0.0548</td>\n",
       "      <td>-0.03872</td>\n",
       "    </tr>\n",
       "    <tr>\n",
       "      <th>591</th>\n",
       "      <td>-1.543349</td>\n",
       "      <td>1.736256e+00</td>\n",
       "      <td>0.442725</td>\n",
       "      <td>-0.485799</td>\n",
       "      <td>0.845004</td>\n",
       "      <td>1.344144</td>\n",
       "      <td>-1.344144</td>\n",
       "      <td>-0.03872</td>\n",
       "      <td>-0.03872</td>\n",
       "      <td>-0.03872</td>\n",
       "      <td>...</td>\n",
       "      <td>-0.0548</td>\n",
       "      <td>-0.03872</td>\n",
       "      <td>-0.03872</td>\n",
       "      <td>-0.0548</td>\n",
       "      <td>-0.067166</td>\n",
       "      <td>-0.067166</td>\n",
       "      <td>-0.03872</td>\n",
       "      <td>-0.03872</td>\n",
       "      <td>-0.0548</td>\n",
       "      <td>-0.03872</td>\n",
       "    </tr>\n",
       "    <tr>\n",
       "      <th>763</th>\n",
       "      <td>-1.543349</td>\n",
       "      <td>5.039607e-01</td>\n",
       "      <td>0.442725</td>\n",
       "      <td>2.010460</td>\n",
       "      <td>1.629533</td>\n",
       "      <td>1.344144</td>\n",
       "      <td>-1.344144</td>\n",
       "      <td>-0.03872</td>\n",
       "      <td>-0.03872</td>\n",
       "      <td>-0.03872</td>\n",
       "      <td>...</td>\n",
       "      <td>-0.0548</td>\n",
       "      <td>-0.03872</td>\n",
       "      <td>-0.03872</td>\n",
       "      <td>-0.0548</td>\n",
       "      <td>-0.067166</td>\n",
       "      <td>-0.067166</td>\n",
       "      <td>-0.03872</td>\n",
       "      <td>-0.03872</td>\n",
       "      <td>-0.0548</td>\n",
       "      <td>-0.03872</td>\n",
       "    </tr>\n",
       "  </tbody>\n",
       "</table>\n",
       "<p>5 rows × 129 columns</p>\n",
       "</div>"
      ],
      "text/plain": [
       "       Pclass           Age     SibSp     Parch      Fare    female      male  \\\n",
       "221 -0.348729 -1.892053e-01 -0.472880 -0.485799 -0.381921 -0.743968  0.743968   \n",
       "39   0.845891 -1.190445e+00  0.442725 -0.485799 -0.414974  1.344144 -1.344144   \n",
       "223  0.845891 -5.472489e-16 -0.472880 -0.485799 -0.477873 -0.743968  0.743968   \n",
       "591 -1.543349  1.736256e+00  0.442725 -0.485799  0.845004  1.344144 -1.344144   \n",
       "763 -1.543349  5.039607e-01  0.442725  2.010460  1.629533  1.344144 -1.344144   \n",
       "\n",
       "         A10      A14      A16  ...      E8    F E69    F G63   F G73  \\\n",
       "221 -0.03872 -0.03872 -0.03872  ... -0.0548 -0.03872 -0.03872 -0.0548   \n",
       "39  -0.03872 -0.03872 -0.03872  ... -0.0548 -0.03872 -0.03872 -0.0548   \n",
       "223 -0.03872 -0.03872 -0.03872  ... -0.0548 -0.03872 -0.03872 -0.0548   \n",
       "591 -0.03872 -0.03872 -0.03872  ... -0.0548 -0.03872 -0.03872 -0.0548   \n",
       "763 -0.03872 -0.03872 -0.03872  ... -0.0548 -0.03872 -0.03872 -0.0548   \n",
       "\n",
       "           F2       F33      F38       F4      G6        T  \n",
       "221 -0.067166 -0.067166 -0.03872 -0.03872 -0.0548 -0.03872  \n",
       "39  -0.067166 -0.067166 -0.03872 -0.03872 -0.0548 -0.03872  \n",
       "223 -0.067166 -0.067166 -0.03872 -0.03872 -0.0548 -0.03872  \n",
       "591 -0.067166 -0.067166 -0.03872 -0.03872 -0.0548 -0.03872  \n",
       "763 -0.067166 -0.067166 -0.03872 -0.03872 -0.0548 -0.03872  \n",
       "\n",
       "[5 rows x 129 columns]"
      ]
     },
     "execution_count": 49,
     "metadata": {},
     "output_type": "execute_result"
    }
   ],
   "source": [
    "X_train_scaled.head()"
   ]
  },
  {
   "cell_type": "markdown",
   "metadata": {
    "heading_collapsed": true,
    "slideshow": {
     "slide_type": "slide"
    }
   },
   "source": [
    "# 3rd Model - After Scaling"
   ]
  },
  {
   "cell_type": "markdown",
   "metadata": {
    "hidden": true,
    "slideshow": {
     "slide_type": "fragment"
    }
   },
   "source": [
    "Now that the data is scaled, let's see if we can fit the model without tweaking any hyperparameters."
   ]
  },
  {
   "cell_type": "code",
   "execution_count": 50,
   "metadata": {
    "hidden": true,
    "slideshow": {
     "slide_type": "fragment"
    }
   },
   "outputs": [
    {
     "data": {
      "text/plain": [
       "LogisticRegression(random_state=2022)"
      ]
     },
     "execution_count": 50,
     "metadata": {},
     "output_type": "execute_result"
    }
   ],
   "source": [
    "logreg_model = LogisticRegression(random_state=2022)\n",
    "logreg_model.fit(X_train_scaled, y_train)"
   ]
  },
  {
   "cell_type": "markdown",
   "metadata": {
    "heading_collapsed": true,
    "hidden": true,
    "slideshow": {
     "slide_type": "slide"
    }
   },
   "source": [
    "## Model Evaluation, Part 4"
   ]
  },
  {
   "cell_type": "markdown",
   "metadata": {
    "hidden": true,
    "slideshow": {
     "slide_type": "fragment"
    }
   },
   "source": [
    "Now that we are able to run a logistic regression with default hyperparameters, let's see how that performs."
   ]
  },
  {
   "cell_type": "code",
   "execution_count": 51,
   "metadata": {
    "hidden": true,
    "scrolled": true,
    "slideshow": {
     "slide_type": "slide"
    }
   },
   "outputs": [
    {
     "data": {
      "image/png": "[encoded data removed]",
      "text/plain": [
       "<Figure size 432x288 with 2 Axes>"
      ]
     },
     "metadata": {
      "needs_background": "light"
     },
     "output_type": "display_data"
    }
   ],
   "source": [
    "fig, ax = plt.subplots()\n",
    "\n",
    "fig.suptitle(\"Logistic Regression with Features Scaled\")\n",
    "\n",
    "plot_confusion_matrix(logreg_model, X_train_scaled, y_train, ax=ax, cmap=\"plasma\");\n",
    "#ConfusionMatrixDisplay.from_estimator(logreg_model, X_train_scaled, y_train, ax=ax, cmap=\"plasma\");"
   ]
  },
  {
   "cell_type": "code",
   "execution_count": 52,
   "metadata": {
    "hidden": true,
    "slideshow": {
     "slide_type": "fragment"
    }
   },
   "outputs": [],
   "source": [
    "scaled_features_results = ModelWithCV(\n",
    "                            logreg_model,\n",
    "                            'scaled_features',\n",
    "                            X_train_scaled,\n",
    "                            y_train\n",
    ")"
   ]
  },
  {
   "cell_type": "code",
   "execution_count": 53,
   "metadata": {
    "cell_style": "split",
    "hidden": true,
    "slideshow": {
     "slide_type": "slide"
    }
   },
   "outputs": [
    {
     "name": "stdout",
     "output_type": "stream",
     "text": [
      "CV Results for `scaled_features` model:\n",
      "            0.78152 ± 0.05015 accuracy\n",
      "        \n"
     ]
    },
    {
     "data": {
      "image/png": "[encoded data removed]",
      "text/plain": [
       "<Figure size 432x288 with 1 Axes>"
      ]
     },
     "metadata": {
      "needs_background": "light"
     },
     "output_type": "display_data"
    }
   ],
   "source": [
    "# Saving variable for convenience\n",
    "model_results = scaled_features_results\n",
    "\n",
    "# Plot CV results\n",
    "fig, ax = plt.subplots()\n",
    "ax = model_results.plot_cv(ax)\n",
    "plt.tight_layout();\n",
    "# Print CV results\n",
    "model_results.print_cv_summary()"
   ]
  },
  {
   "cell_type": "code",
   "execution_count": 55,
   "metadata": {
    "cell_style": "split",
    "hidden": true,
    "slideshow": {
     "slide_type": "fragment"
    }
   },
   "outputs": [
    {
     "data": {
      "text/plain": [
       "<sklearn.metrics._plot.roc_curve.RocCurveDisplay at 0x119ebed60>"
      ]
     },
     "execution_count": 55,
     "metadata": {},
     "output_type": "execute_result"
    },
    {
     "data": {
      "image/png": "[encoded data removed]",
      "text/plain": [
       "<Figure size 432x288 with 1 Axes>"
      ]
     },
     "metadata": {
      "needs_background": "light"
     },
     "output_type": "display_data"
    }
   ],
   "source": [
    "plot_roc_curve(logreg_model, X_train_scaled, y_train)\n",
    "#RocCurveDisplay.from_estimator(logreg_model, X_train_scaled, y_train);"
   ]
  },
  {
   "cell_type": "markdown",
   "metadata": {
    "hidden": true,
    "slideshow": {
     "slide_type": "fragment"
    }
   },
   "source": [
    "... this might be overfitting."
   ]
  },
  {
   "cell_type": "markdown",
   "metadata": {
    "heading_collapsed": true,
    "hidden": true,
    "slideshow": {
     "slide_type": "slide"
    }
   },
   "source": [
    "## Hyperparameter Adjustment"
   ]
  },
  {
   "cell_type": "markdown",
   "metadata": {
    "heading_collapsed": true,
    "hidden": true,
    "slideshow": {
     "slide_type": "fragment"
    }
   },
   "source": [
    "### Different Regularization Strengths"
   ]
  },
  {
   "cell_type": "markdown",
   "metadata": {
    "hidden": true,
    "slideshow": {
     "slide_type": "fragment"
    }
   },
   "source": [
    "Let's try out some different regularization penalties to see if we can improve the test data score a bit."
   ]
  },
  {
   "cell_type": "code",
   "execution_count": 56,
   "metadata": {
    "cell_style": "center",
    "hidden": true,
    "slideshow": {
     "slide_type": "slide"
    }
   },
   "outputs": [
    {
     "name": "stdout",
     "output_type": "stream",
     "text": [
      "CV Results for `scaled_features_c1.000000e-04` model:\n",
      "            0.60778 ± 0.00584 accuracy\n",
      "        \n",
      "CV Results for `scaled_features_c1.000000e-03` model:\n",
      "            0.70513 ± 0.03921 accuracy\n",
      "        \n",
      "CV Results for `scaled_features_c1.000000e-02` model:\n",
      "            0.79493 ± 0.07027 accuracy\n",
      "        \n",
      "CV Results for `scaled_features_c1.000000e-01` model:\n",
      "            0.78747 ± 0.05356 accuracy\n",
      "        \n",
      "CV Results for `scaled_features_c1.000000e+00` model:\n",
      "            0.78152 ± 0.05015 accuracy\n",
      "        \n"
     ]
    }
   ],
   "source": [
    "model_results = [scaled_features_results]\n",
    "C_values = [0.0001, 0.001, 0.01, 0.1, 1]\n",
    "\n",
    "for c in C_values:\n",
    "    logreg_model = LogisticRegression(random_state=2022, C=c) #solver = \"liblinear\"\n",
    "    logreg_model.fit(X_train_scaled, y_train)\n",
    "    # Save Results\n",
    "    new_model_results = ModelWithCV(\n",
    "                            logreg_model,\n",
    "                            f'scaled_features_c{c:e}',\n",
    "                            X_train_scaled,\n",
    "                            y_train\n",
    "    )\n",
    "    model_results.append(new_model_results)\n",
    "    new_model_results.print_cv_summary()"
   ]
  },
  {
   "cell_type": "code",
   "execution_count": 57,
   "metadata": {
    "hidden": true,
    "scrolled": false,
    "slideshow": {
     "slide_type": "slide"
    }
   },
   "outputs": [
    {
     "data": {
      "image/png": "[encoded data removed]",
      "text/plain": [
       "<Figure size 1296x864 with 6 Axes>"
      ]
     },
     "metadata": {
      "needs_background": "light"
     },
     "output_type": "display_data"
    }
   ],
   "source": [
    "f,axes = plt.subplots(ncols=3, nrows=2, sharey='all', figsize=(18, 12))\n",
    "\n",
    "for ax,result in zip(axes.ravel(),model_results):\n",
    "    ax = result.plot_cv(ax)\n",
    "\n",
    "plt.tight_layout();"
   ]
  },
  {
   "cell_type": "markdown",
   "metadata": {
    "hidden": true,
    "slideshow": {
     "slide_type": "slide"
    }
   },
   "source": [
    "It looks like C = .01 value is pretty optimal for this solver."
   ]
  },
  {
   "cell_type": "code",
   "execution_count": 59,
   "metadata": {
    "hidden": true,
    "slideshow": {
     "slide_type": "fragment"
    }
   },
   "outputs": [],
   "source": [
    "model_results = [scaled_features_results]\n",
    "scaled_features_cross_val_score = scaled_features_results.cv_results"
   ]
  },
  {
   "cell_type": "markdown",
   "metadata": {
    "heading_collapsed": true,
    "hidden": true,
    "slideshow": {
     "slide_type": "slide"
    }
   },
   "source": [
    "### Different Solvers"
   ]
  },
  {
   "cell_type": "code",
   "execution_count": 60,
   "metadata": {
    "slideshow": {
     "slide_type": "fragment"
    }
   },
   "outputs": [
    {
     "name": "stdout",
     "output_type": "stream",
     "text": [
      "CV Results for `l2` model:\n",
      "            0.79493 ± 0.07027 accuracy\n",
      "        \n"
     ]
    }
   ],
   "source": [
    "logreg_model = LogisticRegression(random_state=2022, C=0.01)\n",
    "logreg_model.fit(X_train_scaled, y_train)\n",
    "ModelWithCV(logreg_model, \"l2\", X_train_scaled, y_train).print_cv_summary()"
   ]
  },
  {
   "cell_type": "code",
   "execution_count": 61,
   "metadata": {
    "hidden": true,
    "slideshow": {
     "slide_type": "fragment"
    }
   },
   "outputs": [
    {
     "name": "stdout",
     "output_type": "stream",
     "text": [
      "CV Results for `liblinear` model:\n",
      "            0.78299 ± 0.07514 accuracy\n",
      "        \n"
     ]
    }
   ],
   "source": [
    "logreg_model = LogisticRegression(random_state=2022, solver=\"liblinear\", C=.01)\n",
    "logreg_model.fit(X_train_scaled, y_train)\n",
    "ModelWithCV(logreg_model, \"liblinear\", X_train_scaled, y_train).print_cv_summary()\n"
   ]
  },
  {
   "cell_type": "code",
   "execution_count": 62,
   "metadata": {
    "hidden": true,
    "slideshow": {
     "slide_type": "slide"
    }
   },
   "outputs": [],
   "source": [
    "# Save for later comparison\n",
    "model_results.append(\n",
    "    ModelWithCV(\n",
    "        logreg_model, \n",
    "        'C:0.01',\n",
    "        X_train_scaled,\n",
    "        y_train\n",
    "    )\n",
    ")"
   ]
  },
  {
   "cell_type": "code",
   "execution_count": 63,
   "metadata": {
    "hidden": true,
    "slideshow": {
     "slide_type": "slide"
    }
   },
   "outputs": [
    {
     "data": {
      "image/png": "[encoded data removed]",
      "text/plain": [
       "<Figure size 864x432 with 2 Axes>"
      ]
     },
     "metadata": {
      "needs_background": "light"
     },
     "output_type": "display_data"
    }
   ],
   "source": [
    "# Save for later comparison\n",
    "model_results.append(\n",
    "    ModelWithCV(\n",
    "        logreg_model, \n",
    "        'solver:liblinear_C:0.01',\n",
    "        X_train_scaled,\n",
    "        y_train\n",
    "    )\n",
    ")\n",
    "\n",
    "# Plot both  models\n",
    "f,axes = plt.subplots(ncols=2, sharey='all', figsize=(12, 6))\n",
    "\n",
    "model_results[1].plot_cv(ax=axes[0])\n",
    "model_results[-1].plot_cv(ax=axes[1])\n",
    "\n",
    "plt.tight_layout();"
   ]
  },
  {
   "cell_type": "code",
   "execution_count": 66,
   "metadata": {
    "hidden": true,
    "slideshow": {
     "slide_type": "slide"
    }
   },
   "outputs": [
    {
     "data": {
      "image/png": "[encoded data removed]",
      "text/plain": [
       "<Figure size 432x288 with 2 Axes>"
      ]
     },
     "metadata": {
      "needs_background": "light"
     },
     "output_type": "display_data"
    }
   ],
   "source": [
    "logreg_model = LogisticRegression(random_state=2022, C =.01)\n",
    "logreg_model.fit(X_train_scaled, y_train)\n",
    "\n",
    "fig, ax = plt.subplots()\n",
    "\n",
    "fig.suptitle(\"Logistic Regression with Features Scaled, Hyperparameters Tuned)\")\n",
    "\n",
    "plot_confusion_matrix(logreg_model, X_train_scaled, y_train, ax=ax, cmap=\"plasma\");\n",
    "#ConfusionMatrixDisplay.from_estimator(logreg_model, X_train_scaled, y_train, ax=ax, cmap=\"plasma\");"
   ]
  },
  {
   "cell_type": "markdown",
   "metadata": {
    "heading_collapsed": true,
    "hidden": true,
    "slideshow": {
     "slide_type": "slide"
    }
   },
   "source": [
    "## `SelectFromModel`"
   ]
  },
  {
   "cell_type": "markdown",
   "metadata": {
    "hidden": true,
    "slideshow": {
     "slide_type": "fragment"
    }
   },
   "source": [
    "The last model is probably overfitting. We might try thinning out the number of features by eliminating the ones with small modeling coefficients using [`SelectFromModel`](https://scikit-learn.org/stable/modules/generated/sklearn.feature_selection.SelectFromModel.html)"
   ]
  },
  {
   "cell_type": "code",
   "execution_count": 67,
   "metadata": {
    "hidden": true,
    "slideshow": {
     "slide_type": "fragment"
    }
   },
   "outputs": [
    {
     "data": {
      "text/plain": [
       "SelectFromModel(estimator=LogisticRegression(C=0.01, random_state=2022))"
      ]
     },
     "execution_count": 67,
     "metadata": {},
     "output_type": "execute_result"
    }
   ],
   "source": [
    "selector = SelectFromModel(logreg_model)\n",
    "\n",
    "selector.fit(X_train_scaled, y_train)"
   ]
  },
  {
   "cell_type": "markdown",
   "metadata": {
    "hidden": true,
    "slideshow": {
     "slide_type": "slide"
    }
   },
   "source": [
    "We're using the default threshold here:"
   ]
  },
  {
   "cell_type": "code",
   "execution_count": 68,
   "metadata": {
    "hidden": true,
    "slideshow": {
     "slide_type": "fragment"
    }
   },
   "outputs": [
    {
     "data": {
      "text/plain": [
       "0.05424079871216218"
      ]
     },
     "execution_count": 68,
     "metadata": {},
     "output_type": "execute_result"
    }
   ],
   "source": [
    "thresh = selector.threshold_\n",
    "thresh"
   ]
  },
  {
   "cell_type": "markdown",
   "metadata": {
    "hidden": true,
    "slideshow": {
     "slide_type": "slide"
    }
   },
   "source": [
    "Let's get a sense of which features will be eliminated:"
   ]
  },
  {
   "cell_type": "code",
   "execution_count": 69,
   "metadata": {
    "hidden": true,
    "slideshow": {
     "slide_type": "fragment"
    }
   },
   "outputs": [
    {
     "data": {
      "text/plain": [
       "array([[-0.2801276 , -0.16742577, -0.13369446,  0.0342871 ,  0.16434212,\n",
       "         0.39888294, -0.39888294, -0.04405735, -0.04635546,  0.03510292,\n",
       "        -0.04482535,  0.06699645,  0.07495505,  0.06358022,  0.04905541,\n",
       "        -0.04104565, -0.03564043,  0.06000244, -0.03880445,  0.03367897,\n",
       "        -0.04331603,  0.03959916, -0.03781685,  0.02781249, -0.03642436,\n",
       "         0.02899418,  0.02338642, -0.03922161,  0.03785538, -0.03829222,\n",
       "        -0.04113068,  0.02602545,  0.02761348,  0.02662471,  0.02854275,\n",
       "         0.06141674, -0.00877694,  0.02828697, -0.03462244,  0.03247069,\n",
       "         0.02680151,  0.02770315,  0.0260893 ,  0.02450441,  0.02980914,\n",
       "        -0.043903  , -0.0493525 , -0.04081075, -0.16133475,  0.0376991 ,\n",
       "         0.03590363,  0.06072343, -0.04210011, -0.04479508, -0.00980192,\n",
       "        -0.04112297,  0.03054107, -0.04535268,  0.0598176 ,  0.02834131,\n",
       "        -0.08933584, -0.01374298, -0.03902345,  0.02602525,  0.02241483,\n",
       "        -0.04400525, -0.0741518 ,  0.03183732,  0.08554176,  0.02613332,\n",
       "        -0.05027314,  0.02894915,  0.02265293,  0.05059214,  0.02941352,\n",
       "        -0.05858893, -0.01105269,  0.03134939, -0.04223016, -0.05116592,\n",
       "         0.07166312,  0.06175518, -0.05681474,  0.02583765,  0.01816215,\n",
       "         0.05598346,  0.02798517,  0.03375269,  0.06533442,  0.04833561,\n",
       "         0.03054781, -0.04266678,  0.02597649, -0.04665907,  0.07404127,\n",
       "         0.0630325 ,  0.03840736,  0.06075603, -0.04458258, -0.03775277,\n",
       "         0.07037847, -0.0451711 ,  0.03638713,  0.0776132 ,  0.06262843,\n",
       "         0.06609696,  0.08050917,  0.066936  ,  0.08977977,  0.06278278,\n",
       "        -0.04061483,  0.03837192,  0.0280294 ,  0.02850387, -0.00651362,\n",
       "        -0.04044225,  0.06046832,  0.03045916,  0.02396308,  0.06917889,\n",
       "         0.04295416, -0.0294423 , -0.04753417,  0.05147816,  0.06246074,\n",
       "        -0.03202215,  0.06377584, -0.09592368, -0.04163679]])"
      ]
     },
     "execution_count": 69,
     "metadata": {},
     "output_type": "execute_result"
    }
   ],
   "source": [
    "coefs = selector.estimator_.coef_\n",
    "coefs"
   ]
  },
  {
   "cell_type": "code",
   "execution_count": 70,
   "metadata": {
    "slideshow": {
     "slide_type": "slide"
    }
   },
   "outputs": [
    {
     "data": {
      "text/plain": [
       "(1, 129)"
      ]
     },
     "execution_count": 70,
     "metadata": {},
     "output_type": "execute_result"
    }
   ],
   "source": [
    "coefs.shape"
   ]
  },
  {
   "cell_type": "code",
   "execution_count": 71,
   "metadata": {
    "slideshow": {
     "slide_type": "skip"
    }
   },
   "outputs": [
    {
     "data": {
      "text/plain": [
       "(668, 129)"
      ]
     },
     "execution_count": 71,
     "metadata": {},
     "output_type": "execute_result"
    }
   ],
   "source": [
    "X_train_scaled.shape"
   ]
  },
  {
   "cell_type": "code",
   "execution_count": 72,
   "metadata": {
    "slideshow": {
     "slide_type": "slide"
    }
   },
   "outputs": [
    {
     "data": {
      "text/plain": [
       "array([ True,  True,  True, False,  True,  True,  True, False, False,\n",
       "       False, False,  True,  True,  True, False, False, False,  True,\n",
       "       False, False, False, False, False, False, False, False, False,\n",
       "       False, False, False, False, False, False, False, False,  True,\n",
       "       False, False, False, False, False, False, False, False, False,\n",
       "       False, False, False,  True, False, False,  True, False, False,\n",
       "       False, False, False, False,  True, False,  True, False, False,\n",
       "       False, False, False,  True, False,  True, False, False, False,\n",
       "       False, False, False,  True, False, False, False, False,  True,\n",
       "        True,  True, False, False,  True, False, False,  True, False,\n",
       "       False, False, False, False,  True,  True, False,  True, False,\n",
       "       False,  True, False, False,  True,  True,  True,  True,  True,\n",
       "        True,  True, False, False, False, False, False, False,  True,\n",
       "       False, False,  True, False, False, False, False,  True, False,\n",
       "        True,  True, False])"
      ]
     },
     "execution_count": 72,
     "metadata": {},
     "output_type": "execute_result"
    }
   ],
   "source": [
    "selector.get_support()"
   ]
  },
  {
   "cell_type": "code",
   "execution_count": 73,
   "metadata": {
    "hidden": true,
    "slideshow": {
     "slide_type": "fragment"
    }
   },
   "outputs": [
    {
     "name": "stdout",
     "output_type": "stream",
     "text": [
      "[[ 0 90]\n",
      " [ 1 39]]\n"
     ]
    }
   ],
   "source": [
    "sup = selector.get_support()\n",
    "unique, counts = np.unique(sup, return_counts=True)\n",
    "print(np.asarray((unique, counts)).T)\n"
   ]
  },
  {
   "cell_type": "code",
   "execution_count": 74,
   "metadata": {
    "hidden": true,
    "scrolled": true,
    "slideshow": {
     "slide_type": "slide"
    }
   },
   "outputs": [
    {
     "data": {
      "text/plain": [
       "{'Pclass': True,\n",
       " 'Age': True,\n",
       " 'SibSp': True,\n",
       " 'Parch': False,\n",
       " 'Fare': True,\n",
       " 'female': True,\n",
       " 'male': True,\n",
       " 'A10': False,\n",
       " 'A14': False,\n",
       " 'A16': False,\n",
       " 'A19': False,\n",
       " 'A20': True,\n",
       " 'A23': True,\n",
       " 'A31': True,\n",
       " 'A34': False,\n",
       " 'A36': False,\n",
       " 'A5': False,\n",
       " 'A6': True,\n",
       " 'A7': False,\n",
       " 'B101': False,\n",
       " 'B102': False,\n",
       " 'B18': False,\n",
       " 'B19': False,\n",
       " 'B20': False,\n",
       " 'B22': False,\n",
       " 'B28': False,\n",
       " 'B3': False,\n",
       " 'B30': False,\n",
       " 'B35': False,\n",
       " 'B37': False,\n",
       " 'B38': False,\n",
       " 'B39': False,\n",
       " 'B42': False,\n",
       " 'B49': False,\n",
       " 'B5': False,\n",
       " 'B50': True,\n",
       " 'B51 B53 B55': False,\n",
       " 'B57 B59 B63 B66': False,\n",
       " 'B58 B60': False,\n",
       " 'B69': False,\n",
       " 'B73': False,\n",
       " 'B77': False,\n",
       " 'B78': False,\n",
       " 'B79': False,\n",
       " 'B80': False,\n",
       " 'B82 B84': False,\n",
       " 'B86': False,\n",
       " 'B94': False,\n",
       " 'B96 B98': True,\n",
       " 'C101': False,\n",
       " 'C103': False,\n",
       " 'C106': True,\n",
       " 'C110': False,\n",
       " 'C111': False,\n",
       " 'C123': False,\n",
       " 'C124': False,\n",
       " 'C126': False,\n",
       " 'C128': False,\n",
       " 'C148': True,\n",
       " 'C2': False,\n",
       " 'C22 C26': True,\n",
       " 'C23 C25 C27': False,\n",
       " 'C30': False,\n",
       " 'C32': False,\n",
       " 'C45': False,\n",
       " 'C46': False,\n",
       " 'C49': True,\n",
       " 'C50': False,\n",
       " 'C52': True,\n",
       " 'C54': False,\n",
       " 'C65': False,\n",
       " 'C68': False,\n",
       " 'C7': False,\n",
       " 'C70': False,\n",
       " 'C78': False,\n",
       " 'C82': True,\n",
       " 'C83': False,\n",
       " 'C85': False,\n",
       " 'C86': False,\n",
       " 'C91': False,\n",
       " 'C92': True,\n",
       " 'C93': True,\n",
       " 'C95': True,\n",
       " 'C99': False,\n",
       " 'D': False,\n",
       " 'D10 D12': True,\n",
       " 'D15': False,\n",
       " 'D17': False,\n",
       " 'D19': True,\n",
       " 'D20': False,\n",
       " 'D21': False,\n",
       " 'D26': False,\n",
       " 'D28': False,\n",
       " 'D30': False,\n",
       " 'D33': True,\n",
       " 'D35': True,\n",
       " 'D36': False,\n",
       " 'D45': True,\n",
       " 'D48': False,\n",
       " 'D50': False,\n",
       " 'D56': True,\n",
       " 'D6': False,\n",
       " 'D7': False,\n",
       " 'E10': True,\n",
       " 'E101': True,\n",
       " 'E12': True,\n",
       " 'E121': True,\n",
       " 'E17': True,\n",
       " 'E24': True,\n",
       " 'E25': True,\n",
       " 'E31': False,\n",
       " 'E33': False,\n",
       " 'E34': False,\n",
       " 'E36': False,\n",
       " 'E44': False,\n",
       " 'E46': False,\n",
       " 'E50': True,\n",
       " 'E67': False,\n",
       " 'E68': False,\n",
       " 'E8': True,\n",
       " 'F E69': False,\n",
       " 'F G63': False,\n",
       " 'F G73': False,\n",
       " 'F2': False,\n",
       " 'F33': True,\n",
       " 'F38': False,\n",
       " 'F4': True,\n",
       " 'G6': True,\n",
       " 'T': False}"
      ]
     },
     "execution_count": 74,
     "metadata": {},
     "output_type": "execute_result"
    }
   ],
   "source": [
    "dict(zip(X_train_scaled.columns, selector.get_support()))"
   ]
  },
  {
   "cell_type": "code",
   "execution_count": 79,
   "metadata": {
    "hidden": true,
    "slideshow": {
     "slide_type": "slide"
    }
   },
   "outputs": [],
   "source": [
    "def select_important_features(X, selector):\n",
    "    \"\"\"\n",
    "    Given a DataFrame and a selector, use the selector to choose\n",
    "    the most important columns\n",
    "    \"\"\"\n",
    "    imps = dict(zip(X.columns, selector.get_support()))\n",
    "    selected_array = selector.transform(X)\n",
    "    selected_df = pd.DataFrame(selected_array,\n",
    "                               columns=[col for col in X.columns if imps[col]],\n",
    "                               index=X.index)\n",
    "    return selected_df"
   ]
  },
  {
   "cell_type": "code",
   "execution_count": 80,
   "metadata": {
    "hidden": true,
    "slideshow": {
     "slide_type": "slide"
    }
   },
   "outputs": [],
   "source": [
    "X_train_selected = select_important_features(X=X_train_scaled, selector=selector)"
   ]
  },
  {
   "cell_type": "code",
   "execution_count": 81,
   "metadata": {
    "slideshow": {
     "slide_type": "fragment"
    }
   },
   "outputs": [
    {
     "data": {
      "text/html": [
       "<div>\n",
       "<style scoped>\n",
       "    .dataframe tbody tr th:only-of-type {\n",
       "        vertical-align: middle;\n",
       "    }\n",
       "\n",
       "    .dataframe tbody tr th {\n",
       "        vertical-align: top;\n",
       "    }\n",
       "\n",
       "    .dataframe thead th {\n",
       "        text-align: right;\n",
       "    }\n",
       "</style>\n",
       "<table border=\"1\" class=\"dataframe\">\n",
       "  <thead>\n",
       "    <tr style=\"text-align: right;\">\n",
       "      <th></th>\n",
       "      <th>Pclass</th>\n",
       "      <th>Age</th>\n",
       "      <th>SibSp</th>\n",
       "      <th>Fare</th>\n",
       "      <th>female</th>\n",
       "      <th>male</th>\n",
       "      <th>A20</th>\n",
       "      <th>A23</th>\n",
       "      <th>A31</th>\n",
       "      <th>A6</th>\n",
       "      <th>...</th>\n",
       "      <th>E12</th>\n",
       "      <th>E121</th>\n",
       "      <th>E17</th>\n",
       "      <th>E24</th>\n",
       "      <th>E25</th>\n",
       "      <th>E50</th>\n",
       "      <th>E8</th>\n",
       "      <th>F33</th>\n",
       "      <th>F4</th>\n",
       "      <th>G6</th>\n",
       "    </tr>\n",
       "  </thead>\n",
       "  <tbody>\n",
       "    <tr>\n",
       "      <th>221</th>\n",
       "      <td>-0.348729</td>\n",
       "      <td>-1.892053e-01</td>\n",
       "      <td>-0.472880</td>\n",
       "      <td>-0.381921</td>\n",
       "      <td>-0.743968</td>\n",
       "      <td>0.743968</td>\n",
       "      <td>-0.03872</td>\n",
       "      <td>-0.03872</td>\n",
       "      <td>-0.03872</td>\n",
       "      <td>-0.03872</td>\n",
       "      <td>...</td>\n",
       "      <td>-0.03872</td>\n",
       "      <td>-0.0548</td>\n",
       "      <td>-0.03872</td>\n",
       "      <td>-0.0548</td>\n",
       "      <td>-0.03872</td>\n",
       "      <td>-0.03872</td>\n",
       "      <td>-0.0548</td>\n",
       "      <td>-0.067166</td>\n",
       "      <td>-0.03872</td>\n",
       "      <td>-0.0548</td>\n",
       "    </tr>\n",
       "    <tr>\n",
       "      <th>39</th>\n",
       "      <td>0.845891</td>\n",
       "      <td>-1.190445e+00</td>\n",
       "      <td>0.442725</td>\n",
       "      <td>-0.414974</td>\n",
       "      <td>1.344144</td>\n",
       "      <td>-1.344144</td>\n",
       "      <td>-0.03872</td>\n",
       "      <td>-0.03872</td>\n",
       "      <td>-0.03872</td>\n",
       "      <td>-0.03872</td>\n",
       "      <td>...</td>\n",
       "      <td>-0.03872</td>\n",
       "      <td>-0.0548</td>\n",
       "      <td>-0.03872</td>\n",
       "      <td>-0.0548</td>\n",
       "      <td>-0.03872</td>\n",
       "      <td>-0.03872</td>\n",
       "      <td>-0.0548</td>\n",
       "      <td>-0.067166</td>\n",
       "      <td>-0.03872</td>\n",
       "      <td>-0.0548</td>\n",
       "    </tr>\n",
       "    <tr>\n",
       "      <th>223</th>\n",
       "      <td>0.845891</td>\n",
       "      <td>-5.472489e-16</td>\n",
       "      <td>-0.472880</td>\n",
       "      <td>-0.477873</td>\n",
       "      <td>-0.743968</td>\n",
       "      <td>0.743968</td>\n",
       "      <td>-0.03872</td>\n",
       "      <td>-0.03872</td>\n",
       "      <td>-0.03872</td>\n",
       "      <td>-0.03872</td>\n",
       "      <td>...</td>\n",
       "      <td>-0.03872</td>\n",
       "      <td>-0.0548</td>\n",
       "      <td>-0.03872</td>\n",
       "      <td>-0.0548</td>\n",
       "      <td>-0.03872</td>\n",
       "      <td>-0.03872</td>\n",
       "      <td>-0.0548</td>\n",
       "      <td>-0.067166</td>\n",
       "      <td>-0.03872</td>\n",
       "      <td>-0.0548</td>\n",
       "    </tr>\n",
       "    <tr>\n",
       "      <th>591</th>\n",
       "      <td>-1.543349</td>\n",
       "      <td>1.736256e+00</td>\n",
       "      <td>0.442725</td>\n",
       "      <td>0.845004</td>\n",
       "      <td>1.344144</td>\n",
       "      <td>-1.344144</td>\n",
       "      <td>-0.03872</td>\n",
       "      <td>-0.03872</td>\n",
       "      <td>-0.03872</td>\n",
       "      <td>-0.03872</td>\n",
       "      <td>...</td>\n",
       "      <td>-0.03872</td>\n",
       "      <td>-0.0548</td>\n",
       "      <td>-0.03872</td>\n",
       "      <td>-0.0548</td>\n",
       "      <td>-0.03872</td>\n",
       "      <td>-0.03872</td>\n",
       "      <td>-0.0548</td>\n",
       "      <td>-0.067166</td>\n",
       "      <td>-0.03872</td>\n",
       "      <td>-0.0548</td>\n",
       "    </tr>\n",
       "    <tr>\n",
       "      <th>763</th>\n",
       "      <td>-1.543349</td>\n",
       "      <td>5.039607e-01</td>\n",
       "      <td>0.442725</td>\n",
       "      <td>1.629533</td>\n",
       "      <td>1.344144</td>\n",
       "      <td>-1.344144</td>\n",
       "      <td>-0.03872</td>\n",
       "      <td>-0.03872</td>\n",
       "      <td>-0.03872</td>\n",
       "      <td>-0.03872</td>\n",
       "      <td>...</td>\n",
       "      <td>-0.03872</td>\n",
       "      <td>-0.0548</td>\n",
       "      <td>-0.03872</td>\n",
       "      <td>-0.0548</td>\n",
       "      <td>-0.03872</td>\n",
       "      <td>-0.03872</td>\n",
       "      <td>-0.0548</td>\n",
       "      <td>-0.067166</td>\n",
       "      <td>-0.03872</td>\n",
       "      <td>-0.0548</td>\n",
       "    </tr>\n",
       "  </tbody>\n",
       "</table>\n",
       "<p>5 rows × 39 columns</p>\n",
       "</div>"
      ],
      "text/plain": [
       "       Pclass           Age     SibSp      Fare    female      male      A20  \\\n",
       "221 -0.348729 -1.892053e-01 -0.472880 -0.381921 -0.743968  0.743968 -0.03872   \n",
       "39   0.845891 -1.190445e+00  0.442725 -0.414974  1.344144 -1.344144 -0.03872   \n",
       "223  0.845891 -5.472489e-16 -0.472880 -0.477873 -0.743968  0.743968 -0.03872   \n",
       "591 -1.543349  1.736256e+00  0.442725  0.845004  1.344144 -1.344144 -0.03872   \n",
       "763 -1.543349  5.039607e-01  0.442725  1.629533  1.344144 -1.344144 -0.03872   \n",
       "\n",
       "         A23      A31       A6  ...      E12    E121      E17     E24  \\\n",
       "221 -0.03872 -0.03872 -0.03872  ... -0.03872 -0.0548 -0.03872 -0.0548   \n",
       "39  -0.03872 -0.03872 -0.03872  ... -0.03872 -0.0548 -0.03872 -0.0548   \n",
       "223 -0.03872 -0.03872 -0.03872  ... -0.03872 -0.0548 -0.03872 -0.0548   \n",
       "591 -0.03872 -0.03872 -0.03872  ... -0.03872 -0.0548 -0.03872 -0.0548   \n",
       "763 -0.03872 -0.03872 -0.03872  ... -0.03872 -0.0548 -0.03872 -0.0548   \n",
       "\n",
       "         E25      E50      E8       F33       F4      G6  \n",
       "221 -0.03872 -0.03872 -0.0548 -0.067166 -0.03872 -0.0548  \n",
       "39  -0.03872 -0.03872 -0.0548 -0.067166 -0.03872 -0.0548  \n",
       "223 -0.03872 -0.03872 -0.0548 -0.067166 -0.03872 -0.0548  \n",
       "591 -0.03872 -0.03872 -0.0548 -0.067166 -0.03872 -0.0548  \n",
       "763 -0.03872 -0.03872 -0.0548 -0.067166 -0.03872 -0.0548  \n",
       "\n",
       "[5 rows x 39 columns]"
      ]
     },
     "execution_count": 81,
     "metadata": {},
     "output_type": "execute_result"
    }
   ],
   "source": [
    "X_train_selected.head()"
   ]
  },
  {
   "cell_type": "code",
   "execution_count": 78,
   "metadata": {
    "hidden": true,
    "slideshow": {
     "slide_type": "fragment"
    }
   },
   "outputs": [
    {
     "data": {
      "text/plain": [
       "LogisticRegression(C=0.01, random_state=2022)"
      ]
     },
     "execution_count": 78,
     "metadata": {},
     "output_type": "execute_result"
    }
   ],
   "source": [
    "logreg_sel = LogisticRegression(random_state=2022,C =.01)\n",
    "\n",
    "logreg_sel.fit(X_train_selected, y_train)"
   ]
  },
  {
   "cell_type": "markdown",
   "metadata": {
    "hidden": true,
    "slideshow": {
     "slide_type": "fragment"
    }
   },
   "source": [
    "Probably still overfitting, but let's call this our final model!"
   ]
  },
  {
   "cell_type": "markdown",
   "metadata": {
    "heading_collapsed": true,
    "slideshow": {
     "slide_type": "slide"
    }
   },
   "source": [
    "# Final Model Evaluation"
   ]
  },
  {
   "cell_type": "markdown",
   "metadata": {
    "hidden": true,
    "slideshow": {
     "slide_type": "fragment"
    }
   },
   "source": [
    "Now that we have a final model, run X_test through all of the preprocessing steps so we can evaluate the model's performance"
   ]
  },
  {
   "cell_type": "code",
   "execution_count": 82,
   "metadata": {
    "hidden": true,
    "slideshow": {
     "slide_type": "fragment"
    }
   },
   "outputs": [],
   "source": [
    "X_test_no_transformations = X_test.copy()"
   ]
  },
  {
   "cell_type": "code",
   "execution_count": 83,
   "metadata": {
    "hidden": true,
    "slideshow": {
     "slide_type": "slide"
    }
   },
   "outputs": [],
   "source": [
    "numeric_feature_names = ['Pclass', 'Age', 'SibSp', 'Parch', 'Fare']\n",
    "\n",
    "# separate out values for imputation\n",
    "X_test_numeric = X_test_no_transformations[numeric_feature_names]\n",
    "X_test_categorical = X_test_no_transformations[categorical_feature_names]"
   ]
  },
  {
   "cell_type": "code",
   "execution_count": 84,
   "metadata": {
    "hidden": true,
    "scrolled": true,
    "slideshow": {
     "slide_type": "slide"
    }
   },
   "outputs": [],
   "source": [
    "# impute missing values\n",
    "X_test_numeric = impute_missing_values(X_test_numeric, numeric_imputer)\n",
    "X_test_categorical = impute_missing_values(X_test_categorical, categorical_imputer)\n",
    "X_test_final = pd.concat([X_test_numeric, X_test_categorical], axis=1)\n"
   ]
  },
  {
   "cell_type": "code",
   "execution_count": 85,
   "metadata": {
    "hidden": true,
    "slideshow": {
     "slide_type": "slide"
    }
   },
   "outputs": [],
   "source": [
    "# one-hot encode categorical data\n",
    "for categorical_feature in categorical_feature_names:\n",
    "    X_test_final = encode_and_concat_feature(X_test_final,\n",
    "                                       categorical_feature, encoders[categorical_feature])"
   ]
  },
  {
   "cell_type": "code",
   "execution_count": 86,
   "metadata": {
    "hidden": true,
    "slideshow": {
     "slide_type": "slide"
    }
   },
   "outputs": [],
   "source": [
    "# scale values\n",
    "X_test_scaled = scale_values(X_test_final, scaler)"
   ]
  },
  {
   "cell_type": "code",
   "execution_count": 87,
   "metadata": {
    "hidden": true,
    "slideshow": {
     "slide_type": "slide"
    }
   },
   "outputs": [],
   "source": [
    "# select features\n",
    "X_test_selected = select_important_features(X_test_scaled, selector)"
   ]
  },
  {
   "cell_type": "code",
   "execution_count": 88,
   "metadata": {
    "hidden": true,
    "slideshow": {
     "slide_type": "fragment"
    }
   },
   "outputs": [
    {
     "data": {
      "text/html": [
       "<div>\n",
       "<style scoped>\n",
       "    .dataframe tbody tr th:only-of-type {\n",
       "        vertical-align: middle;\n",
       "    }\n",
       "\n",
       "    .dataframe tbody tr th {\n",
       "        vertical-align: top;\n",
       "    }\n",
       "\n",
       "    .dataframe thead th {\n",
       "        text-align: right;\n",
       "    }\n",
       "</style>\n",
       "<table border=\"1\" class=\"dataframe\">\n",
       "  <thead>\n",
       "    <tr style=\"text-align: right;\">\n",
       "      <th></th>\n",
       "      <th>Pclass</th>\n",
       "      <th>Age</th>\n",
       "      <th>SibSp</th>\n",
       "      <th>Fare</th>\n",
       "      <th>female</th>\n",
       "      <th>male</th>\n",
       "      <th>A20</th>\n",
       "      <th>A23</th>\n",
       "      <th>A31</th>\n",
       "      <th>A6</th>\n",
       "      <th>...</th>\n",
       "      <th>E12</th>\n",
       "      <th>E121</th>\n",
       "      <th>E17</th>\n",
       "      <th>E24</th>\n",
       "      <th>E25</th>\n",
       "      <th>E50</th>\n",
       "      <th>E8</th>\n",
       "      <th>F33</th>\n",
       "      <th>F4</th>\n",
       "      <th>G6</th>\n",
       "    </tr>\n",
       "  </thead>\n",
       "  <tbody>\n",
       "    <tr>\n",
       "      <th>770</th>\n",
       "      <td>0.845891</td>\n",
       "      <td>-0.420261</td>\n",
       "      <td>-0.472880</td>\n",
       "      <td>-0.447716</td>\n",
       "      <td>-0.743968</td>\n",
       "      <td>0.743968</td>\n",
       "      <td>-0.03872</td>\n",
       "      <td>-0.03872</td>\n",
       "      <td>-0.03872</td>\n",
       "      <td>-0.03872</td>\n",
       "      <td>...</td>\n",
       "      <td>-0.03872</td>\n",
       "      <td>-0.0548</td>\n",
       "      <td>-0.03872</td>\n",
       "      <td>-0.0548</td>\n",
       "      <td>-0.03872</td>\n",
       "      <td>-0.03872</td>\n",
       "      <td>-0.0548</td>\n",
       "      <td>-0.067166</td>\n",
       "      <td>-0.03872</td>\n",
       "      <td>-0.0548</td>\n",
       "    </tr>\n",
       "    <tr>\n",
       "      <th>178</th>\n",
       "      <td>-0.348729</td>\n",
       "      <td>0.041850</td>\n",
       "      <td>-0.472880</td>\n",
       "      <td>-0.381921</td>\n",
       "      <td>-0.743968</td>\n",
       "      <td>0.743968</td>\n",
       "      <td>-0.03872</td>\n",
       "      <td>-0.03872</td>\n",
       "      <td>-0.03872</td>\n",
       "      <td>-0.03872</td>\n",
       "      <td>...</td>\n",
       "      <td>-0.03872</td>\n",
       "      <td>-0.0548</td>\n",
       "      <td>-0.03872</td>\n",
       "      <td>-0.0548</td>\n",
       "      <td>-0.03872</td>\n",
       "      <td>-0.03872</td>\n",
       "      <td>-0.0548</td>\n",
       "      <td>-0.067166</td>\n",
       "      <td>-0.03872</td>\n",
       "      <td>-0.0548</td>\n",
       "    </tr>\n",
       "    <tr>\n",
       "      <th>786</th>\n",
       "      <td>0.845891</td>\n",
       "      <td>-0.882371</td>\n",
       "      <td>-0.472880</td>\n",
       "      <td>-0.485392</td>\n",
       "      <td>1.344144</td>\n",
       "      <td>-1.344144</td>\n",
       "      <td>-0.03872</td>\n",
       "      <td>-0.03872</td>\n",
       "      <td>-0.03872</td>\n",
       "      <td>-0.03872</td>\n",
       "      <td>...</td>\n",
       "      <td>-0.03872</td>\n",
       "      <td>-0.0548</td>\n",
       "      <td>-0.03872</td>\n",
       "      <td>-0.0548</td>\n",
       "      <td>-0.03872</td>\n",
       "      <td>-0.03872</td>\n",
       "      <td>-0.0548</td>\n",
       "      <td>-0.067166</td>\n",
       "      <td>-0.03872</td>\n",
       "      <td>-0.0548</td>\n",
       "    </tr>\n",
       "    <tr>\n",
       "      <th>159</th>\n",
       "      <td>0.845891</td>\n",
       "      <td>0.000000</td>\n",
       "      <td>6.851964</td>\n",
       "      <td>0.681142</td>\n",
       "      <td>-0.743968</td>\n",
       "      <td>0.743968</td>\n",
       "      <td>-0.03872</td>\n",
       "      <td>-0.03872</td>\n",
       "      <td>-0.03872</td>\n",
       "      <td>-0.03872</td>\n",
       "      <td>...</td>\n",
       "      <td>-0.03872</td>\n",
       "      <td>-0.0548</td>\n",
       "      <td>-0.03872</td>\n",
       "      <td>-0.0548</td>\n",
       "      <td>-0.03872</td>\n",
       "      <td>-0.03872</td>\n",
       "      <td>-0.0548</td>\n",
       "      <td>-0.067166</td>\n",
       "      <td>-0.03872</td>\n",
       "      <td>-0.0548</td>\n",
       "    </tr>\n",
       "    <tr>\n",
       "      <th>656</th>\n",
       "      <td>0.845891</td>\n",
       "      <td>0.000000</td>\n",
       "      <td>-0.472880</td>\n",
       "      <td>-0.477873</td>\n",
       "      <td>-0.743968</td>\n",
       "      <td>0.743968</td>\n",
       "      <td>-0.03872</td>\n",
       "      <td>-0.03872</td>\n",
       "      <td>-0.03872</td>\n",
       "      <td>-0.03872</td>\n",
       "      <td>...</td>\n",
       "      <td>-0.03872</td>\n",
       "      <td>-0.0548</td>\n",
       "      <td>-0.03872</td>\n",
       "      <td>-0.0548</td>\n",
       "      <td>-0.03872</td>\n",
       "      <td>-0.03872</td>\n",
       "      <td>-0.0548</td>\n",
       "      <td>-0.067166</td>\n",
       "      <td>-0.03872</td>\n",
       "      <td>-0.0548</td>\n",
       "    </tr>\n",
       "  </tbody>\n",
       "</table>\n",
       "<p>5 rows × 39 columns</p>\n",
       "</div>"
      ],
      "text/plain": [
       "       Pclass       Age     SibSp      Fare    female      male      A20  \\\n",
       "770  0.845891 -0.420261 -0.472880 -0.447716 -0.743968  0.743968 -0.03872   \n",
       "178 -0.348729  0.041850 -0.472880 -0.381921 -0.743968  0.743968 -0.03872   \n",
       "786  0.845891 -0.882371 -0.472880 -0.485392  1.344144 -1.344144 -0.03872   \n",
       "159  0.845891  0.000000  6.851964  0.681142 -0.743968  0.743968 -0.03872   \n",
       "656  0.845891  0.000000 -0.472880 -0.477873 -0.743968  0.743968 -0.03872   \n",
       "\n",
       "         A23      A31       A6  ...      E12    E121      E17     E24  \\\n",
       "770 -0.03872 -0.03872 -0.03872  ... -0.03872 -0.0548 -0.03872 -0.0548   \n",
       "178 -0.03872 -0.03872 -0.03872  ... -0.03872 -0.0548 -0.03872 -0.0548   \n",
       "786 -0.03872 -0.03872 -0.03872  ... -0.03872 -0.0548 -0.03872 -0.0548   \n",
       "159 -0.03872 -0.03872 -0.03872  ... -0.03872 -0.0548 -0.03872 -0.0548   \n",
       "656 -0.03872 -0.03872 -0.03872  ... -0.03872 -0.0548 -0.03872 -0.0548   \n",
       "\n",
       "         E25      E50      E8       F33       F4      G6  \n",
       "770 -0.03872 -0.03872 -0.0548 -0.067166 -0.03872 -0.0548  \n",
       "178 -0.03872 -0.03872 -0.0548 -0.067166 -0.03872 -0.0548  \n",
       "786 -0.03872 -0.03872 -0.0548 -0.067166 -0.03872 -0.0548  \n",
       "159 -0.03872 -0.03872 -0.0548 -0.067166 -0.03872 -0.0548  \n",
       "656 -0.03872 -0.03872 -0.0548 -0.067166 -0.03872 -0.0548  \n",
       "\n",
       "[5 rows x 39 columns]"
      ]
     },
     "execution_count": 88,
     "metadata": {},
     "output_type": "execute_result"
    }
   ],
   "source": [
    "X_test_selected.head()"
   ]
  },
  {
   "cell_type": "markdown",
   "metadata": {
    "hidden": true,
    "slideshow": {
     "slide_type": "slide"
    }
   },
   "source": [
    "Create a model with the relevant hyperparameters, fit, and score"
   ]
  },
  {
   "cell_type": "code",
   "execution_count": 89,
   "metadata": {
    "hidden": true,
    "slideshow": {
     "slide_type": "fragment"
    }
   },
   "outputs": [
    {
     "data": {
      "text/plain": [
       "0.8026905829596412"
      ]
     },
     "execution_count": 89,
     "metadata": {},
     "output_type": "execute_result"
    }
   ],
   "source": [
    "final_model = LogisticRegression(random_state=2022, C =.01)\n",
    "final_model.fit(X_train_selected, y_train)\n",
    "\n",
    "final_model.score(X_test_selected, y_test)"
   ]
  },
  {
   "cell_type": "markdown",
   "metadata": {
    "heading_collapsed": true,
    "hidden": true,
    "slideshow": {
     "slide_type": "slide"
    }
   },
   "source": [
    "## Compare the past models"
   ]
  },
  {
   "cell_type": "code",
   "execution_count": 92,
   "metadata": {
    "code_folding": [],
    "hidden": true,
    "slideshow": {
     "slide_type": "fragment"
    }
   },
   "outputs": [],
   "source": [
    "# Create a way to categorize our different models\n",
    "model_candidates = [\n",
    "  \n",
    "    {\n",
    "        'name':'logreg_model_more_iterations'\n",
    "        ,'model':logreg_model_more_iterations\n",
    "        ,'X_test':X_test_final\n",
    "        ,'y_test':y_test\n",
    "    },\n",
    "    {\n",
    "        'name':'logreg_model_higher_tolerance'\n",
    "        ,'model':logreg_model_higher_tolerance\n",
    "        ,'X_test':X_test_final\n",
    "        ,'y_test':y_test\n",
    "    },\n",
    "    {\n",
    "        'name':'final_model'\n",
    "        ,'model':final_model\n",
    "        ,'X_test':X_test_selected\n",
    "        ,'y_test':y_test\n",
    "    }\n",
    "]"
   ]
  },
  {
   "cell_type": "code",
   "execution_count": 93,
   "metadata": {
    "hidden": true,
    "slideshow": {
     "slide_type": "slide"
    }
   },
   "outputs": [
    {
     "data": {
      "text/html": [
       "<div>\n",
       "<style scoped>\n",
       "    .dataframe tbody tr th:only-of-type {\n",
       "        vertical-align: middle;\n",
       "    }\n",
       "\n",
       "    .dataframe tbody tr th {\n",
       "        vertical-align: top;\n",
       "    }\n",
       "\n",
       "    .dataframe thead th {\n",
       "        text-align: right;\n",
       "    }\n",
       "</style>\n",
       "<table border=\"1\" class=\"dataframe\">\n",
       "  <thead>\n",
       "    <tr style=\"text-align: right;\">\n",
       "      <th></th>\n",
       "      <th>Mean Accuracy</th>\n",
       "    </tr>\n",
       "    <tr>\n",
       "      <th>Model Name</th>\n",
       "      <th></th>\n",
       "    </tr>\n",
       "  </thead>\n",
       "  <tbody>\n",
       "    <tr>\n",
       "      <th>logreg_model_more_iterations</th>\n",
       "      <td>0.766816</td>\n",
       "    </tr>\n",
       "    <tr>\n",
       "      <th>logreg_model_higher_tolerance</th>\n",
       "      <td>0.811659</td>\n",
       "    </tr>\n",
       "    <tr>\n",
       "      <th>final_model</th>\n",
       "      <td>0.802691</td>\n",
       "    </tr>\n",
       "  </tbody>\n",
       "</table>\n",
       "</div>"
      ],
      "text/plain": [
       "                               Mean Accuracy\n",
       "Model Name                                  \n",
       "logreg_model_more_iterations        0.766816\n",
       "logreg_model_higher_tolerance       0.811659\n",
       "final_model                         0.802691"
      ]
     },
     "execution_count": 93,
     "metadata": {},
     "output_type": "execute_result"
    }
   ],
   "source": [
    "final_scores_dict = {\n",
    "    \"Model Name\": [candidate.get('name') for candidate in model_candidates],\n",
    "    \"Mean Accuracy\": [\n",
    "        candidate.get('model').score(\n",
    "                                candidate.get('X_test'), \n",
    "                                candidate.get('y_test')\n",
    "        ) \n",
    "        for candidate in model_candidates\n",
    "    ]\n",
    "    \n",
    "}\n",
    "final_scores_df = pd.DataFrame(final_scores_dict).set_index('Model Name')\n",
    "final_scores_df"
   ]
  },
  {
   "cell_type": "markdown",
   "metadata": {
    "hidden": true,
    "slideshow": {
     "slide_type": "slide"
    }
   },
   "source": [
    "Final comparison of confusion matrices"
   ]
  },
  {
   "cell_type": "code",
   "execution_count": 97,
   "metadata": {
    "hidden": true,
    "slideshow": {
     "slide_type": "-"
    }
   },
   "outputs": [
    {
     "data": {
      "image/png": "[encoded data removed]",
      "text/plain": [
       "<Figure size 864x432 with 7 Axes>"
      ]
     },
     "metadata": {
      "needs_background": "light"
     },
     "output_type": "display_data"
    }
   ],
   "source": [
    "nrows = 2\n",
    "ncols = math.ceil(len(model_candidates)/nrows)\n",
    "\n",
    "fig, axes = plt.subplots(\n",
    "                nrows=nrows,\n",
    "                ncols=ncols,\n",
    "                figsize=(12, 6)\n",
    ")\n",
    "fig.suptitle(\"Confusion Matrix Comparison\")\n",
    "\n",
    "# Turn off all the axes (in case nothing to plot); turn on while iterating over\n",
    "[ax.axis('off') for ax in axes.ravel()]\n",
    "\n",
    "\n",
    "for i,candidate in enumerate(model_candidates):\n",
    "    # Logic for making rows and columns for matrices\n",
    "    row = i // 2\n",
    "    col = i % 2\n",
    "    ax = axes[row][col]\n",
    "    \n",
    "    ax.set_title(candidate.get('name'))\n",
    "    ax.set_axis_on() \n",
    "    cm_display = plot_confusion_matrix(candidate.get('model'), candidate.get('X_test'), candidate.get('y_test'),\n",
    "                   normalize='true', cmap='plasma', ax=ax,)\n",
    "    #cm_display = ConfusionMatrixDisplay.from_estimator(\n",
    "                    #candidate.get('model'),\n",
    "                    #candidate.get('X_test'),\n",
    "                    #candidate.get('y_test'),\n",
    "                    #normalize='true',\n",
    "                    #cmap='plasma',\n",
    "                    #ax=ax,\n",
    "                    \n",
    "    \n",
    "   \n",
    "    cm_display.im_.set_clim(0, 1)\n",
    "\n",
    "plt.tight_layout()"
   ]
  },
  {
   "cell_type": "code",
   "execution_count": 98,
   "metadata": {
    "cell_style": "split",
    "hidden": true,
    "slideshow": {
     "slide_type": "slide"
    }
   },
   "outputs": [
    {
     "data": {
      "image/png": "[encoded data removed]",
      "text/plain": [
       "<Figure size 432x288 with 1 Axes>"
      ]
     },
     "metadata": {
      "needs_background": "light"
     },
     "output_type": "display_data"
    }
   ],
   "source": [
    "fig, ax = plt.subplots()\n",
    "\n",
    "# Plot only the last models we created (so it's not too cluttered)\n",
    "for model_candidate in model_candidates[0:]:\n",
    "    plot_roc_curve(\n",
    "        model_candidate.get('model'),\n",
    "        model_candidate.get('X_test'),\n",
    "        model_candidate.get('y_test'), \n",
    "        name=model_candidate.get('name'),\n",
    "        ax=ax\n",
    "    )"
   ]
  },
  {
   "cell_type": "code",
   "execution_count": 102,
   "metadata": {
    "cell_style": "split"
   },
   "outputs": [
    {
     "data": {
      "image/png": "[encoded data removed]",
      "text/plain": [
       "<Figure size 432x288 with 1 Axes>"
      ]
     },
     "metadata": {
      "needs_background": "light"
     },
     "output_type": "display_data"
    }
   ],
   "source": [
    "fig, ax = plt.subplots()\n",
    "\n",
    "# Plot only the last models we created (so it's not too cluttered)\n",
    "for model_candidate in model_candidates[0:]:\n",
    "    plot_roc_curve(\n",
    "        model_candidate.get('model'),\n",
    "        model_candidate.get('X_test'),\n",
    "        model_candidate.get('y_test'), \n",
    "        name=model_candidate.get('name'),\n",
    "        ax=ax\n",
    "    )"
   ]
  },
  {
   "cell_type": "markdown",
   "metadata": {
    "cell_style": "center",
    "slideshow": {
     "slide_type": "slide"
    }
   },
   "source": [
    "\n",
    "Where was there data leakage?\n",
    "\n",
    "What you add to data preparation process?\n",
    "\n",
    "How would select your features?\n",
    "\n",
    "How would deal with outliers?"
   ]
  },
  {
   "cell_type": "markdown",
   "metadata": {
    "heading_collapsed": true,
    "slideshow": {
     "slide_type": "slide"
    }
   },
   "source": [
    "# Exercise"
   ]
  },
  {
   "cell_type": "markdown",
   "metadata": {
    "hidden": true,
    "slideshow": {
     "slide_type": "fragment"
    }
   },
   "source": [
    "Build and iterate on a logistic regression model of **color** for the diamonds dataset! Maximize accuracy."
   ]
  },
  {
   "cell_type": "code",
   "execution_count": null,
   "metadata": {
    "hidden": true,
    "slideshow": {
     "slide_type": "fragment"
    }
   },
   "outputs": [],
   "source": [
    "diamonds = sns.load_dataset('diamonds')"
   ]
  }
 ],
 "metadata": {
  "kernelspec": {
   "display_name": "Python (learn-env)",
   "language": "python",
   "name": "learn-env"
  },
  "language_info": {
   "codemirror_mode": {
    "name": "ipython",
    "version": 3
   },
   "file_extension": ".py",
   "mimetype": "text/x-python",
   "name": "python",
   "nbconvert_exporter": "python",
   "pygments_lexer": "ipython3",
   "version": "3.8.5"
  },
  "toc": {
   "base_numbering": 1,
   "nav_menu": {},
   "number_sections": true,
   "sideBar": true,
   "skip_h1_title": false,
   "title_cell": "Table of Contents",
   "title_sidebar": "TOC",
   "toc_cell": true,
   "toc_position": {
    "height": "calc(100% - 180px)",
    "left": "10px",
    "top": "150px",
    "width": "288px"
   },
   "toc_section_display": true,
   "toc_window_display": true
  }
 },
 "nbformat": 4,
 "nbformat_minor": 4
}
