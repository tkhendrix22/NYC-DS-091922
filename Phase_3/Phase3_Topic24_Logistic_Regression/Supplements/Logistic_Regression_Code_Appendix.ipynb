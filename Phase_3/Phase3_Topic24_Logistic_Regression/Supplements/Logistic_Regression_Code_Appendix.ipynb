{
 "cells": [
  {
   "cell_type": "markdown",
   "id": "ce1b38b8",
   "metadata": {},
   "source": [
    "# Logistic Regression Code Appendix\n",
    "\n",
    "Resources: https://scikit-learn.org/stable/modules/generated/sklearn.linear_model.LogisticRegression.html\n",
    "\n",
    "Python Code:\n",
    "\n",
    "``` Python\n",
    "# Import dependency\n",
    "from sklearn.linear_model import LogisticRegression\n",
    "\n",
    "# Create the logistic regression object\n",
    "log = LogisticRegression()\n",
    "\n",
    "# Train the logistic regression model\n",
    "clf = log.fit(X, y)\n",
    "\n",
    "# Predict the target class based on p > 0.5 criteria\n",
    "clf.predict(X)\n",
    "\n",
    "# Predict the probability with the training data set\n",
    "clf.predict_proba(X)\n",
    "\n",
    "# Calculate the model fit\n",
    "clf.score(X, y)\n",
    "```"
   ]
  },
  {
   "cell_type": "code",
<<<<<<< HEAD
   "execution_count": 1,
=======
   "execution_count": 2,
>>>>>>> upstream/main
   "id": "fcf99089",
   "metadata": {},
   "outputs": [],
   "source": [
    "import pandas as pd\n",
    "import numpy as numpy\n",
    "from sklearn.linear_model import LogisticRegression"
   ]
  },
  {
   "cell_type": "code",
<<<<<<< HEAD
   "execution_count": 17,
=======
   "execution_count": 3,
>>>>>>> upstream/main
   "id": "5b8776d9",
   "metadata": {},
   "outputs": [
    {
     "data": {
      "text/html": [
       "<div>\n",
       "<style scoped>\n",
       "    .dataframe tbody tr th:only-of-type {\n",
       "        vertical-align: middle;\n",
       "    }\n",
       "\n",
       "    .dataframe tbody tr th {\n",
       "        vertical-align: top;\n",
       "    }\n",
       "\n",
       "    .dataframe thead th {\n",
       "        text-align: right;\n",
       "    }\n",
       "</style>\n",
       "<table border=\"1\" class=\"dataframe\">\n",
       "  <thead>\n",
       "    <tr style=\"text-align: right;\">\n",
       "      <th></th>\n",
       "      <th>Rating</th>\n",
       "      <th>CostPerSlice</th>\n",
       "      <th>HeatSource</th>\n",
       "      <th>BrickOven</th>\n",
       "      <th>Neighborhood</th>\n",
       "    </tr>\n",
       "  </thead>\n",
       "  <tbody>\n",
       "    <tr>\n",
       "      <th>0</th>\n",
       "      <td>0.03</td>\n",
       "      <td>1.75</td>\n",
       "      <td>Gas</td>\n",
       "      <td>False</td>\n",
       "      <td>LittleItaly</td>\n",
       "    </tr>\n",
       "    <tr>\n",
       "      <th>1</th>\n",
       "      <td>4.89</td>\n",
       "      <td>2.75</td>\n",
       "      <td>Coal</td>\n",
       "      <td>True</td>\n",
       "      <td>SoHo</td>\n",
       "    </tr>\n",
       "    <tr>\n",
       "      <th>2</th>\n",
       "      <td>4.73</td>\n",
       "      <td>4.00</td>\n",
       "      <td>Wood</td>\n",
       "      <td>True</td>\n",
       "      <td>LittleItaly</td>\n",
       "    </tr>\n",
       "    <tr>\n",
       "      <th>3</th>\n",
       "      <td>0.13</td>\n",
       "      <td>1.75</td>\n",
       "      <td>Gas</td>\n",
       "      <td>False</td>\n",
       "      <td>LittleItaly</td>\n",
       "    </tr>\n",
       "    <tr>\n",
       "      <th>4</th>\n",
       "      <td>2.45</td>\n",
       "      <td>2.25</td>\n",
       "      <td>Wood</td>\n",
       "      <td>True</td>\n",
       "      <td>Chinatown</td>\n",
       "    </tr>\n",
       "  </tbody>\n",
       "</table>\n",
       "</div>"
      ],
      "text/plain": [
       "   Rating  CostPerSlice HeatSource BrickOven Neighborhood\n",
       "0    0.03          1.75        Gas     False  LittleItaly\n",
       "1    4.89          2.75       Coal      True         SoHo\n",
       "2    4.73          4.00       Wood      True  LittleItaly\n",
       "3    0.13          1.75        Gas     False  LittleItaly\n",
       "4    2.45          2.25       Wood      True    Chinatown"
      ]
     },
<<<<<<< HEAD
     "execution_count": 17,
=======
     "execution_count": 3,
>>>>>>> upstream/main
     "metadata": {},
     "output_type": "execute_result"
    }
   ],
   "source": [
    "# Loading the fake pizza dataset from the web\n",
    "pizza = pd.read_csv('https://jaredlander.com/data/Fake%20Pizza%20Data.csv')\n",
    "pizza.head()"
   ]
  },
  {
   "cell_type": "code",
<<<<<<< HEAD
   "execution_count": 18,
=======
   "execution_count": 6,
   "id": "0a2b71a5",
   "metadata": {},
   "outputs": [],
   "source": [
    "from sklearn.preprocessing import LabelEncoder"
   ]
  },
  {
   "cell_type": "code",
   "execution_count": 9,
   "id": "78bc8ad1",
   "metadata": {},
   "outputs": [],
   "source": [
    "enc = LabelEncoder()\n",
    "pizza[\"BrickOven\"] = enc.fit_transform(pizza[\"BrickOven\"])"
   ]
  },
  {
   "cell_type": "code",
   "execution_count": 10,
   "id": "13d5a1d8",
   "metadata": {},
   "outputs": [
    {
     "data": {
      "text/html": [
       "<div>\n",
       "<style scoped>\n",
       "    .dataframe tbody tr th:only-of-type {\n",
       "        vertical-align: middle;\n",
       "    }\n",
       "\n",
       "    .dataframe tbody tr th {\n",
       "        vertical-align: top;\n",
       "    }\n",
       "\n",
       "    .dataframe thead th {\n",
       "        text-align: right;\n",
       "    }\n",
       "</style>\n",
       "<table border=\"1\" class=\"dataframe\">\n",
       "  <thead>\n",
       "    <tr style=\"text-align: right;\">\n",
       "      <th></th>\n",
       "      <th>Rating</th>\n",
       "      <th>CostPerSlice</th>\n",
       "      <th>HeatSource</th>\n",
       "      <th>BrickOven</th>\n",
       "      <th>Neighborhood</th>\n",
       "    </tr>\n",
       "  </thead>\n",
       "  <tbody>\n",
       "    <tr>\n",
       "      <th>0</th>\n",
       "      <td>0.03</td>\n",
       "      <td>1.75</td>\n",
       "      <td>Gas</td>\n",
       "      <td>0</td>\n",
       "      <td>LittleItaly</td>\n",
       "    </tr>\n",
       "    <tr>\n",
       "      <th>1</th>\n",
       "      <td>4.89</td>\n",
       "      <td>2.75</td>\n",
       "      <td>Coal</td>\n",
       "      <td>1</td>\n",
       "      <td>SoHo</td>\n",
       "    </tr>\n",
       "    <tr>\n",
       "      <th>2</th>\n",
       "      <td>4.73</td>\n",
       "      <td>4.00</td>\n",
       "      <td>Wood</td>\n",
       "      <td>1</td>\n",
       "      <td>LittleItaly</td>\n",
       "    </tr>\n",
       "    <tr>\n",
       "      <th>3</th>\n",
       "      <td>0.13</td>\n",
       "      <td>1.75</td>\n",
       "      <td>Gas</td>\n",
       "      <td>0</td>\n",
       "      <td>LittleItaly</td>\n",
       "    </tr>\n",
       "    <tr>\n",
       "      <th>4</th>\n",
       "      <td>2.45</td>\n",
       "      <td>2.25</td>\n",
       "      <td>Wood</td>\n",
       "      <td>1</td>\n",
       "      <td>Chinatown</td>\n",
       "    </tr>\n",
       "  </tbody>\n",
       "</table>\n",
       "</div>"
      ],
      "text/plain": [
       "   Rating  CostPerSlice HeatSource  BrickOven Neighborhood\n",
       "0    0.03          1.75        Gas          0  LittleItaly\n",
       "1    4.89          2.75       Coal          1         SoHo\n",
       "2    4.73          4.00       Wood          1  LittleItaly\n",
       "3    0.13          1.75        Gas          0  LittleItaly\n",
       "4    2.45          2.25       Wood          1    Chinatown"
      ]
     },
     "execution_count": 10,
     "metadata": {},
     "output_type": "execute_result"
    }
   ],
   "source": [
    "pizza.head()"
   ]
  },
  {
   "cell_type": "code",
   "execution_count": 14,
   "id": "f1c0460b",
   "metadata": {},
   "outputs": [],
   "source": [
    "pizza.dropna(inplace = True)"
   ]
  },
  {
   "cell_type": "code",
   "execution_count": 22,
>>>>>>> upstream/main
   "id": "0ab3a037",
   "metadata": {},
   "outputs": [],
   "source": [
    "# Prepare data for model\n",
    "y = pizza['BrickOven']\n",
    "X = pizza[['Rating']]"
   ]
  },
  {
   "cell_type": "code",
<<<<<<< HEAD
   "execution_count": 21,
   "id": "664e03b7",
=======
   "execution_count": 23,
   "id": "a5776d7d",
   "metadata": {},
   "outputs": [
    {
     "data": {
      "text/plain": [
       "(200, 1)"
      ]
     },
     "execution_count": 23,
     "metadata": {},
     "output_type": "execute_result"
    }
   ],
   "source": [
    "X.shape"
   ]
  },
  {
   "cell_type": "code",
   "execution_count": 24,
   "id": "73e00292",
>>>>>>> upstream/main
   "metadata": {},
   "outputs": [
    {
     "name": "stderr",
     "output_type": "stream",
     "text": [
      "/var/folders/83/sb2tv79n3r11w7g4_w_37bmr0000gn/T/ipykernel_14143/2122128498.py:7: SettingWithCopyWarning: \n",
      "A value is trying to be set on a copy of a slice from a DataFrame\n",
      "\n",
      "See the caveats in the documentation: https://pandas.pydata.org/pandas-docs/stable/user_guide/indexing.html#returning-a-view-versus-a-copy\n",
      "  X.dropna(inplace=True)\n"
     ]
    }
   ],
   "source": [
<<<<<<< HEAD
    "# Create the logistic regression object\n",
    "\n",
    "logreg = LogisticRegression()\n",
    "y = pizza.BrickOven.map({False:0, True:1})\n",
    "pizza.head()\n",
    "\n",
    "X.dropna(inplace=True)\n",
    "y.dropna(inplace=True)"
=======
    "from sklearn.model_selection import train_test_split, cross_validate"
>>>>>>> upstream/main
   ]
  },
  {
   "cell_type": "code",
<<<<<<< HEAD
   "execution_count": 22,
   "id": "4f79ab4a",
   "metadata": {},
   "outputs": [],
   "source": [
    "# Train the model\n",
    "clf = logreg.fit(X, y)"
=======
   "execution_count": 25,
   "id": "a7647c60",
   "metadata": {},
   "outputs": [],
   "source": [
    "X_train, X_test, y_train, y_test = train_test_split(X, y, test_size=0.2, random_state=27)"
   ]
  },
  {
   "cell_type": "code",
   "execution_count": 27,
   "id": "7c0edb5c",
   "metadata": {},
   "outputs": [],
   "source": [
    "from sklearn.preprocessing import StandardScaler\n",
    "\n",
    "ss= StandardScaler()\n",
    "X_train = ss.fit_transform(X_train)\n",
    "X_test = ss.transform(X_test)"
   ]
  },
  {
   "cell_type": "code",
   "execution_count": 18,
   "id": "acfa71a3",
   "metadata": {},
   "outputs": [],
   "source": [
    "from sklearn.linear_model import LogisticRegression"
   ]
  },
  {
   "cell_type": "code",
   "execution_count": 34,
   "id": "664e03b7",
   "metadata": {},
   "outputs": [
    {
     "data": {
      "text/plain": [
       "LogisticRegression(penalty='l1', solver='liblinear')"
      ]
     },
     "execution_count": 34,
     "metadata": {},
     "output_type": "execute_result"
    }
   ],
   "source": [
    "log = LogisticRegression(penalty ='l1', solver = 'liblinear')\n",
    "log.fit(X_train, y_train)\n"
   ]
  },
  {
   "cell_type": "code",
   "execution_count": 35,
   "id": "4f79ab4a",
   "metadata": {},
   "outputs": [
    {
     "data": {
      "text/plain": [
       "array([0, 0, 0, 0, 0, 0, 0, 0, 0, 0, 0, 0, 0, 0, 0, 0, 0, 0, 0, 0, 0, 0,\n",
       "       0, 0, 0, 0, 0, 0, 0, 0, 0, 0, 0, 0, 0, 0, 0, 0, 0, 0])"
      ]
     },
     "execution_count": 35,
     "metadata": {},
     "output_type": "execute_result"
    }
   ],
   "source": [
    "# Train the model\n",
    "log.predict(X_test)"
>>>>>>> upstream/main
   ]
  },
  {
   "cell_type": "code",
   "execution_count": 23,
   "id": "f50193d6",
   "metadata": {},
   "outputs": [
    {
     "data": {
      "text/plain": [
       "array([0., 0., 0., 0., 0., 0., 0., 0., 0., 0., 0., 0., 0., 0., 0., 0., 0.,\n",
       "       0., 0., 0., 0., 0., 0., 0., 0., 0., 0., 0., 0., 0., 0., 0., 0., 0.,\n",
       "       0., 0., 0., 0., 0., 0., 0., 0., 0., 0., 0., 0., 0., 0., 0., 0., 0.,\n",
       "       0., 0., 0., 0., 0., 0., 0., 0., 0., 0., 0., 0., 0., 0., 0., 0., 0.,\n",
       "       0., 0., 0., 0., 0., 0., 0., 0., 0., 0., 0., 0., 0., 0., 0., 0., 0.,\n",
       "       0., 0., 0., 0., 0., 0., 0., 0., 0., 0., 0., 0., 0., 0., 0., 0., 0.,\n",
       "       0., 0., 0., 0., 0., 0., 0., 0., 0., 0., 0., 0., 0., 0., 0., 0., 0.,\n",
       "       0., 0., 0., 0., 0., 0., 0., 0., 0., 0., 0., 0., 0., 0., 0., 0., 0.,\n",
       "       0., 0., 0., 0., 0., 0., 0., 0., 0., 0., 0., 0., 0., 0., 0., 0., 0.,\n",
       "       0., 0., 0., 0., 0., 0., 0., 0., 0., 0., 0., 0., 0., 0., 0., 0., 0.,\n",
       "       0., 0., 0., 0., 0., 0., 0., 0., 0., 0., 0., 0., 0., 0., 0., 0., 0.,\n",
       "       0., 0., 0., 0., 0., 0., 0., 0., 0., 0., 0., 0., 0.])"
      ]
     },
     "execution_count": 23,
     "metadata": {},
     "output_type": "execute_result"
    }
   ],
   "source": [
<<<<<<< HEAD
    "# Predict the class of the target\n",
    "clf.predict(X)"
=======
    "# Predict the class of the targe"
>>>>>>> upstream/main
   ]
  },
  {
   "cell_type": "code",
   "execution_count": 24,
   "id": "c2484f3a",
   "metadata": {},
   "outputs": [
    {
     "data": {
      "text/plain": [
       "array([[0.71154876, 0.28845124],\n",
       "       [0.63239307, 0.36760693],\n",
       "       [0.63514716, 0.36485284],\n",
       "       [0.71002425, 0.28997575],\n",
       "       [0.67336606, 0.32663394],\n",
       "       [0.6304946 , 0.3695054 ],\n",
       "       [0.67058712, 0.32941288],\n",
       "       [0.64114078, 0.35885922],\n",
       "       [0.6423343 , 0.3576657 ],\n",
       "       [0.71017692, 0.28982308],\n",
       "       [0.64607384, 0.35392616],\n",
       "       [0.70742167, 0.29257833],\n",
       "       [0.63273781, 0.36726219],\n",
       "       [0.63084008, 0.36915992],\n",
       "       [0.63066736, 0.36933264],\n",
       "       [0.63549081, 0.36450919],\n",
       "       [0.63187571, 0.36812429],\n",
       "       [0.70971878, 0.29028122],\n",
       "       [0.63066736, 0.36933264],\n",
       "       [0.63497529, 0.36502471],\n",
       "       [0.70387884, 0.29612116],\n",
       "       [0.63308241, 0.36691759],\n",
       "       [0.70880122, 0.29119878],\n",
       "       [0.63135805, 0.36864195],\n",
       "       [0.63066736, 0.36933264],\n",
       "       [0.65080748, 0.34919252],\n",
       "       [0.63118543, 0.36881457],\n",
       "       [0.6304946 , 0.3695054 ],\n",
       "       [0.70726816, 0.29273184],\n",
       "       [0.63135805, 0.36864195],\n",
       "       [0.63463144, 0.36536856],\n",
       "       [0.63480338, 0.36519662],\n",
       "       [0.6677962 , 0.3322038 ],\n",
       "       [0.63497529, 0.36502471],\n",
       "       [0.6341154 , 0.3658846 ],\n",
       "       [0.71093953, 0.28906047],\n",
       "       [0.63549081, 0.36450919],\n",
       "       [0.63428745, 0.36571255],\n",
       "       [0.66333929, 0.33666071],\n",
       "       [0.63239307, 0.36760693],\n",
       "       [0.63066736, 0.36933264],\n",
       "       [0.69765865, 0.30234135],\n",
       "       [0.63308241, 0.36691759],\n",
       "       [0.67791666, 0.32208334],\n",
       "       [0.6304946 , 0.3695054 ],\n",
       "       [0.70387884, 0.29612116],\n",
       "       [0.70926021, 0.29073979],\n",
       "       [0.63720695, 0.36279305],\n",
       "       [0.71063463, 0.28936537],\n",
       "       [0.641823  , 0.358177  ],\n",
       "       [0.63153064, 0.36846936],\n",
       "       [0.63187571, 0.36812429],\n",
       "       [0.69812773, 0.30187227],\n",
       "       [0.71017692, 0.28982308],\n",
       "       [0.69530709, 0.30469291],\n",
       "       [0.63187571, 0.36812429],\n",
       "       [0.68082439, 0.31917561],\n",
       "       [0.65968609, 0.34031391],\n",
       "       [0.7107871 , 0.2892129 ],\n",
       "       [0.63583431, 0.36416569],\n",
       "       [0.6423343 , 0.3576657 ],\n",
       "       [0.64097013, 0.35902987],\n",
       "       [0.63170319, 0.36829681],\n",
       "       [0.69310305, 0.30689695],\n",
       "       [0.66383596, 0.33616404],\n",
       "       [0.64675185, 0.35324815],\n",
       "       [0.65885314, 0.34114686],\n",
       "       [0.67238663, 0.32761337],\n",
       "       [0.6519863 , 0.3480137 ],\n",
       "       [0.65935303, 0.34064697],\n",
       "       [0.65181801, 0.34818199],\n",
       "       [0.63118543, 0.36881457],\n",
       "       [0.63118543, 0.36881457],\n",
       "       [0.63170319, 0.36829681],\n",
       "       [0.63428745, 0.36571255],\n",
       "       [0.63066736, 0.36933264],\n",
       "       [0.71154876, 0.28845124],\n",
       "       [0.63239307, 0.36760693],\n",
       "       [0.65030171, 0.34969829],\n",
       "       [0.68930414, 0.31069586],\n",
       "       [0.68946294, 0.31053706],\n",
       "       [0.68082439, 0.31917561],\n",
       "       [0.69009771, 0.30990229],\n",
       "       [0.63874849, 0.36125151],\n",
       "       [0.63428745, 0.36571255],\n",
       "       [0.63428745, 0.36571255],\n",
       "       [0.64488589, 0.35511411],\n",
       "       [0.63737837, 0.36262163],\n",
       "       [0.6736922 , 0.3263078 ],\n",
       "       [0.71109191, 0.28890809],\n",
       "       [0.63857735, 0.36142265],\n",
       "       [0.63857735, 0.36142265],\n",
       "       [0.70372424, 0.29627576],\n",
       "       [0.67985669, 0.32014331],\n",
       "       [0.63222065, 0.36777935],\n",
       "       [0.67042328, 0.32957672],\n",
       "       [0.69968833, 0.30031167],\n",
       "       [0.6304946 , 0.3695054 ],\n",
       "       [0.70542226, 0.29457774],\n",
       "       [0.69152331, 0.30847669],\n",
       "       [0.63273781, 0.36726219],\n",
       "       [0.6792107 , 0.3207893 ],\n",
       "       [0.70588437, 0.29411563],\n",
       "       [0.64624339, 0.35375661],\n",
       "       [0.70031128, 0.29968872],\n",
       "       [0.63394332, 0.36605668],\n",
       "       [0.67904909, 0.32095091],\n",
       "       [0.64079945, 0.35920055],\n",
       "       [0.63428745, 0.36571255],\n",
       "       [0.63118543, 0.36881457],\n",
       "       [0.64318574, 0.35681426],\n",
       "       [0.64709064, 0.35290936],\n",
       "       [0.65868643, 0.34131357],\n",
       "       [0.7034149 , 0.2965851 ],\n",
       "       [0.64420627, 0.35579373],\n",
       "       [0.66894684, 0.33105316],\n",
       "       [0.65249095, 0.34750905],\n",
       "       [0.70726816, 0.29273184],\n",
       "       [0.63377121, 0.36622879],\n",
       "       [0.6827551 , 0.3172449 ],\n",
       "       [0.63222065, 0.36777935],\n",
       "       [0.69875252, 0.30124748],\n",
       "       [0.6999999 , 0.3000001 ],\n",
       "       [0.63342688, 0.36657312],\n",
       "       [0.64045798, 0.35954202],\n",
       "       [0.69530709, 0.30469291],\n",
       "       [0.63840617, 0.36159383],\n",
       "       [0.67499508, 0.32500492],\n",
       "       [0.65333125, 0.34666875],\n",
       "       [0.70465113, 0.29534887],\n",
       "       [0.68531963, 0.31468037],\n",
       "       [0.63325466, 0.36674534],\n",
       "       [0.70279567, 0.29720433],\n",
       "       [0.64742928, 0.35257072],\n",
       "       [0.63669247, 0.36330753],\n",
       "       [0.66565397, 0.33434603],\n",
       "       [0.6989086 , 0.3010914 ],\n",
       "       [0.70956597, 0.29043403],\n",
       "       [0.63308241, 0.36691759],\n",
       "       [0.69357609, 0.30642391],\n",
       "       [0.70849498, 0.29150502],\n",
       "       [0.66845395, 0.33154605],\n",
       "       [0.63084008, 0.36915992],\n",
       "       [0.63187571, 0.36812429],\n",
       "       [0.65985256, 0.34014744],\n",
       "       [0.63394332, 0.36605668],\n",
       "       [0.63445946, 0.36554054],\n",
       "       [0.63135805, 0.36864195],\n",
       "       [0.63118543, 0.36881457],\n",
       "       [0.70742167, 0.29257833],\n",
       "       [0.69953248, 0.30046752],\n",
       "       [0.63118543, 0.36881457],\n",
       "       [0.63187571, 0.36812429],\n",
       "       [0.63066736, 0.36933264],\n",
       "       [0.7004669 , 0.2995331 ],\n",
       "       [0.65333125, 0.34666875],\n",
       "       [0.65735136, 0.34264864],\n",
       "       [0.63066736, 0.36933264],\n",
       "       [0.63480338, 0.36519662],\n",
       "       [0.63428745, 0.36571255],\n",
       "       [0.66433226, 0.33566774],\n",
       "       [0.68978042, 0.31021958],\n",
       "       [0.63170319, 0.36829681],\n",
       "       [0.70665361, 0.29334639],\n",
       "       [0.68467955, 0.31532045],\n",
       "       [0.64793696, 0.35206304],\n",
       "       [0.68659768, 0.31340232],\n",
       "       [0.63066736, 0.36933264],\n",
       "       [0.63291013, 0.36708987],\n",
       "       [0.65868643, 0.34131357],\n",
       "       [0.70634605, 0.29365395],\n",
       "       [0.65383498, 0.34616502],\n",
       "       [0.65047034, 0.34952966],\n",
       "       [0.63066736, 0.36933264],\n",
       "       [0.65851969, 0.34148031],\n",
       "       [0.64607384, 0.35392616],\n",
       "       [0.63256546, 0.36743454],\n",
       "       [0.63359906, 0.36640094],\n",
       "       [0.63066736, 0.36933264],\n",
       "       [0.70941311, 0.29058689],\n",
       "       [0.6320482 , 0.3679518 ],\n",
       "       [0.71017692, 0.28982308],\n",
       "       [0.64962681, 0.35037319],\n",
       "       [0.69436359, 0.30563641],\n",
       "       [0.6819514 , 0.3180486 ],\n",
       "       [0.68467955, 0.31532045],\n",
       "       [0.64471604, 0.35528396],\n",
       "       [0.70202057, 0.29797943],\n",
       "       [0.63118543, 0.36881457],\n",
       "       [0.64131139, 0.35868861],\n",
       "       [0.64607384, 0.35392616],\n",
       "       [0.63153064, 0.36846936],\n",
       "       [0.64556494, 0.35443506],\n",
       "       [0.65282718, 0.34717282],\n",
       "       [0.66201308, 0.33798692],\n",
       "       [0.69844022, 0.30155978],\n",
       "       [0.64301552, 0.35698448],\n",
       "       [0.655009  , 0.344991  ],\n",
       "       [0.70171021, 0.29828979],\n",
       "       [0.63135805, 0.36864195]])"
      ]
     },
     "execution_count": 24,
     "metadata": {},
     "output_type": "execute_result"
    }
   ],
   "source": [
    "# Predict the probability of the target\n",
    "clf.predict_proba(X)"
   ]
  },
  {
   "cell_type": "code",
   "execution_count": 25,
   "id": "3e851f2f",
   "metadata": {},
   "outputs": [
    {
     "data": {
      "text/plain": [
       "0.66"
      ]
     },
     "execution_count": 25,
     "metadata": {},
     "output_type": "execute_result"
    }
   ],
   "source": [
    "clf.score(X, y)"
   ]
  },
  {
   "cell_type": "code",
   "execution_count": 27,
   "id": "c21940b6",
   "metadata": {},
   "outputs": [
    {
     "data": {
      "text/plain": [
       "0.6390833298186707"
      ]
     },
     "execution_count": 27,
     "metadata": {},
     "output_type": "execute_result"
    }
   ],
   "source": [
    "from sklearn.metrics import log_loss\n",
    "\n",
    "log_loss(y, clf.predict_proba(X)[:, 1])"
   ]
  },
  {
   "cell_type": "code",
   "execution_count": null,
   "id": "31bff4a0",
   "metadata": {},
   "outputs": [],
   "source": []
  }
 ],
 "metadata": {
  "hide_input": false,
  "kernelspec": {
   "display_name": "dplearn",
   "language": "python",
   "name": "dplearn"
  },
  "language_info": {
   "codemirror_mode": {
    "name": "ipython",
    "version": 3
   },
   "file_extension": ".py",
   "mimetype": "text/x-python",
   "name": "python",
   "nbconvert_exporter": "python",
   "pygments_lexer": "ipython3",
<<<<<<< HEAD
   "version": "3.9.12"
=======
   "version": "3.7.5"
>>>>>>> upstream/main
  },
  "latex_envs": {
   "LaTeX_envs_menu_present": true,
   "autoclose": false,
   "autocomplete": true,
   "bibliofile": "biblio.bib",
   "cite_by": "apalike",
   "current_citInitial": 1,
   "eqLabelWithNumbers": true,
   "eqNumInitial": 1,
   "hotkeys": {
    "equation": "Ctrl-E",
    "itemize": "Ctrl-I"
   },
   "labels_anchors": false,
   "latex_user_defs": false,
   "report_style_numbering": false,
   "user_envs_cfg": false
  },
  "nbTranslate": {
   "displayLangs": [
    "*"
   ],
   "hotkey": "alt-t",
   "langInMainMenu": true,
   "sourceLang": "en",
   "targetLang": "fr",
   "useGoogleTranslate": true
  },
  "toc": {
   "base_numbering": 1,
   "nav_menu": {},
   "number_sections": true,
   "sideBar": true,
   "skip_h1_title": false,
   "title_cell": "Table of Contents",
   "title_sidebar": "Contents",
   "toc_cell": false,
   "toc_position": {},
   "toc_section_display": true,
   "toc_window_display": false
  }
 },
 "nbformat": 4,
 "nbformat_minor": 5
}
