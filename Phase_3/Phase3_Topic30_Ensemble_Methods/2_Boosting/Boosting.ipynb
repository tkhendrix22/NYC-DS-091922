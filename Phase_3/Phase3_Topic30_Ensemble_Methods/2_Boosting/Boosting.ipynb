{
 "cells": [
  {
   "cell_type": "markdown",
   "metadata": {
    "slideshow": {
     "slide_type": "slide"
    }
   },
   "source": [
    "<div style=\"color:white;\n",
    "           display:fill;\n",
    "           border-radius:5px;\n",
    "           background-color:#5642C5;\n",
    "           font-size:200%;\n",
    "           font-family:Arial;letter-spacing:0.5px\">\n",
    "\n",
    "<p width = 20%, style=\"padding: 10px;\n",
    "              color:white;\">\n",
    "Ensemble Learning: Gradient Boosting\n",
    "              \n",
    "</p>\n",
    "</div>\n",
    "\n",
    "Data Science Cohort Live NYC Nov 2022\n",
    "<p>Phase 3: Topic 30</p>\n",
    "<br>\n",
    "<br>\n",
    "\n",
    "<div align = \"right\">\n",
    "<img src=\"Images/flatiron-school-logo.png\" align = \"right\" width=\"200\"/>\n",
    "</div>\n",
    "    \n",
    "    "
   ]
  },
  {
   "cell_type": "code",
   "execution_count": 27,
   "metadata": {
    "slideshow": {
     "slide_type": "skip"
    }
   },
   "outputs": [
    {
     "ename": "ModuleNotFoundError",
     "evalue": "No module named 'sympy'",
     "output_type": "error",
     "traceback": [
      "\u001b[0;31m---------------------------------------------------------------------------\u001b[0m",
      "\u001b[0;31mModuleNotFoundError\u001b[0m                       Traceback (most recent call last)",
      "\u001b[0;32m<ipython-input-27-f3b5e8a7e105>\u001b[0m in \u001b[0;36m<module>\u001b[0;34m\u001b[0m\n\u001b[0;32m----> 1\u001b[0;31m \u001b[0;32mimport\u001b[0m \u001b[0msympy\u001b[0m\u001b[0;34m\u001b[0m\u001b[0;34m\u001b[0m\u001b[0m\n\u001b[0m",
      "\u001b[0;31mModuleNotFoundError\u001b[0m: No module named 'sympy'"
     ]
    }
   ],
   "source": [
    "import sympy"
   ]
  },
  {
   "cell_type": "markdown",
   "metadata": {
    "slideshow": {
     "slide_type": "slide"
    }
   },
   "source": [
    "#### Boosting\n",
    "- Besides bagging: other major framework for ensemble tree learning\n",
    "- Different philosophies of learning."
   ]
  },
  {
   "cell_type": "markdown",
   "metadata": {
    "slideshow": {
     "slide_type": "slide"
    }
   },
   "source": [
    "The Ralph Nader philosophy of learning:"
   ]
  },
  {
   "cell_type": "markdown",
   "metadata": {
    "cell_style": "split",
    "slideshow": {
     "slide_type": "fragment"
    }
   },
   "source": [
    "<img src = \"Images\\mistake_nader.jpg\" />"
   ]
  },
  {
   "cell_type": "markdown",
   "metadata": {
    "cell_style": "split",
    "slideshow": {
     "slide_type": "fragment"
    }
   },
   "source": [
    "<img src = \"Images\\nader.jpeg\" />\n",
    "<center> Nader giving you life lessons about learning theory AND the true source of income inequality in this country. </center>"
   ]
  },
  {
   "cell_type": "markdown",
   "metadata": {
    "slideshow": {
     "slide_type": "slide"
    }
   },
   "source": [
    "Boosting is essentially this:\n",
    "- at each step learner trains on mistakes of previous step.\n",
    "- uses knowledge of mistakes to correct predictions in next step."
   ]
  },
  {
   "cell_type": "markdown",
   "metadata": {
    "slideshow": {
     "slide_type": "slide"
    }
   },
   "source": [
    "**More technically**\n",
    "- Trying to approximate collection of targets $\\{y_i\\}$ with a function $F(x_i)$.\n",
    "\n",
    "Boosting: sequentially update F via step-by-step learning from errors."
   ]
  },
  {
   "cell_type": "markdown",
   "metadata": {
    "slideshow": {
     "slide_type": "fragment"
    }
   },
   "source": [
    "<img src = \"Images/boosting_update.png\" width = 500 />"
   ]
  },
  {
   "cell_type": "markdown",
   "metadata": {
    "cell_style": "split",
    "slideshow": {
     "slide_type": "slide"
    }
   },
   "source": [
    "But there's a general problem with this:\n",
    "- what if what we learn from last mistake is gleaned from a set of situations that are too specific?"
   ]
  },
  {
   "cell_type": "markdown",
   "metadata": {
    "cell_style": "split",
    "slideshow": {
     "slide_type": "fragment"
    }
   },
   "source": [
    "**More technically**\n",
    "\n",
    "Weighting last mistake with respect to the specific training data too strongly.\n",
    "\n",
    "- Our corrections to how we predict will then be too specific to the training data."
   ]
  },
  {
   "cell_type": "markdown",
   "metadata": {
    "cell_style": "center",
    "slideshow": {
     "slide_type": "slide"
    }
   },
   "source": [
    "**I just overfitted**"
   ]
  },
  {
   "cell_type": "markdown",
   "metadata": {
    "slideshow": {
     "slide_type": "fragment"
    }
   },
   "source": [
    "Yes I learned from a specific set of mistakes:\n",
    "- but have I learned a sufficiently general lesson?"
   ]
  },
  {
   "cell_type": "markdown",
   "metadata": {
    "slideshow": {
     "slide_type": "fragment"
    }
   },
   "source": [
    "Want to learn from last mistakes in a way that is **generalizable**"
   ]
  },
  {
   "cell_type": "markdown",
   "metadata": {
    "cell_style": "center",
    "slideshow": {
     "slide_type": "slide"
    }
   },
   "source": [
    "One possibility: \n",
    "- don't weight lesson from any one mistake too strongly.\n",
    "- perhaps even learn from different mistakes in a \"weak\" manner\n",
    "- BUT do this a bunch of times in sequence.\n"
   ]
  },
  {
   "cell_type": "markdown",
   "metadata": {
    "cell_style": "center",
    "slideshow": {
     "slide_type": "fragment"
    }
   },
   "source": [
    "The hope is that eventually:\n",
    "\n",
    "- Gain wisdom via each generation learning from the previous \n",
    "- But in a weak way: take some of the \"lessons\" but not all."
   ]
  },
  {
   "cell_type": "markdown",
   "metadata": {
    "slideshow": {
     "slide_type": "slide"
    }
   },
   "source": [
    "<center><b> Can such a sequence of weak learners create a single strong learner? </b></center>"
   ]
  },
  {
   "cell_type": "markdown",
   "metadata": {
    "slideshow": {
     "slide_type": "fragment"
    }
   },
   "source": [
    "The answer is yes."
   ]
  },
  {
   "cell_type": "markdown",
   "metadata": {
    "slideshow": {
     "slide_type": "slide"
    }
   },
   "source": [
    "#### Gradient Boosting"
   ]
  },
  {
   "cell_type": "markdown",
   "metadata": {
    "cell_style": "split",
    "slideshow": {
     "slide_type": "fragment"
    }
   },
   "source": [
    "<img src = \"Images/boosting_update.png\" width = 500 />"
   ]
  },
  {
   "cell_type": "markdown",
   "metadata": {
    "cell_style": "split",
    "slideshow": {
     "slide_type": "fragment"
    }
   },
   "source": [
    "Getting better approximations on $F$ iteratively.\n",
    "- Looks a lot like gradient descent.\n",
    "\n"
   ]
  },
  {
   "cell_type": "markdown",
   "metadata": {
    "slideshow": {
     "slide_type": "slide"
    }
   },
   "source": [
    "Use regression as example:\n",
    "\n",
    "- Least squares objective function:"
   ]
  },
  {
   "cell_type": "code",
   "execution_count": 28,
   "metadata": {
    "slideshow": {
     "slide_type": "slide"
    }
   },
   "outputs": [
    {
     "ename": "ModuleNotFoundError",
     "evalue": "No module named 'sympy'",
     "output_type": "error",
     "traceback": [
      "\u001b[0;31m---------------------------------------------------------------------------\u001b[0m",
      "\u001b[0;31mModuleNotFoundError\u001b[0m                       Traceback (most recent call last)",
      "\u001b[0;32m<ipython-input-28-9ecea8889946>\u001b[0m in \u001b[0;36m<module>\u001b[0;34m\u001b[0m\n\u001b[0;32m----> 1\u001b[0;31m \u001b[0;32mfrom\u001b[0m \u001b[0msympy\u001b[0m \u001b[0;32mimport\u001b[0m \u001b[0;34m*\u001b[0m\u001b[0;34m\u001b[0m\u001b[0;34m\u001b[0m\u001b[0m\n\u001b[0m\u001b[1;32m      2\u001b[0m \u001b[0;32mfrom\u001b[0m \u001b[0msympy\u001b[0m\u001b[0;34m.\u001b[0m\u001b[0mabc\u001b[0m \u001b[0;32mimport\u001b[0m \u001b[0mx\u001b[0m\u001b[0;34m,\u001b[0m \u001b[0my\u001b[0m\u001b[0;34m\u001b[0m\u001b[0;34m\u001b[0m\u001b[0m\n\u001b[1;32m      3\u001b[0m \u001b[0;34m\u001b[0m\u001b[0m\n\u001b[1;32m      4\u001b[0m \u001b[0mx\u001b[0m\u001b[0;34m,\u001b[0m \u001b[0my\u001b[0m\u001b[0;34m,\u001b[0m \u001b[0mi\u001b[0m\u001b[0;34m,\u001b[0m \u001b[0mN\u001b[0m\u001b[0;34m,\u001b[0m \u001b[0mh\u001b[0m\u001b[0;34m,\u001b[0m \u001b[0mF\u001b[0m \u001b[0;34m=\u001b[0m \u001b[0msymbols\u001b[0m\u001b[0;34m(\u001b[0m\u001b[0;34m\"x, y, i, N, h_0, F\"\u001b[0m\u001b[0;34m)\u001b[0m\u001b[0;34m\u001b[0m\u001b[0;34m\u001b[0m\u001b[0m\n\u001b[1;32m      5\u001b[0m \u001b[0mL\u001b[0m \u001b[0;34m=\u001b[0m \u001b[0msummation\u001b[0m\u001b[0;34m(\u001b[0m\u001b[0;34m(\u001b[0m\u001b[0mIndexed\u001b[0m\u001b[0;34m(\u001b[0m\u001b[0;34m'y'\u001b[0m\u001b[0;34m,\u001b[0m\u001b[0mi\u001b[0m\u001b[0;34m)\u001b[0m \u001b[0;34m-\u001b[0m \u001b[0mF\u001b[0m\u001b[0;34m)\u001b[0m\u001b[0;34m**\u001b[0m\u001b[0;36m2\u001b[0m \u001b[0;34m,\u001b[0m\u001b[0;34m(\u001b[0m\u001b[0mi\u001b[0m\u001b[0;34m,\u001b[0m\u001b[0;36m1\u001b[0m\u001b[0;34m,\u001b[0m\u001b[0mN\u001b[0m\u001b[0;34m)\u001b[0m\u001b[0;34m)\u001b[0m\u001b[0;34m/\u001b[0m\u001b[0;36m2\u001b[0m\u001b[0;34m\u001b[0m\u001b[0;34m\u001b[0m\u001b[0m\n",
      "\u001b[0;31mModuleNotFoundError\u001b[0m: No module named 'sympy'"
     ]
    }
   ],
   "source": [
    "from sympy import *\n",
    "from sympy.abc import x, y\n",
    "\n",
    "x, y, i, N, h, F = symbols(\"x, y, i, N, h_0, F\")\n",
    "L = summation((Indexed('y',i) - F)**2 ,(i,1,N))/2"
   ]
  },
  {
   "cell_type": "code",
   "execution_count": null,
   "metadata": {
    "cell_style": "split",
    "slideshow": {
     "slide_type": "slide"
    }
   },
   "outputs": [],
   "source": [
    "L"
   ]
  },
  {
   "cell_type": "markdown",
   "metadata": {
    "cell_style": "split",
    "slideshow": {
     "slide_type": "fragment"
    }
   },
   "source": [
    "Take gradient with respect to the function $F$"
   ]
  },
  {
   "cell_type": "code",
   "execution_count": null,
   "metadata": {
    "cell_style": "split",
    "slideshow": {
     "slide_type": "fragment"
    }
   },
   "outputs": [],
   "source": [
    "gradL = diff(L, F)\n",
    "gradL"
   ]
  },
  {
   "cell_type": "markdown",
   "metadata": {
    "slideshow": {
     "slide_type": "slide"
    }
   },
   "source": [
    "Thus:"
   ]
  },
  {
   "cell_type": "markdown",
   "metadata": {
    "cell_style": "center",
    "slideshow": {
     "slide_type": "fragment"
    }
   },
   "source": [
    "$$ \\nabla_FL = \\sum_{i=1}^N \\Big(F(x_i)- y_i\\Big) $$\n",
    "\n",
    "or $$ - \\nabla_FL = \\sum_{i=1}^N  \\Big(y_i - F(x_i)\\Big) $$\n",
    "**This is  error we input to learner at each step**"
   ]
  },
  {
   "cell_type": "markdown",
   "metadata": {
    "cell_style": "split",
    "slideshow": {
     "slide_type": "slide"
    }
   },
   "source": [
    "Input into a regressor:\n",
    "\n",
    "Want to learn from errors at given stage $m$:"
   ]
  },
  {
   "cell_type": "markdown",
   "metadata": {
    "cell_style": "split",
    "slideshow": {
     "slide_type": "fragment"
    }
   },
   "source": [
    "<img src = \"Images/train_mistakes.png\" />"
   ]
  },
  {
   "cell_type": "markdown",
   "metadata": {
    "cell_style": "split",
    "slideshow": {
     "slide_type": "slide"
    }
   },
   "source": [
    "Now we have a statistical model that can predict error from previous step:\n",
    "\n",
    "- Learned function:\n",
    "$$h_m(x_i)$$"
   ]
  },
  {
   "cell_type": "markdown",
   "metadata": {
    "cell_style": "split",
    "slideshow": {
     "slide_type": "fragment"
    }
   },
   "source": [
    "<img src = \"Images/error_prediction.png\" />"
   ]
  },
  {
   "cell_type": "markdown",
   "metadata": {
    "cell_style": "center",
    "slideshow": {
     "slide_type": "slide"
    }
   },
   "source": [
    "Adding this to previous estimator: previous estimator + training error\n",
    "    \n",
    "$$ F_{m+1}(x_i) = F_m(x_i) + h_m(x_i) $$\n",
    "\n",
    "Corrects for error in previous stage."
   ]
  },
  {
   "cell_type": "markdown",
   "metadata": {
    "slideshow": {
     "slide_type": "fragment"
    }
   },
   "source": [
    "This is good, right?"
   ]
  },
  {
   "cell_type": "markdown",
   "metadata": {
    "slideshow": {
     "slide_type": "slide"
    }
   },
   "source": [
    "Not necessarily. If regressor is good at fitting error:\n",
    "\n",
    "- this is a super-strong learner:\n",
    "- Accounts too strongly for specific training errors  at step $m$.\n",
    "\n",
    "**Will introduce variance problems**"
   ]
  },
  {
   "cell_type": "markdown",
   "metadata": {
    "slideshow": {
     "slide_type": "slide"
    }
   },
   "source": [
    "A way to make learner weak: \n",
    "- simpler decision trees\n",
    "- the learning rate $\\alpha$"
   ]
  },
  {
   "cell_type": "markdown",
   "metadata": {
    "slideshow": {
     "slide_type": "slide"
    }
   },
   "source": [
    "#### Weaker vs. stronger learners: decision tree depth"
   ]
  },
  {
   "cell_type": "markdown",
   "metadata": {
    "cell_style": "split",
    "slideshow": {
     "slide_type": "slide"
    }
   },
   "source": [
    "<center><b>Strong Learner </b> </center>\n",
    "<img src = \"Images/deep_tree.png\" />\n",
    "<center> Will train on errors at each step very well. But probably too well. </center>"
   ]
  },
  {
   "cell_type": "markdown",
   "metadata": {
    "cell_style": "split",
    "slideshow": {
     "slide_type": "fragment"
    }
   },
   "source": [
    "<center><b>Weak learner </b></center>\n",
    "<center><img src = \"Images/dec_stump.png\" width = 250/></center>\n",
    "\n",
    "<center> Decision boundary learned by stump: </center>\n",
    "<center><img src = \"Images/dectree_stump_boundary.png\" width = 250/></center>"
   ]
  },
  {
   "cell_type": "markdown",
   "metadata": {
    "slideshow": {
     "slide_type": "slide"
    }
   },
   "source": [
    "#### The learning rate"
   ]
  },
  {
   "cell_type": "markdown",
   "metadata": {
    "cell_style": "split",
    "slideshow": {
     "slide_type": "fragment"
    }
   },
   "source": [
    "Instead of:\n",
    "    \n",
    "$$ F_{m+1}(x_i) = F_m(x_i) + h_m(x_i) $$\n",
    "\n",
    "with $ h_m(x_i)$ learned by tree."
   ]
  },
  {
   "cell_type": "markdown",
   "metadata": {
    "cell_style": "split",
    "slideshow": {
     "slide_type": "fragment"
    }
   },
   "source": [
    "Weight learning from mth mistake weakly:\n",
    "\n",
    "$$ F_{m+1}(x_i) = F_m(x_i) + \\alpha h_m(x_i) $$\n",
    "\n",
    "where $\\alpha$ is small. \n",
    "\n",
    "- Weakens effect of learning from error."
   ]
  },
  {
   "cell_type": "markdown",
   "metadata": {
    "slideshow": {
     "slide_type": "slide"
    }
   },
   "source": [
    "The learning rate $\\alpha$ controls how much we weight learners:\n",
    "\n",
    "- We weight how we factor in our learning from mistakes of a given step weakly.\n"
   ]
  },
  {
   "cell_type": "markdown",
   "metadata": {
    "slideshow": {
     "slide_type": "slide"
    }
   },
   "source": [
    "The learning rate (one factor controlling weakness of learners): connects to gradient descent"
   ]
  },
  {
   "cell_type": "markdown",
   "metadata": {
    "cell_style": "center",
    "slideshow": {
     "slide_type": "fragment"
    }
   },
   "source": [
    "$$ F_{m+1}(x_i) = F_m(x_i) + \\alpha h_m(x_i) $$"
   ]
  },
  {
   "cell_type": "markdown",
   "metadata": {
    "cell_style": "center",
    "slideshow": {
     "slide_type": "fragment"
    }
   },
   "source": [
    "$$ F_{m+1}(x_i) = F_m(x_i) + \\alpha \\Big(y_i - F_m(x_i)\\Big)_{estimated} $$\n"
   ]
  },
  {
   "cell_type": "markdown",
   "metadata": {
    "slideshow": {
     "slide_type": "slide"
    }
   },
   "source": [
    "But we know that:\n",
    "$$ - \\nabla_F L|_{x_i} = \\sum_i^{N} \\Big(y_i - F_m(x_i)\\Big) $$"
   ]
  },
  {
   "cell_type": "markdown",
   "metadata": {
    "cell_style": "center",
    "slideshow": {
     "slide_type": "slide"
    }
   },
   "source": [
    "$$ F_{m+1}(x_i) = F_m(x_i) + \\alpha \\Big(y_i - F_m(x_i)\\Big)_{estimated} $$"
   ]
  },
  {
   "cell_type": "markdown",
   "metadata": {
    "cell_style": "center",
    "slideshow": {
     "slide_type": "fragment"
    }
   },
   "source": [
    "$$ F_{m+1}(x_i) = F_m(x_i) - \\alpha \\nabla_F L|_{x_i} $$"
   ]
  },
  {
   "cell_type": "markdown",
   "metadata": {
    "cell_style": "center",
    "slideshow": {
     "slide_type": "slide"
    }
   },
   "source": [
    "$$ F_{m+1}(x_i) = F_m(x_i) - \\alpha \\nabla_F L|_{x_i} $$"
   ]
  },
  {
   "cell_type": "markdown",
   "metadata": {
    "cell_style": "center",
    "slideshow": {
     "slide_type": "fragment"
    }
   },
   "source": [
    "Doing gradient descent:\n",
    "- iteratively adding onto (or boosting) estimator to lower loss.\n",
    "- Parameter $\\alpha$ controlling gradient step also representing weakness of learning at each stage.\n"
   ]
  },
  {
   "cell_type": "markdown",
   "metadata": {
    "slideshow": {
     "slide_type": "slide"
    }
   },
   "source": [
    "That's why its called gradient boosting!\n",
    "\n",
    "General framework: with different $L$ applies to classification, etc."
   ]
  },
  {
   "cell_type": "markdown",
   "metadata": {
    "slideshow": {
     "slide_type": "slide"
    }
   },
   "source": [
    "A summary of the learning process in more detail:"
   ]
  },
  {
   "cell_type": "markdown",
   "metadata": {
    "slideshow": {
     "slide_type": "fragment"
    }
   },
   "source": [
    "<center><img src = \"Images/update_detailed_process.png\" width = 1000/></center>"
   ]
  },
  {
   "cell_type": "code",
   "execution_count": null,
   "metadata": {
    "slideshow": {
     "slide_type": "skip"
    }
   },
   "outputs": [],
   "source": [
    "import pandas as pd\n",
    "import numpy as np\n",
    "import matplotlib.pyplot as plt\n",
    "from scipy.stats import norm\n",
    "from sklearn.tree import DecisionTreeRegressor, plot_tree\n",
    "\n",
    "%matplotlib inline"
   ]
  },
  {
   "cell_type": "markdown",
   "metadata": {
    "slideshow": {
     "slide_type": "slide"
    }
   },
   "source": [
    "#### Fit a noisy sinusoid with boosting:"
   ]
  },
  {
   "cell_type": "code",
   "execution_count": null,
   "metadata": {
    "scrolled": true,
    "slideshow": {
     "slide_type": "slide"
    }
   },
<<<<<<< HEAD
   "outputs": [],
=======
   "outputs": [
    {
     "data": {
      "image/png": "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\n",
      "text/plain": [
       "<Figure size 432x288 with 1 Axes>"
      ]
     },
     "metadata": {
      "needs_background": "light"
     },
     "output_type": "display_data"
    }
   ],
>>>>>>> upstream/main
   "source": [
    "import numpy as np\n",
    "X = np.linspace(0,40,1000)\n",
    "y = np.sin(X) + norm.rvs(loc = 0, scale = .4, size = 1000)\n",
    "fig, ax = plt.subplots()\n",
    "ax.scatter(X, y);"
   ]
  },
  {
   "cell_type": "markdown",
   "metadata": {
    "slideshow": {
     "slide_type": "slide"
    }
   },
   "source": [
    "#### Starting point: the dummy model\n",
    "\n",
    "Dummy regressor: average of our $\\{y_i\\}$ as a model of our data."
   ]
  },
  {
   "cell_type": "code",
   "execution_count": null,
   "metadata": {
    "cell_style": "center",
    "scrolled": false,
    "slideshow": {
     "slide_type": "slide"
    }
   },
   "outputs": [],
   "source": [
    "%%capture dummyapprox\n",
    "fig, ax = plt.subplots()\n",
    "ax.scatter(X, y, label = 'Data')\n",
    "f0 = y.mean()\n",
    "ax.hlines(f0, 0, 40, linestyle = '--', color = 'r', label = 'Dummy Regressor')\n",
    "ax.set_ylabel('y')\n",
    "ax.set_xlabel('X')\n",
    "ax.legend()\n",
    "plt.show()"
   ]
  },
  {
   "cell_type": "code",
   "execution_count": null,
   "metadata": {
    "cell_style": "center",
    "slideshow": {
     "slide_type": "fragment"
    }
   },
<<<<<<< HEAD
   "outputs": [],
=======
   "outputs": [
    {
     "data": {
      "image/png": "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\n",
      "text/plain": [
       "<Figure size 432x288 with 1 Axes>"
      ]
     },
     "metadata": {
      "needs_background": "light"
     },
     "output_type": "display_data"
    }
   ],
>>>>>>> upstream/main
   "source": [
    "dummyapprox()"
   ]
  },
  {
   "cell_type": "markdown",
   "metadata": {
    "slideshow": {
     "slide_type": "slide"
    }
   },
   "source": [
    "#### Now walk through process of \"boosting\" this prediction with weak learner sequence."
   ]
  },
  {
   "cell_type": "code",
   "execution_count": null,
   "metadata": {
    "slideshow": {
     "slide_type": "slide"
    }
   },
   "outputs": [],
   "source": [
    "def simple_boosting_algorithm(X, y, n_learners, learner,\n",
    "                              learning_rate):\n",
    "    y = y.ravel()\n",
    "    # calculates the dummy model\n",
    "    f0 = y.mean()\n",
    "    \n",
    "    # calculates error of first step\n",
    "    residuals = y - f0\n",
    "    \n",
    "    # This next line fills an array of len(y) with the mean of y.\n",
    "    f = np.full(len(y), fill_value=f0)\n",
    "\n",
    "    # start sequential training \n",
    "\n",
    "    for i in range(n_learners):\n",
    "        # error of previous model\n",
    "        residuals = y - f\n",
    "        \n",
    "        # fit error with decision tree\n",
    "        mod = learner.fit(X.reshape(-1, 1), residuals)\n",
    "\n",
    "        # update f\n",
    "        f = learning_rate * mod.predict(X.reshape(-1, 1)) + f\n",
    "        fit_df = pd.DataFrame({'x': X, 'F': f})\n",
    "    return fit_df\n",
    "    \n",
    "   "
   ]
  },
  {
   "cell_type": "code",
   "execution_count": null,
   "metadata": {},
   "outputs": [],
   "source": []
  },
  {
   "cell_type": "code",
   "execution_count": null,
   "metadata": {
    "scrolled": false,
    "slideshow": {
     "slide_type": "skip"
    }
   },
   "outputs": [],
   "source": [
    "\n",
    "from bokeh.layouts import column,row\n",
    "from bokeh.models import ColumnDataSource, Slider, TextInput, Select\n",
    "from bokeh.plotting import figure, output_file, show\n",
    "from bokeh.io import show, output_notebook\n",
    "from bokeh.themes import Theme\n",
    "import yaml\n",
    "import numpy as np\n",
    "output_notebook()\n",
    "\n",
    "def bk_app(doc):\n",
    "    \n",
    "    func_approx =simple_boosting_algorithm(X=X,\n",
    "                      y=y,\n",
    "                      n_learners= 1,\n",
    "                      learner=DecisionTreeRegressor(max_depth= 1),\n",
    "                      learning_rate=0.02)\n",
    "\n",
    "    source = ColumnDataSource(func_approx)\n",
    "\n",
    "    # Create plots and widgets\n",
    "    plot = figure()\n",
    "\n",
    "    plot.circle(X, y, size = 6, color = 'blue', legend_label= 'Data')\n",
    "    plot.line('x', 'F', source = source, line_width=3, line_alpha=1, color = 'red', legend_label = 'Boosting') \n",
    "\n",
    "    # Create Slider object\n",
    "     \n",
    "    tree_depth = Slider(start=1, end=10, value=1,\n",
    "                    step=1, title='Tree Depth')  \n",
    "    \n",
    "    n_est = TextInput(title=\"Number of estimators\", value = '1')\n",
    "    \n",
    "    lr = Select(title=\"Learning rate\", value='5e-1',\n",
    "               options=['1e-4', '1e-3', '5e-3', '1e-2', '5e-2', '1e-1', '5e-1', '1'])\n",
    "\n",
    "    # Adding callback code\n",
    "    def callback(attr, old, new):\n",
    "        N = n_est.value\n",
    "        depth = tree_depth.value\n",
    "        learn_rate = float(lr.value)\n",
    "        \n",
    "        func_approx =simple_boosting_algorithm(X=X,\n",
    "                              y=y,\n",
    "                              n_learners= int(N),\n",
    "                              learner=DecisionTreeRegressor(max_depth= depth),\n",
    "                              learning_rate= float(learn_rate))\n",
    "\n",
    "        source.data = func_approx\n",
    "\n",
    "\n",
    "    tree_depth.on_change('value', callback)\n",
    "    n_est.on_change('value', callback)\n",
    "    lr.on_change('value', callback)\n",
    "\n",
    "    doc.add_root(row(\n",
    "        plot,\n",
    "        column(tree_depth, n_est, lr),\n",
    "    ))\n",
    "\n",
    "    doc.theme = Theme(json=yaml.load(\"\"\"\n",
    "        attrs:\n",
    "            Figure:\n",
    "                background_fill_color: white\n",
    "                outline_line_color: white\n",
    "                toolbar_location: above\n",
    "                height: 450\n",
    "                width: 450\n",
    "    \"\"\", Loader=yaml.FullLoader))\n",
    "\n"
   ]
  },
  {
   "cell_type": "markdown",
   "metadata": {
    "slideshow": {
     "slide_type": "slide"
    }
   },
   "source": [
    "The effects of sequential boosting with weak learners:"
   ]
  },
  {
   "cell_type": "code",
<<<<<<< HEAD
   "execution_count": null,
=======
   "execution_count": 11,
>>>>>>> upstream/main
   "metadata": {
    "scrolled": false,
    "slideshow": {
     "slide_type": "fragment"
    }
   },
<<<<<<< HEAD
   "outputs": [],
=======
   "outputs": [
    {
     "data": {
      "application/vnd.bokehjs_exec.v0+json": "",
      "text/html": [
       "<script id=\"1003\">\n",
       "  (function() {\n",
       "    const xhr = new XMLHttpRequest()\n",
       "    xhr.responseType = 'blob';\n",
       "    xhr.open('GET', \"http://localhost:51038/autoload.js?bokeh-autoload-element=1003&bokeh-absolute-url=http://localhost:51038&resources=none\", true);\n",
       "    xhr.onload = function (event) {\n",
       "      const script = document.createElement('script');\n",
       "      const src = URL.createObjectURL(event.target.response);\n",
       "      script.src = src;\n",
       "      document.body.appendChild(script);\n",
       "    };\n",
       "    xhr.send();\n",
       "  })();\n",
       "</script>"
      ]
     },
     "metadata": {
      "application/vnd.bokehjs_exec.v0+json": {
       "server_id": "048aa36290fb4fba860d5b93cd3f4c8b"
      }
     },
     "output_type": "display_data"
    }
   ],
>>>>>>> upstream/main
   "source": [
    "show(bk_app, notebook_url=\"http://localhost:8888\")"
   ]
  },
  {
   "cell_type": "markdown",
   "metadata": {
    "cell_style": "split",
    "slideshow": {
     "slide_type": "slide"
    }
   },
   "source": [
    "Gradient boosting:\n",
    "    \n",
    "- Tuning hyperparameters can be very important for performance."
   ]
  },
  {
   "cell_type": "markdown",
   "metadata": {
    "cell_style": "split",
    "slideshow": {
     "slide_type": "slide"
    }
   },
   "source": [
    "- Number of estimators (convergence/overfitting)\n",
    "- learning rate (too high...overfit)\n",
    "- tree depth (too large...overfit)\n",
    "\n",
    "Critical hyperparameters in balance between underfitting/overfitting"
   ]
  },
  {
   "cell_type": "markdown",
   "metadata": {
    "slideshow": {
     "slide_type": "slide"
    }
   },
   "source": [
    "Playing around with hyperparameters"
   ]
  },
  {
   "cell_type": "code",
<<<<<<< HEAD
   "execution_count": null,
=======
   "execution_count": 12,
>>>>>>> upstream/main
   "metadata": {
    "scrolled": true,
    "slideshow": {
     "slide_type": "fragment"
    }
   },
<<<<<<< HEAD
   "outputs": [],
=======
   "outputs": [
    {
     "data": {
      "application/vnd.bokehjs_exec.v0+json": "",
      "text/html": [
       "<script id=\"1004\">\n",
       "  (function() {\n",
       "    const xhr = new XMLHttpRequest()\n",
       "    xhr.responseType = 'blob';\n",
       "    xhr.open('GET', \"http://localhost:51040/autoload.js?bokeh-autoload-element=1004&bokeh-absolute-url=http://localhost:51040&resources=none\", true);\n",
       "    xhr.onload = function (event) {\n",
       "      const script = document.createElement('script');\n",
       "      const src = URL.createObjectURL(event.target.response);\n",
       "      script.src = src;\n",
       "      document.body.appendChild(script);\n",
       "    };\n",
       "    xhr.send();\n",
       "  })();\n",
       "</script>"
      ]
     },
     "metadata": {
      "application/vnd.bokehjs_exec.v0+json": {
       "server_id": "b9aea5db5d344727a5f4402e86e82cc3"
      }
     },
     "output_type": "display_data"
    }
   ],
>>>>>>> upstream/main
   "source": [
    "show(bk_app, notebook_url=\"http://localhost:8888\")"
   ]
  },
  {
   "cell_type": "markdown",
   "metadata": {
    "cell_style": "split",
    "slideshow": {
     "slide_type": "slide"
    }
   },
   "source": [
    "Why do all this?\n",
    "\n",
    "- Decision trees can be very fast.\n",
    "- Weak learners (particularly stumps) are even **faster**."
   ]
  },
  {
   "cell_type": "markdown",
   "metadata": {
    "cell_style": "split",
    "slideshow": {
     "slide_type": "fragment"
    }
   },
   "source": [
    "In principal:\n",
    "- can tune and fit models really quickly."
   ]
  },
  {
   "cell_type": "markdown",
   "metadata": {
    "cell_style": "center",
    "slideshow": {
     "slide_type": "slide"
    }
   },
   "source": [
    "Our naive implementation: \n",
    "- can be a little sensitive to overfitting \n",
    "- certainly overfits more than random forests."
   ]
  },
  {
   "cell_type": "markdown",
   "metadata": {
    "slideshow": {
     "slide_type": "slide"
    }
   },
   "source": [
    "\n",
    "Gets much better with extra randomization: \n",
    "- Random feature subset selection on individual trees \n",
    "- Randomly sampling subset of training data to improve on error at each stage.\n"
   ]
  },
  {
   "cell_type": "markdown",
   "metadata": {
    "slideshow": {
     "slide_type": "slide"
    }
   },
   "source": [
    "Even better with regularization on trees:"
   ]
  },
  {
   "cell_type": "markdown",
   "metadata": {
    "cell_style": "split",
    "slideshow": {
     "slide_type": "fragment"
    }
   },
   "source": [
    "$$ L = \\sum_{i=1}^N l(y_i, \\hat{y}_i) + \\gamma \\sum_{m=1}^M \\Omega(h_m)$$\n",
    "- $\\Omega$: complexity of tree at the mth step. \n",
    "- $\\gamma$: controls penalty on complexity \n",
    "\n",
    "**Penalizing building more complex trees but also allows for it if necessary**"
   ]
  },
  {
   "cell_type": "markdown",
   "metadata": {
    "cell_style": "split",
    "slideshow": {
     "slide_type": "fragment"
    }
   },
   "source": [
    "$\\gamma$ controls tree pruning. If branch doesn't minimize error (maximize imformation gain) **enough** then cut it.\n",
    "\n",
    "<img src = \"Images/pruning_reg.webp\" />"
   ]
  },
  {
   "cell_type": "markdown",
   "metadata": {
    "cell_style": "center",
    "slideshow": {
     "slide_type": "slide"
    }
   },
   "source": [
    "#### Use above strategies + a lot of algorithm optimization\n",
    "\n",
    "- XGBoost (Extreme Gradient Boosting)\n",
    "\n"
   ]
  },
  {
   "cell_type": "markdown",
   "metadata": {
    "cell_style": "center",
    "slideshow": {
     "slide_type": "fragment"
    }
   },
   "source": [
    "<img src = \"Images/xgboost.png\" />\n",
    "<center>Package integrates well with scikit-learn</center>"
   ]
  },
  {
   "cell_type": "markdown",
   "metadata": {
    "slideshow": {
     "slide_type": "slide"
    }
   },
   "source": [
    "Load in the XGB classifier/regressor"
   ]
  },
  {
   "cell_type": "code",
   "execution_count": null,
   "metadata": {
    "slideshow": {
     "slide_type": "fragment"
    }
   },
   "outputs": [],
   "source": [
    "from xgboost import XGBRegressor\n",
    "from xgboost import XGBClassifier"
   ]
  },
  {
   "cell_type": "code",
   "execution_count": null,
   "metadata": {
    "slideshow": {
     "slide_type": "fragment"
    }
   },
   "outputs": [],
   "source": [
    "from sklearn.model_selection import train_test_split\n",
    "from sklearn.model_selection import GridSearchCV"
   ]
  },
  {
   "cell_type": "code",
   "execution_count": null,
   "metadata": {
    "slideshow": {
     "slide_type": "fragment"
    }
   },
   "outputs": [],
   "source": [
    "X_train, X_test, y_train, y_test = train_test_split(X, y, test_size = .3)"
   ]
  },
  {
   "cell_type": "markdown",
   "metadata": {
    "slideshow": {
     "slide_type": "slide"
    }
   },
   "source": [
    "#### Hyperparameters to tune and ranges"
   ]
  },
  {
   "cell_type": "markdown",
   "metadata": {
    "slideshow": {
     "slide_type": "fragment"
    }
   },
   "source": [
    "| Hyperparameter | Description  | Typical ranges | <center> Comments </center> |\n",
    "| --- | --- | --- | --- |\n",
    "| n_estimator | Number of trees <br> (iterations in sequence) | 50-500 | <center> Can get into low thousands. <br> Increasing beyond certain point: <br> overfitting or no benefit. </center>  |\n",
    "| max_depth | Maximum tree depth of learners | 3-6 |<center> Increment by 1. <br> Changing depth: huge effect. </center>| \n",
    "| learning_rate | The learning rate | 1e-3 to 1 | <center> Proper regularization/randomization <br> allows for faster learning rates <br> ~ 0.1-1 </center>   |\n",
    "|  <font color='red'>gamma </font>| Tree complexity regularization | 0 - 100 | <center> Primary knob for tree regularization </center>   |\n",
    "| <font color='red'>colsample_bytree </font> | <center> Fraction of features <br> randomly sampled by tree </center> | 0.5 - 1 | <center> Regularizing effect  <br>colsample_bylevel, colsample_bynode:<br> add extra degrees of randomization </center>|"
   ]
  },
  {
   "cell_type": "markdown",
   "metadata": {
    "slideshow": {
     "slide_type": "slide"
    }
   },
   "source": [
    "XGB estimators fits neatly and seamlessly into scikit-learn model pipelines, grid search, etc."
   ]
  },
  {
   "cell_type": "code",
   "execution_count": null,
   "metadata": {
    "slideshow": {
     "slide_type": "fragment"
    }
   },
   "outputs": [],
   "source": [
    "from xgboost import XGBRegressor\n",
    "from xgboost import XGBClassifier"
   ]
  },
  {
   "cell_type": "code",
   "execution_count": null,
   "metadata": {
    "slideshow": {
     "slide_type": "fragment"
    }
   },
   "outputs": [],
   "source": [
    "params = {'max_depth': [3,4, 5], 'learning_rate': [.1, .3, .5],\n",
    "          'gamma': [0,5,10], 'n_estimators': [50,100, 150] }\n",
    "cv = GridSearchCV(estimator = XGBRegressor(objective='reg:squarederror'), scoring='neg_mean_absolute_error',\n",
    "                  param_grid = params, cv = 5)\n",
    "cv.fit(X_train.reshape(-1,1), y_train);"
   ]
  },
  {
   "cell_type": "code",
   "execution_count": null,
   "metadata": {
    "cell_style": "center",
    "scrolled": true,
    "slideshow": {
     "slide_type": "slide"
    }
   },
<<<<<<< HEAD
   "outputs": [],
=======
   "outputs": [
    {
     "data": {
      "text/plain": [
       "XGBRegressor(base_score=0.5, booster='gbtree', colsample_bylevel=1,\n",
       "             colsample_bynode=1, colsample_bytree=1, enable_categorical=False,\n",
       "             gamma=0, gpu_id=-1, importance_type=None,\n",
       "             interaction_constraints='', learning_rate=0.1, max_delta_step=0,\n",
       "             max_depth=3, min_child_weight=1, missing=nan,\n",
       "             monotone_constraints='()', n_estimators=100, n_jobs=8,\n",
       "             num_parallel_tree=1, predictor='auto', random_state=0, reg_alpha=0,\n",
       "             reg_lambda=1, scale_pos_weight=1, subsample=1, tree_method='exact',\n",
       "             validate_parameters=1, verbosity=None)"
      ]
     },
     "execution_count": 18,
     "metadata": {},
     "output_type": "execute_result"
    }
   ],
>>>>>>> upstream/main
   "source": [
    "cv.best_estimator_"
   ]
  },
  {
   "cell_type": "code",
   "execution_count": null,
   "metadata": {
    "cell_style": "split",
    "slideshow": {
     "slide_type": "fragment"
    }
   },
<<<<<<< HEAD
   "outputs": [],
=======
   "outputs": [
    {
     "data": {
      "text/plain": [
       "-0.3521079489740862"
      ]
     },
     "execution_count": 19,
     "metadata": {},
     "output_type": "execute_result"
    }
   ],
>>>>>>> upstream/main
   "source": [
    "cv.best_score_"
   ]
  },
  {
   "cell_type": "code",
   "execution_count": null,
   "metadata": {
    "cell_style": "split",
    "slideshow": {
     "slide_type": "fragment"
    }
   },
   "outputs": [],
   "source": [
    "best_mod = cv.best_estimator_\n",
    "best_mod.fit(X_train.reshape(-1,1), y_train);\n",
    "y_pred = best_mod.predict(X_test)"
   ]
  },
  {
   "cell_type": "code",
   "execution_count": null,
   "metadata": {
    "cell_style": "split",
    "slideshow": {
     "slide_type": "fragment"
    }
   },
   "outputs": [],
   "source": [
    "total_preds = best_mod.predict(X_train)"
   ]
  },
  {
   "cell_type": "code",
   "execution_count": null,
   "metadata": {
    "cell_style": "split",
    "scrolled": false,
    "slideshow": {
     "slide_type": "slide"
    }
   },
<<<<<<< HEAD
   "outputs": [],
=======
   "outputs": [
    {
     "data": {
      "image/png": "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\n",
      "text/plain": [
       "<Figure size 432x288 with 1 Axes>"
      ]
     },
     "metadata": {
      "needs_background": "light"
     },
     "output_type": "display_data"
    }
   ],
>>>>>>> upstream/main
   "source": [
    "fig, ax = plt.subplots()\n",
    "ax.scatter(X_test, y_test, c ='g', label = 'Test data')\n",
    "ax.scatter(X_test, y_pred, c ='r', label = 'Prediction')\n",
    "ax.legend()\n",
    "plt.show()"
   ]
  },
  {
   "cell_type": "markdown",
   "metadata": {
    "cell_style": "split",
    "slideshow": {
     "slide_type": "fragment"
    }
   },
   "source": [
    "Clearly doing pretty well with variance\n",
    "- CV average MAE at scale of intrinsic noise in model.\n",
    "- Also doing decently with bias. Sine wave amplitude ~ 1."
   ]
  },
  {
   "cell_type": "markdown",
   "metadata": {
    "slideshow": {
     "slide_type": "slide"
    }
   },
   "source": [
    "#### How about something a little more complicated?"
   ]
  },
  {
   "cell_type": "code",
   "execution_count": 29,
   "metadata": {
    "slideshow": {
     "slide_type": "slide"
    }
   },
   "outputs": [],
   "source": [
    "# load data\n",
    "file_path = \"Data/WHO_life.csv\"\n",
    "who_df = pd.read_csv(file_path).drop(columns = ['Adult Mortality', 'infant deaths',\n",
    "                                            'Year', 'Status', ' thinness 5-9 years', 'Country', \n",
    "                                            'under-five deaths ']).dropna()\n",
    "# clean column names\n",
    "who_df.columns = who_df.columns.str.strip()\n",
    "\n",
    "X_who, y_who = who_df.drop(columns = ['Life expectancy']), who_df['Life expectancy']"
   ]
  },
  {
   "cell_type": "code",
   "execution_count": 30,
   "metadata": {
    "cell_style": "center",
    "scrolled": true,
    "slideshow": {
     "slide_type": "slide"
    }
   },
   "outputs": [
    {
     "data": {
      "text/html": [
       "<div>\n",
       "<style scoped>\n",
       "    .dataframe tbody tr th:only-of-type {\n",
       "        vertical-align: middle;\n",
       "    }\n",
       "\n",
       "    .dataframe tbody tr th {\n",
       "        vertical-align: top;\n",
       "    }\n",
       "\n",
       "    .dataframe thead th {\n",
       "        text-align: right;\n",
       "    }\n",
       "</style>\n",
       "<table border=\"1\" class=\"dataframe\">\n",
       "  <thead>\n",
       "    <tr style=\"text-align: right;\">\n",
       "      <th></th>\n",
       "      <th>Alcohol</th>\n",
       "      <th>percentage expenditure</th>\n",
       "      <th>Hepatitis B</th>\n",
       "      <th>Measles</th>\n",
       "      <th>BMI</th>\n",
       "      <th>Polio</th>\n",
       "      <th>Total expenditure</th>\n",
       "      <th>Diphtheria</th>\n",
       "      <th>HIV/AIDS</th>\n",
       "      <th>GDP</th>\n",
       "      <th>Population</th>\n",
       "      <th>thinness  1-19 years</th>\n",
       "      <th>Income composition of resources</th>\n",
       "      <th>Schooling</th>\n",
       "    </tr>\n",
       "  </thead>\n",
       "  <tbody>\n",
       "    <tr>\n",
       "      <th>0</th>\n",
       "      <td>0.01</td>\n",
       "      <td>71.279624</td>\n",
       "      <td>65.0</td>\n",
       "      <td>1154</td>\n",
       "      <td>19.1</td>\n",
       "      <td>6.0</td>\n",
       "      <td>8.16</td>\n",
       "      <td>65.0</td>\n",
       "      <td>0.1</td>\n",
       "      <td>584.259210</td>\n",
       "      <td>33736494.0</td>\n",
       "      <td>17.2</td>\n",
       "      <td>0.479</td>\n",
       "      <td>10.1</td>\n",
       "    </tr>\n",
       "    <tr>\n",
       "      <th>1</th>\n",
       "      <td>0.01</td>\n",
       "      <td>73.523582</td>\n",
       "      <td>62.0</td>\n",
       "      <td>492</td>\n",
       "      <td>18.6</td>\n",
       "      <td>58.0</td>\n",
       "      <td>8.18</td>\n",
       "      <td>62.0</td>\n",
       "      <td>0.1</td>\n",
       "      <td>612.696514</td>\n",
       "      <td>327582.0</td>\n",
       "      <td>17.5</td>\n",
       "      <td>0.476</td>\n",
       "      <td>10.0</td>\n",
       "    </tr>\n",
       "    <tr>\n",
       "      <th>2</th>\n",
       "      <td>0.01</td>\n",
       "      <td>73.219243</td>\n",
       "      <td>64.0</td>\n",
       "      <td>430</td>\n",
       "      <td>18.1</td>\n",
       "      <td>62.0</td>\n",
       "      <td>8.13</td>\n",
       "      <td>64.0</td>\n",
       "      <td>0.1</td>\n",
       "      <td>631.744976</td>\n",
       "      <td>31731688.0</td>\n",
       "      <td>17.7</td>\n",
       "      <td>0.470</td>\n",
       "      <td>9.9</td>\n",
       "    </tr>\n",
       "    <tr>\n",
       "      <th>3</th>\n",
       "      <td>0.01</td>\n",
       "      <td>78.184215</td>\n",
       "      <td>67.0</td>\n",
       "      <td>2787</td>\n",
       "      <td>17.6</td>\n",
       "      <td>67.0</td>\n",
       "      <td>8.52</td>\n",
       "      <td>67.0</td>\n",
       "      <td>0.1</td>\n",
       "      <td>669.959000</td>\n",
       "      <td>3696958.0</td>\n",
       "      <td>17.9</td>\n",
       "      <td>0.463</td>\n",
       "      <td>9.8</td>\n",
       "    </tr>\n",
       "    <tr>\n",
       "      <th>4</th>\n",
       "      <td>0.01</td>\n",
       "      <td>7.097109</td>\n",
       "      <td>68.0</td>\n",
       "      <td>3013</td>\n",
       "      <td>17.2</td>\n",
       "      <td>68.0</td>\n",
       "      <td>7.87</td>\n",
       "      <td>68.0</td>\n",
       "      <td>0.1</td>\n",
       "      <td>63.537231</td>\n",
       "      <td>2978599.0</td>\n",
       "      <td>18.2</td>\n",
       "      <td>0.454</td>\n",
       "      <td>9.5</td>\n",
       "    </tr>\n",
       "  </tbody>\n",
       "</table>\n",
       "</div>"
      ],
      "text/plain": [
       "   Alcohol  percentage expenditure  Hepatitis B  Measles   BMI  Polio  \\\n",
       "0     0.01               71.279624         65.0     1154  19.1    6.0   \n",
       "1     0.01               73.523582         62.0      492  18.6   58.0   \n",
       "2     0.01               73.219243         64.0      430  18.1   62.0   \n",
       "3     0.01               78.184215         67.0     2787  17.6   67.0   \n",
       "4     0.01                7.097109         68.0     3013  17.2   68.0   \n",
       "\n",
       "   Total expenditure  Diphtheria  HIV/AIDS         GDP  Population  \\\n",
       "0               8.16        65.0       0.1  584.259210  33736494.0   \n",
       "1               8.18        62.0       0.1  612.696514    327582.0   \n",
       "2               8.13        64.0       0.1  631.744976  31731688.0   \n",
       "3               8.52        67.0       0.1  669.959000   3696958.0   \n",
       "4               7.87        68.0       0.1   63.537231   2978599.0   \n",
       "\n",
       "   thinness  1-19 years  Income composition of resources  Schooling  \n",
       "0                  17.2                            0.479       10.1  \n",
       "1                  17.5                            0.476       10.0  \n",
       "2                  17.7                            0.470        9.9  \n",
       "3                  17.9                            0.463        9.8  \n",
       "4                  18.2                            0.454        9.5  "
      ]
     },
     "execution_count": 30,
     "metadata": {},
     "output_type": "execute_result"
    }
   ],
   "source": [
    "X_who.head()"
   ]
  },
  {
   "cell_type": "code",
   "execution_count": 31,
   "metadata": {
    "cell_style": "split",
    "slideshow": {
     "slide_type": "fragment"
    }
   },
   "outputs": [
    {
     "data": {
      "text/plain": [
       "0    65.0\n",
       "1    59.9\n",
       "2    59.9\n",
       "3    59.5\n",
       "4    59.2\n",
       "Name: Life expectancy, dtype: float64"
      ]
     },
     "execution_count": 31,
     "metadata": {},
     "output_type": "execute_result"
    }
   ],
   "source": [
    "y_who.head()"
   ]
  },
  {
   "cell_type": "code",
   "execution_count": 32,
   "metadata": {
    "slideshow": {
     "slide_type": "fragment"
    }
   },
   "outputs": [],
   "source": [
    "# Train test split\n",
    "X_who_train, X_who_test, y_who_train, y_who_test = train_test_split(X_who, y_who, test_size = 0.3)"
   ]
  },
  {
   "cell_type": "code",
   "execution_count": 33,
   "metadata": {
    "slideshow": {
     "slide_type": "slide"
    }
   },
   "outputs": [],
   "source": [
    "params = {'max_depth': [3,4, 5], 'learning_rate': [.1, .3, .5],\n",
    "          'gamma': [0,5,10], 'colsample_bynode': [.5, .75, 1], 'n_estimators': [50,100, 150] }\n",
    "cv = GridSearchCV(estimator = XGBRegressor(objective='reg:squarederror'), scoring='neg_mean_absolute_error',\n",
    "                  param_grid = params, cv = 5)\n",
    "cv.fit(X_who_train, y_who_train);"
   ]
  },
  {
   "cell_type": "code",
   "execution_count": 34,
   "metadata": {
    "cell_style": "center",
    "slideshow": {
     "slide_type": "slide"
    }
   },
   "outputs": [
    {
     "data": {
      "text/plain": [
<<<<<<< HEAD
       "-1.8035804338331345"
=======
       "-1.6829698581304249"
>>>>>>> upstream/main
      ]
     },
     "execution_count": 34,
     "metadata": {},
     "output_type": "execute_result"
    }
   ],
   "source": [
    "cv.best_score_"
   ]
  },
  {
   "cell_type": "code",
   "execution_count": 35,
   "metadata": {
    "cell_style": "center",
    "slideshow": {
     "slide_type": "fragment"
    }
   },
   "outputs": [
    {
     "data": {
      "text/plain": [
       "XGBRegressor(base_score=0.5, booster='gbtree', colsample_bylevel=1,\n",
<<<<<<< HEAD
       "             colsample_bynode=1, colsample_bytree=1, gamma=0, gpu_id=-1,\n",
       "             importance_type='gain', interaction_constraints='',\n",
       "             learning_rate=0.1, max_delta_step=0, max_depth=5,\n",
       "             min_child_weight=1, missing=nan, monotone_constraints='()',\n",
       "             n_estimators=150, n_jobs=0, num_parallel_tree=1, random_state=0,\n",
       "             reg_alpha=0, reg_lambda=1, scale_pos_weight=1, subsample=1,\n",
       "             tree_method='exact', validate_parameters=1, verbosity=None)"
=======
       "             colsample_bynode=0.5, colsample_bytree=1, enable_categorical=False,\n",
       "             gamma=0, gpu_id=-1, importance_type=None,\n",
       "             interaction_constraints='', learning_rate=0.1, max_delta_step=0,\n",
       "             max_depth=5, min_child_weight=1, missing=nan,\n",
       "             monotone_constraints='()', n_estimators=150, n_jobs=8,\n",
       "             num_parallel_tree=1, predictor='auto', random_state=0, reg_alpha=0,\n",
       "             reg_lambda=1, scale_pos_weight=1, subsample=1, tree_method='exact',\n",
       "             validate_parameters=1, verbosity=None)"
>>>>>>> upstream/main
      ]
     },
     "execution_count": 35,
     "metadata": {},
     "output_type": "execute_result"
    }
   ],
   "source": [
    "best_regressor = cv.best_estimator_\n",
    "best_regressor"
   ]
  },
  {
   "cell_type": "code",
   "execution_count": 36,
   "metadata": {
    "cell_style": "split",
    "slideshow": {
     "slide_type": "slide"
    }
   },
   "outputs": [],
   "source": [
    "best_regressor.fit(X_who_train, y_who_train)\n",
    "y_pred_train = best_regressor.predict(\n",
    "    X_who_train)\n",
    "y_pred_test = best_regressor.predict(X_who_test)"
   ]
  },
  {
   "cell_type": "code",
   "execution_count": 37,
   "metadata": {
    "cell_style": "split",
    "slideshow": {
     "slide_type": "slide"
    }
   },
   "outputs": [],
   "source": [
    "from sklearn.metrics import mean_absolute_error\n",
    "from sklearn.metrics import mean_squared_error\n",
    "from sklearn.metrics import r2_score\n"
   ]
  },
  {
   "cell_type": "code",
   "execution_count": 38,
   "metadata": {
    "cell_style": "split",
    "slideshow": {
     "slide_type": "slide"
    }
   },
   "outputs": [
    {
     "name": "stdout",
     "output_type": "stream",
     "text": [
<<<<<<< HEAD
      "1.4472050306532118\n"
=======
      "1.711768367266414\n"
>>>>>>> upstream/main
     ]
    }
   ],
   "source": [
    "MAE = mean_absolute_error(y_who_test, \n",
    "                          y_pred_test)\n",
    "print(MAE)"
   ]
  },
  {
   "cell_type": "code",
   "execution_count": 39,
   "metadata": {
    "cell_style": "split",
    "slideshow": {
     "slide_type": "fragment"
    }
   },
   "outputs": [
    {
     "name": "stdout",
     "output_type": "stream",
     "text": [
<<<<<<< HEAD
      "1.9828178576652533\n"
=======
      "2.3691056645296333\n"
>>>>>>> upstream/main
     ]
    }
   ],
   "source": [
    "RMSE = np.sqrt(mean_squared_error(y_who_test,\n",
    "                                  y_pred_test))\n",
    "print(RMSE)"
   ]
  },
  {
   "cell_type": "markdown",
   "metadata": {
    "slideshow": {
     "slide_type": "slide"
    }
   },
   "source": [
    "Train and test: $R^2$ score"
   ]
  },
  {
   "cell_type": "code",
   "execution_count": 40,
   "metadata": {
    "cell_style": "split",
    "slideshow": {
     "slide_type": "fragment"
    }
   },
   "outputs": [
    {
     "data": {
      "text/plain": [
<<<<<<< HEAD
       "0.9905380632594476"
=======
       "0.9896355610015164"
>>>>>>> upstream/main
      ]
     },
     "execution_count": 40,
     "metadata": {},
     "output_type": "execute_result"
    }
   ],
   "source": [
    "r2_score(y_who_train, y_pred_train)"
   ]
  },
  {
   "cell_type": "code",
   "execution_count": 41,
   "metadata": {
    "cell_style": "split",
    "slideshow": {
     "slide_type": "fragment"
    }
   },
   "outputs": [
    {
     "data": {
      "text/plain": [
<<<<<<< HEAD
       "0.9462697315111486"
=======
       "0.9249631924646295"
>>>>>>> upstream/main
      ]
     },
     "execution_count": 41,
     "metadata": {},
     "output_type": "execute_result"
    }
   ],
   "source": [
    "r2_score(y_who_test, y_pred_test)"
   ]
  },
  {
   "cell_type": "markdown",
   "metadata": {
    "slideshow": {
     "slide_type": "slide"
    }
   },
   "source": [
    "Comparing this to our simple multiple linear regression:\n",
    "- $R^2 = 0.76$ \n",
    "- MAE of ~3.5.\n",
    "- Had to carefully remove correlated features.\n",
    "- Standardize for feature weight importance or regularization.\n"
   ]
  },
  {
   "cell_type": "code",
   "execution_count": 42,
   "metadata": {
    "cell_style": "center",
    "scrolled": true,
    "slideshow": {
     "slide_type": "slide"
    }
   },
   "outputs": [
    {
     "data": {
<<<<<<< HEAD
      "image/png": "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\n",
=======
      "image/png": "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\n",
>>>>>>> upstream/main
      "text/plain": [
       "<Figure size 432x288 with 1 Axes>"
      ]
     },
     "metadata": {
      "needs_background": "light"
     },
     "output_type": "display_data"
    }
   ],
   "source": [
    "feat_imp = pd.Series(best_regressor.feature_importances_,\n",
    "             index = X_who.columns).sort_values(ascending = False)\n",
    "fig, ax = plt.subplots()\n",
    "feat_imp.plot(kind = 'barh', ax = ax)\n",
    "ax.set_xlabel('Feature Importance')\n",
    "ax.set_title('XGB Regressor: Feature Importances')\n",
    "plt.show()"
   ]
  },
  {
   "cell_type": "markdown",
   "metadata": {
    "cell_style": "center",
    "slideshow": {
     "slide_type": "slide"
    }
   },
   "source": [
    "Exact same with classification:\n",
    "- XGBClassifier()\n",
    "- basically same hyperparameters\n",
    "- just different objective function\n"
   ]
  },
  {
   "cell_type": "markdown",
   "metadata": {
    "cell_style": "center",
    "slideshow": {
     "slide_type": "slide"
    }
   },
   "source": [
    "#### Gradient boosting\n",
    "\n",
    "- Needs tuning\n",
    "- But extremely fast and effective (as has been seen)\n",
    "- Along with random forest: workhorse of classification/regression in many professional workflows."
   ]
  }
 ],
 "metadata": {
  "celltoolbar": "Slideshow",
  "kernelspec": {
   "display_name": "Python (learn-env)",
   "language": "python",
   "name": "learn-env"
  },
  "language_info": {
   "codemirror_mode": {
    "name": "ipython",
    "version": 3
   },
   "file_extension": ".py",
   "mimetype": "text/x-python",
   "name": "python",
   "nbconvert_exporter": "python",
   "pygments_lexer": "ipython3",
   "version": "3.8.5"
  }
 },
 "nbformat": 4,
 "nbformat_minor": 2
}
