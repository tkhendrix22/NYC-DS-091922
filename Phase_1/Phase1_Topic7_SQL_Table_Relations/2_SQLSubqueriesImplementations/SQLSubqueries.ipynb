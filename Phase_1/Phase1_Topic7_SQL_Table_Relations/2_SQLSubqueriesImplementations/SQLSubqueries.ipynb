{
 "cells": [
  {
   "cell_type": "markdown",
   "id": "b1b58d2e",
   "metadata": {
    "cell_style": "center",
    "slideshow": {
     "slide_type": "slide"
    }
   },
   "source": [
    "<div style=\"color:white;\n",
    "           display:fill;\n",
    "           border-radius:5px;\n",
    "           background-color:#5642C5;\n",
    "           font-size:200%;\n",
    "           font-family:Arial;letter-spacing:0.5px\">\n",
    "\n",
    "<p width = 20%, style=\"padding: 10px;\n",
    "              color:white;\">\n",
    "SQL: Subqueries\n",
    "              \n",
    "</p>\n",
    "</div>\n",
    "\n",
    "Data Science Cohort Live NYC Sept 2022\n",
    "<p>Phase 1: Topic 7</p>\n",
    "<br>\n",
    "<br>\n",
    "\n",
    "<div align = \"right\">\n",
    "<img src=\"Images/flatiron-school-logo.png\" align = \"right\" width=\"200\"/>\n",
    "</div>\n",
    "    \n",
    "   "
   ]
  },
  {
   "cell_type": "markdown",
   "id": "7a9d7722",
   "metadata": {
    "cell_style": "center",
    "slideshow": {
     "slide_type": "slide"
    }
   },
   "source": [
    "Queries can get complex:\n",
    "- Helpful/necessary to build a query out of sub-units\n",
    "- These subunits are queries which might include:\n",
    "    - groupbys/agg functions\n",
    "    - selecting/filtering\n",
    "    - etc."
   ]
  },
  {
   "cell_type": "markdown",
   "id": "6070c392",
   "metadata": {
    "slideshow": {
     "slide_type": "slide"
    }
   },
   "source": [
    "<img src = \"Images/sql_subquery.jpg\">"
   ]
  },
  {
   "cell_type": "markdown",
   "id": "b7caf37f",
   "metadata": {
    "cell_style": "center",
    "slideshow": {
     "slide_type": "fragment"
    }
   },
   "source": [
    "Sometimes:\n",
    "\n",
    "- Query a table.\n",
    "- Filter/select/... on that query\n",
    "- Return result of querying on the first query.\n",
    "\n",
    "First query is a **subquery**."
   ]
  },
  {
   "cell_type": "markdown",
   "id": "58a91ef1",
   "metadata": {
    "slideshow": {
     "slide_type": "slide"
    }
   },
   "source": [
    "Inner query is a **subquery**:\n",
    "\n",
    "- Generates an intermediate table that stores results temporarily in memory.\n",
    "- Subquery intermediate table can be used during execution of main query."
   ]
  },
  {
   "cell_type": "markdown",
   "id": "b4f324bb",
   "metadata": {
    "slideshow": {
     "slide_type": "slide"
    }
   },
   "source": [
    "Subqueries can be used to great effect in a variety of circumstances:\n",
    "    \n",
    "- Selecting from a table created by a subquery \n",
    "    - Subquery in FROM statement\n",
    "- Filtering on a subquery.\n",
    "    - Subquery in a WHERE statement\n",
    "- Filtering in a SELECT statement.\n"
   ]
  },
  {
   "cell_type": "markdown",
   "id": "586186bb",
   "metadata": {
    "slideshow": {
     "slide_type": "slide"
    }
   },
   "source": [
    "#### Subquery in FROM clause\n"
   ]
  },
  {
   "cell_type": "markdown",
   "id": "9eb3a1fa",
   "metadata": {
    "slideshow": {
     "slide_type": "slide"
    }
   },
   "source": [
    "First load our handy dandy flights database."
   ]
  },
  {
   "cell_type": "code",
   "execution_count": 2,
   "id": "d894b5b1",
   "metadata": {
    "slideshow": {
     "slide_type": "fragment"
    }
   },
   "outputs": [],
   "source": [
    "import sqlite3\n",
    "import numpy as np\n",
    "import pandas as pd\n",
    "\n",
    "# connect to flights database\n",
    "con = sqlite3.connect('data/flights.db')"
   ]
  },
  {
   "cell_type": "markdown",
   "id": "58eab858",
   "metadata": {
    "slideshow": {
     "slide_type": "slide"
    }
   },
   "source": [
    "Recall the various tables in flight database:"
   ]
  },
  {
   "cell_type": "code",
   "execution_count": 3,
   "id": "8c234195",
   "metadata": {
    "slideshow": {
     "slide_type": "fragment"
    }
   },
   "outputs": [
    {
     "name": "stdout",
     "output_type": "stream",
     "text": [
      "airlines  airports  routes  \n"
     ]
    }
   ],
   "source": [
    "%%bash \n",
    "\n",
    "sqlite3 data/flights.db\n",
    ".tables"
   ]
  },
  {
   "cell_type": "code",
   "execution_count": 4,
   "id": "69bbaf54",
   "metadata": {
    "slideshow": {
     "slide_type": "slide"
    }
   },
   "outputs": [
    {
     "data": {
      "text/html": [
       "<div>\n",
       "<style scoped>\n",
       "    .dataframe tbody tr th:only-of-type {\n",
       "        vertical-align: middle;\n",
       "    }\n",
       "\n",
       "    .dataframe tbody tr th {\n",
       "        vertical-align: top;\n",
       "    }\n",
       "\n",
       "    .dataframe thead th {\n",
       "        text-align: right;\n",
       "    }\n",
       "</style>\n",
       "<table border=\"1\" class=\"dataframe\">\n",
       "  <thead>\n",
       "    <tr style=\"text-align: right;\">\n",
       "      <th></th>\n",
       "      <th>index</th>\n",
       "      <th>id</th>\n",
       "      <th>name</th>\n",
       "      <th>city</th>\n",
       "      <th>country</th>\n",
       "      <th>code</th>\n",
       "      <th>icao</th>\n",
       "      <th>latitude</th>\n",
       "      <th>longitude</th>\n",
       "      <th>altitude</th>\n",
       "      <th>offset</th>\n",
       "      <th>dst</th>\n",
       "      <th>timezone</th>\n",
       "    </tr>\n",
       "  </thead>\n",
       "  <tbody>\n",
       "    <tr>\n",
       "      <th>0</th>\n",
       "      <td>0</td>\n",
       "      <td>1</td>\n",
       "      <td>Goroka</td>\n",
       "      <td>Goroka</td>\n",
       "      <td>Papua New Guinea</td>\n",
       "      <td>GKA</td>\n",
       "      <td>AYGA</td>\n",
       "      <td>-6.081689</td>\n",
       "      <td>145.391881</td>\n",
       "      <td>5282</td>\n",
       "      <td>10</td>\n",
       "      <td>U</td>\n",
       "      <td>Pacific/Port_Moresby</td>\n",
       "    </tr>\n",
       "    <tr>\n",
       "      <th>1</th>\n",
       "      <td>1</td>\n",
       "      <td>2</td>\n",
       "      <td>Madang</td>\n",
       "      <td>Madang</td>\n",
       "      <td>Papua New Guinea</td>\n",
       "      <td>MAG</td>\n",
       "      <td>AYMD</td>\n",
       "      <td>-5.207083</td>\n",
       "      <td>145.7887</td>\n",
       "      <td>20</td>\n",
       "      <td>10</td>\n",
       "      <td>U</td>\n",
       "      <td>Pacific/Port_Moresby</td>\n",
       "    </tr>\n",
       "  </tbody>\n",
       "</table>\n",
       "</div>"
      ],
      "text/plain": [
       "   index id    name    city           country code  icao   latitude  \\\n",
       "0      0  1  Goroka  Goroka  Papua New Guinea  GKA  AYGA  -6.081689   \n",
       "1      1  2  Madang  Madang  Papua New Guinea  MAG  AYMD  -5.207083   \n",
       "\n",
       "    longitude altitude offset dst              timezone  \n",
       "0  145.391881     5282     10   U  Pacific/Port_Moresby  \n",
       "1    145.7887       20     10   U  Pacific/Port_Moresby  "
      ]
     },
     "execution_count": 4,
     "metadata": {},
     "output_type": "execute_result"
    }
   ],
   "source": [
    "pd.read_sql(\"\"\"\n",
    "\n",
    "SELECT * \n",
    "FROM airports\n",
    "LIMIT 2\n",
    "\n",
    "\"\"\", con)"
   ]
  },
  {
   "cell_type": "markdown",
   "id": "9b8e5446",
   "metadata": {
    "slideshow": {
     "slide_type": "slide"
    }
   },
   "source": [
    "#### Problem\n",
    "\n",
    "Get the average altitude of the highest altitude airports in the United States, Russia, and China.\n",
    "\n",
    "Useful to break this into steps with a subquery."
   ]
  },
  {
   "cell_type": "markdown",
   "id": "1812da97",
   "metadata": {
    "slideshow": {
     "slide_type": "slide"
    }
   },
   "source": [
    "- Select airport name, city, and altitude for the highest airport in each country\n",
    "- Then filter this on the country.\n",
    "- Then get the average of the altitudes of the resultant airports.\n",
    "\n",
    "Step by step."
   ]
  },
  {
   "cell_type": "code",
   "execution_count": 5,
   "id": "31fa729f",
   "metadata": {
    "cell_style": "center",
    "scrolled": true,
    "slideshow": {
     "slide_type": "fragment"
    }
   },
   "outputs": [],
   "source": [
    "%%capture subquery\n",
    "pd.read_sql(\"\"\"\n",
    "\n",
    "SELECT name, \n",
    "     city,\n",
    "     country,\n",
    "     MAX(CAST(altitude as float)) AS max_altitude\n",
    "     \n",
    "     FROM airports\n",
    "     \n",
    "     GROUP BY country\n",
    "     \n",
    "\n",
    "\"\"\", con)"
   ]
  },
  {
   "cell_type": "code",
   "execution_count": 6,
   "id": "5b50ed14",
   "metadata": {
    "cell_style": "center",
    "slideshow": {
     "slide_type": "slide"
    }
   },
   "outputs": [
    {
     "data": {
      "text/html": [
       "<div>\n",
       "<style scoped>\n",
       "    .dataframe tbody tr th:only-of-type {\n",
       "        vertical-align: middle;\n",
       "    }\n",
       "\n",
       "    .dataframe tbody tr th {\n",
       "        vertical-align: top;\n",
       "    }\n",
       "\n",
       "    .dataframe thead th {\n",
       "        text-align: right;\n",
       "    }\n",
       "</style>\n",
       "<table border=\"1\" class=\"dataframe\">\n",
       "  <thead>\n",
       "    <tr style=\"text-align: right;\">\n",
       "      <th></th>\n",
       "      <th>name</th>\n",
       "      <th>city</th>\n",
       "      <th>country</th>\n",
       "      <th>max_altitude</th>\n",
       "    </tr>\n",
       "  </thead>\n",
       "  <tbody>\n",
       "    <tr>\n",
       "      <th>0</th>\n",
       "      <td>FOB Sharana</td>\n",
       "      <td>Sharan</td>\n",
       "      <td>Afghanistan</td>\n",
       "      <td>7400.0</td>\n",
       "    </tr>\n",
       "    <tr>\n",
       "      <th>1</th>\n",
       "      <td>Tirana Rinas</td>\n",
       "      <td>Tirana</td>\n",
       "      <td>Albania</td>\n",
       "      <td>126.0</td>\n",
       "    </tr>\n",
       "    <tr>\n",
       "      <th>2</th>\n",
       "      <td>Tamanrasset</td>\n",
       "      <td>Tamanrasset</td>\n",
       "      <td>Algeria</td>\n",
       "      <td>4518.0</td>\n",
       "    </tr>\n",
       "    <tr>\n",
       "      <th>3</th>\n",
       "      <td>Fitiuta Airport</td>\n",
       "      <td>Fiti\\\\'uta</td>\n",
       "      <td>American Samoa</td>\n",
       "      <td>110.0</td>\n",
       "    </tr>\n",
       "    <tr>\n",
       "      <th>4</th>\n",
       "      <td>Lubango</td>\n",
       "      <td>Lubango</td>\n",
       "      <td>Angola</td>\n",
       "      <td>5778.0</td>\n",
       "    </tr>\n",
       "    <tr>\n",
       "      <th>...</th>\n",
       "      <td>...</td>\n",
       "      <td>...</td>\n",
       "      <td>...</td>\n",
       "      <td>...</td>\n",
       "    </tr>\n",
       "    <tr>\n",
       "      <th>235</th>\n",
       "      <td>Jerusalem</td>\n",
       "      <td>Jerusalem</td>\n",
       "      <td>West Bank</td>\n",
       "      <td>2485.0</td>\n",
       "    </tr>\n",
       "    <tr>\n",
       "      <th>236</th>\n",
       "      <td>Smara Airport</td>\n",
       "      <td>Smara</td>\n",
       "      <td>Western Sahara</td>\n",
       "      <td>350.0</td>\n",
       "    </tr>\n",
       "    <tr>\n",
       "      <th>237</th>\n",
       "      <td>Sanaa Intl</td>\n",
       "      <td>Sanaa</td>\n",
       "      <td>Yemen</td>\n",
       "      <td>7216.0</td>\n",
       "    </tr>\n",
       "    <tr>\n",
       "      <th>238</th>\n",
       "      <td>Kasompe</td>\n",
       "      <td>Kasompe</td>\n",
       "      <td>Zambia</td>\n",
       "      <td>4636.0</td>\n",
       "    </tr>\n",
       "    <tr>\n",
       "      <th>239</th>\n",
       "      <td>Harare Intl</td>\n",
       "      <td>Harare</td>\n",
       "      <td>Zimbabwe</td>\n",
       "      <td>4887.0</td>\n",
       "    </tr>\n",
       "  </tbody>\n",
       "</table>\n",
       "<p>240 rows × 4 columns</p>\n",
       "</div>"
      ],
      "text/plain": [
       "                name         city         country  max_altitude\n",
       "0        FOB Sharana       Sharan     Afghanistan        7400.0\n",
       "1       Tirana Rinas       Tirana         Albania         126.0\n",
       "2        Tamanrasset  Tamanrasset         Algeria        4518.0\n",
       "3    Fitiuta Airport   Fiti\\\\'uta  American Samoa         110.0\n",
       "4            Lubango      Lubango          Angola        5778.0\n",
       "..               ...          ...             ...           ...\n",
       "235        Jerusalem    Jerusalem       West Bank        2485.0\n",
       "236    Smara Airport        Smara  Western Sahara         350.0\n",
       "237       Sanaa Intl        Sanaa           Yemen        7216.0\n",
       "238          Kasompe      Kasompe          Zambia        4636.0\n",
       "239      Harare Intl       Harare        Zimbabwe        4887.0\n",
       "\n",
       "[240 rows x 4 columns]"
      ]
     },
     "metadata": {},
     "output_type": "display_data"
    }
   ],
   "source": [
    "subquery()"
   ]
  },
  {
   "cell_type": "markdown",
   "id": "7df765f0",
   "metadata": {
    "slideshow": {
     "slide_type": "slide"
    }
   },
   "source": [
    "This is a table produced by the query. We now want to filter this table on country.\n",
    "\n",
    "- Can select FROM results of above table and filter WHERE conditon is true.\n",
    "- Subquery creates intermediate table for us."
   ]
  },
  {
   "cell_type": "code",
   "execution_count": 8,
   "id": "61cfd37e",
   "metadata": {
    "cell_style": "center",
    "slideshow": {
     "slide_type": "fragment"
    }
   },
   "outputs": [],
   "source": [
    "%%capture query\n",
    "\n",
    "pd.read_sql(\"\"\"\n",
    "\n",
    "SELECT *\n",
    "    \n",
    "FROM \n",
    "\n",
    "(SELECT name, \n",
    "     city,\n",
    "     country,\n",
    "     MAX(CAST(altitude as float)) AS max_altitude\n",
    "     \n",
    "     FROM airports\n",
    "     \n",
    "     GROUP BY country\n",
    "     \n",
    "     ) AS high_alt_airp\n",
    "     \n",
    " WHERE high_alt_airp.country IN (\"United States\", \"Russia\", \"China\")\n",
    "\n",
    "\n",
    "\n",
    "\"\"\", con)"
   ]
  },
  {
   "cell_type": "code",
   "execution_count": 9,
   "id": "a2e68b67",
   "metadata": {
    "slideshow": {
     "slide_type": "slide"
    }
   },
   "outputs": [
    {
     "data": {
      "text/html": [
       "<div>\n",
       "<style scoped>\n",
       "    .dataframe tbody tr th:only-of-type {\n",
       "        vertical-align: middle;\n",
       "    }\n",
       "\n",
       "    .dataframe tbody tr th {\n",
       "        vertical-align: top;\n",
       "    }\n",
       "\n",
       "    .dataframe thead th {\n",
       "        text-align: right;\n",
       "    }\n",
       "</style>\n",
       "<table border=\"1\" class=\"dataframe\">\n",
       "  <thead>\n",
       "    <tr style=\"text-align: right;\">\n",
       "      <th></th>\n",
       "      <th>name</th>\n",
       "      <th>city</th>\n",
       "      <th>country</th>\n",
       "      <th>max_altitude</th>\n",
       "    </tr>\n",
       "  </thead>\n",
       "  <tbody>\n",
       "    <tr>\n",
       "      <th>0</th>\n",
       "      <td>Yading Daocheng</td>\n",
       "      <td>Daocheng</td>\n",
       "      <td>China</td>\n",
       "      <td>14472.0</td>\n",
       "    </tr>\n",
       "    <tr>\n",
       "      <th>1</th>\n",
       "      <td>Irkutsk-2</td>\n",
       "      <td>Irkutsk</td>\n",
       "      <td>Russia</td>\n",
       "      <td>13411.0</td>\n",
       "    </tr>\n",
       "    <tr>\n",
       "      <th>2</th>\n",
       "      <td>Silverton</td>\n",
       "      <td>Silverton</td>\n",
       "      <td>United States</td>\n",
       "      <td>9308.0</td>\n",
       "    </tr>\n",
       "  </tbody>\n",
       "</table>\n",
       "</div>"
      ],
      "text/plain": [
       "              name       city        country  max_altitude\n",
       "0  Yading Daocheng   Daocheng          China       14472.0\n",
       "1        Irkutsk-2    Irkutsk         Russia       13411.0\n",
       "2        Silverton  Silverton  United States        9308.0"
      ]
     },
     "metadata": {},
     "output_type": "display_data"
    }
   ],
   "source": [
    "query()"
   ]
  },
  {
   "cell_type": "markdown",
   "id": "70a71f90",
   "metadata": {
    "slideshow": {
     "slide_type": "slide"
    }
   },
   "source": [
    "Now I select the mean altitude across the three countries."
   ]
  },
  {
   "cell_type": "code",
   "execution_count": 10,
   "id": "e9495d61",
   "metadata": {
    "slideshow": {
     "slide_type": "fragment"
    }
   },
   "outputs": [],
   "source": [
    "%%capture query\n",
    "\n",
    "pd.read_sql(\"\"\"\n",
    "\n",
    "SELECT AVG(high_alt_airp.max_altitude) AS max_altitude_avg\n",
    "    \n",
    "FROM \n",
    "\n",
    "(SELECT name, \n",
    "     city,\n",
    "     country,\n",
    "     MAX(CAST(altitude as float)) AS max_altitude\n",
    "     \n",
    "     FROM airports\n",
    "     \n",
    "     GROUP BY country\n",
    "     \n",
    "     ) AS high_alt_airp\n",
    "     \n",
    " WHERE high_alt_airp.country IN (\"United States\", \"Russia\", \"China\")\n",
    "\n",
    "\n",
    "\n",
    "\"\"\", con)"
   ]
  },
  {
   "cell_type": "code",
   "execution_count": 11,
   "id": "5474de91",
   "metadata": {
    "slideshow": {
     "slide_type": "slide"
    }
   },
   "outputs": [
    {
     "data": {
      "text/html": [
       "<div>\n",
       "<style scoped>\n",
       "    .dataframe tbody tr th:only-of-type {\n",
       "        vertical-align: middle;\n",
       "    }\n",
       "\n",
       "    .dataframe tbody tr th {\n",
       "        vertical-align: top;\n",
       "    }\n",
       "\n",
       "    .dataframe thead th {\n",
       "        text-align: right;\n",
       "    }\n",
       "</style>\n",
       "<table border=\"1\" class=\"dataframe\">\n",
       "  <thead>\n",
       "    <tr style=\"text-align: right;\">\n",
       "      <th></th>\n",
       "      <th>max_altitude_avg</th>\n",
       "    </tr>\n",
       "  </thead>\n",
       "  <tbody>\n",
       "    <tr>\n",
       "      <th>0</th>\n",
       "      <td>12397.0</td>\n",
       "    </tr>\n",
       "  </tbody>\n",
       "</table>\n",
       "</div>"
      ],
      "text/plain": [
       "   max_altitude_avg\n",
       "0           12397.0"
      ]
     },
     "metadata": {},
     "output_type": "display_data"
    }
   ],
   "source": [
    "# Average altitude of the highest airports in Russia, United States, and China\n",
    "query()"
   ]
  },
  {
   "cell_type": "markdown",
   "id": "ef710fe4",
   "metadata": {
    "slideshow": {
     "slide_type": "slide"
    }
   },
   "source": [
    "One can create, in principle, a new table of derived columns and do selections and filtering on that new table.\n",
    "\n",
    "Let's take a look at our routes table again."
   ]
  },
  {
   "cell_type": "code",
   "execution_count": 12,
   "id": "b5757b74",
   "metadata": {
    "slideshow": {
     "slide_type": "fragment"
    }
   },
   "outputs": [
    {
     "data": {
      "text/html": [
       "<div>\n",
       "<style scoped>\n",
       "    .dataframe tbody tr th:only-of-type {\n",
       "        vertical-align: middle;\n",
       "    }\n",
       "\n",
       "    .dataframe tbody tr th {\n",
       "        vertical-align: top;\n",
       "    }\n",
       "\n",
       "    .dataframe thead th {\n",
       "        text-align: right;\n",
       "    }\n",
       "</style>\n",
       "<table border=\"1\" class=\"dataframe\">\n",
       "  <thead>\n",
       "    <tr style=\"text-align: right;\">\n",
       "      <th></th>\n",
       "      <th>index</th>\n",
       "      <th>airline</th>\n",
       "      <th>airline_id</th>\n",
       "      <th>source</th>\n",
       "      <th>source_id</th>\n",
       "      <th>dest</th>\n",
       "      <th>dest_id</th>\n",
       "      <th>codeshare</th>\n",
       "      <th>stops</th>\n",
       "      <th>equipment</th>\n",
       "    </tr>\n",
       "  </thead>\n",
       "  <tbody>\n",
       "    <tr>\n",
       "      <th>0</th>\n",
       "      <td>0</td>\n",
       "      <td>2B</td>\n",
       "      <td>410</td>\n",
       "      <td>AER</td>\n",
       "      <td>2965</td>\n",
       "      <td>KZN</td>\n",
       "      <td>2990</td>\n",
       "      <td>None</td>\n",
       "      <td>0</td>\n",
       "      <td>CR2</td>\n",
       "    </tr>\n",
       "    <tr>\n",
       "      <th>1</th>\n",
       "      <td>1</td>\n",
       "      <td>2B</td>\n",
       "      <td>410</td>\n",
       "      <td>ASF</td>\n",
       "      <td>2966</td>\n",
       "      <td>KZN</td>\n",
       "      <td>2990</td>\n",
       "      <td>None</td>\n",
       "      <td>0</td>\n",
       "      <td>CR2</td>\n",
       "    </tr>\n",
       "    <tr>\n",
       "      <th>2</th>\n",
       "      <td>2</td>\n",
       "      <td>2B</td>\n",
       "      <td>410</td>\n",
       "      <td>ASF</td>\n",
       "      <td>2966</td>\n",
       "      <td>MRV</td>\n",
       "      <td>2962</td>\n",
       "      <td>None</td>\n",
       "      <td>0</td>\n",
       "      <td>CR2</td>\n",
       "    </tr>\n",
       "    <tr>\n",
       "      <th>3</th>\n",
       "      <td>3</td>\n",
       "      <td>2B</td>\n",
       "      <td>410</td>\n",
       "      <td>CEK</td>\n",
       "      <td>2968</td>\n",
       "      <td>KZN</td>\n",
       "      <td>2990</td>\n",
       "      <td>None</td>\n",
       "      <td>0</td>\n",
       "      <td>CR2</td>\n",
       "    </tr>\n",
       "    <tr>\n",
       "      <th>4</th>\n",
       "      <td>4</td>\n",
       "      <td>2B</td>\n",
       "      <td>410</td>\n",
       "      <td>CEK</td>\n",
       "      <td>2968</td>\n",
       "      <td>OVB</td>\n",
       "      <td>4078</td>\n",
       "      <td>None</td>\n",
       "      <td>0</td>\n",
       "      <td>CR2</td>\n",
       "    </tr>\n",
       "  </tbody>\n",
       "</table>\n",
       "</div>"
      ],
      "text/plain": [
       "   index airline airline_id source source_id dest dest_id codeshare stops  \\\n",
       "0      0      2B        410    AER      2965  KZN    2990      None     0   \n",
       "1      1      2B        410    ASF      2966  KZN    2990      None     0   \n",
       "2      2      2B        410    ASF      2966  MRV    2962      None     0   \n",
       "3      3      2B        410    CEK      2968  KZN    2990      None     0   \n",
       "4      4      2B        410    CEK      2968  OVB    4078      None     0   \n",
       "\n",
       "  equipment  \n",
       "0       CR2  \n",
       "1       CR2  \n",
       "2       CR2  \n",
       "3       CR2  \n",
       "4       CR2  "
      ]
     },
     "execution_count": 12,
     "metadata": {},
     "output_type": "execute_result"
    }
   ],
   "source": [
    "pd.read_sql(\"\"\"\n",
    "\n",
    "SELECT * \n",
    "     FROM routes\n",
    "     LIMIT 5\n",
    "\n",
    "\n",
    "\"\"\", con)"
   ]
  },
  {
   "cell_type": "markdown",
   "id": "1f5cf633",
   "metadata": {
    "slideshow": {
     "slide_type": "slide"
    }
   },
   "source": [
    "#### Using derived tables in joins\n",
    "\n",
    "- create set of tables from subqueries\n",
    "- use these to create a new table with derived columns from subqueries. \n",
    "\n",
    "Let's take an example of this."
   ]
  },
  {
   "cell_type": "markdown",
   "id": "3a2901cc",
   "metadata": {
    "slideshow": {
     "slide_type": "slide"
    }
   },
   "source": [
    "For each airport I want:\n",
    "- the count of routes that leaves from there.\n",
    "- the count of routes that arrive there.\n",
    "\n",
    "Many ways to do this. But we'll make full use of subqueries and joins here."
   ]
  },
  {
   "cell_type": "code",
   "execution_count": 13,
   "id": "a3118ec5",
   "metadata": {
    "slideshow": {
     "slide_type": "slide"
    }
   },
   "outputs": [],
   "source": [
    "departure_table = pd.read_sql(\"\"\"\n",
    "\n",
    "SELECT source, COUNT(*) as departure_count\n",
    "     FROM routes\n",
    "     \n",
    "     GROUP BY source\n",
    "     \n",
    "\"\"\", con)"
   ]
  },
  {
   "cell_type": "code",
   "execution_count": 14,
   "id": "f65396d3",
   "metadata": {
    "slideshow": {
     "slide_type": "subslide"
    }
   },
   "outputs": [
    {
     "data": {
      "text/html": [
       "<div>\n",
       "<style scoped>\n",
       "    .dataframe tbody tr th:only-of-type {\n",
       "        vertical-align: middle;\n",
       "    }\n",
       "\n",
       "    .dataframe tbody tr th {\n",
       "        vertical-align: top;\n",
       "    }\n",
       "\n",
       "    .dataframe thead th {\n",
       "        text-align: right;\n",
       "    }\n",
       "</style>\n",
       "<table border=\"1\" class=\"dataframe\">\n",
       "  <thead>\n",
       "    <tr style=\"text-align: right;\">\n",
       "      <th></th>\n",
       "      <th>source</th>\n",
       "      <th>departure_count</th>\n",
       "    </tr>\n",
       "  </thead>\n",
       "  <tbody>\n",
       "    <tr>\n",
       "      <th>0</th>\n",
       "      <td>AAE</td>\n",
       "      <td>9</td>\n",
       "    </tr>\n",
       "    <tr>\n",
       "      <th>1</th>\n",
       "      <td>AAL</td>\n",
       "      <td>20</td>\n",
       "    </tr>\n",
       "    <tr>\n",
       "      <th>2</th>\n",
       "      <td>AAN</td>\n",
       "      <td>2</td>\n",
       "    </tr>\n",
       "    <tr>\n",
       "      <th>3</th>\n",
       "      <td>AAQ</td>\n",
       "      <td>3</td>\n",
       "    </tr>\n",
       "    <tr>\n",
       "      <th>4</th>\n",
       "      <td>AAR</td>\n",
       "      <td>8</td>\n",
       "    </tr>\n",
       "    <tr>\n",
       "      <th>...</th>\n",
       "      <td>...</td>\n",
       "      <td>...</td>\n",
       "    </tr>\n",
       "    <tr>\n",
       "      <th>3404</th>\n",
       "      <td>ZUH</td>\n",
       "      <td>60</td>\n",
       "    </tr>\n",
       "    <tr>\n",
       "      <th>3405</th>\n",
       "      <td>ZUM</td>\n",
       "      <td>2</td>\n",
       "    </tr>\n",
       "    <tr>\n",
       "      <th>3406</th>\n",
       "      <td>ZVK</td>\n",
       "      <td>3</td>\n",
       "    </tr>\n",
       "    <tr>\n",
       "      <th>3407</th>\n",
       "      <td>ZYI</td>\n",
       "      <td>15</td>\n",
       "    </tr>\n",
       "    <tr>\n",
       "      <th>3408</th>\n",
       "      <td>ZYL</td>\n",
       "      <td>4</td>\n",
       "    </tr>\n",
       "  </tbody>\n",
       "</table>\n",
       "<p>3409 rows × 2 columns</p>\n",
       "</div>"
      ],
      "text/plain": [
       "     source  departure_count\n",
       "0       AAE                9\n",
       "1       AAL               20\n",
       "2       AAN                2\n",
       "3       AAQ                3\n",
       "4       AAR                8\n",
       "...     ...              ...\n",
       "3404    ZUH               60\n",
       "3405    ZUM                2\n",
       "3406    ZVK                3\n",
       "3407    ZYI               15\n",
       "3408    ZYL                4\n",
       "\n",
       "[3409 rows x 2 columns]"
      ]
     },
     "execution_count": 14,
     "metadata": {},
     "output_type": "execute_result"
    }
   ],
   "source": [
    "departure_table"
   ]
  },
  {
   "cell_type": "code",
   "execution_count": 16,
   "id": "b9573f20",
   "metadata": {
    "slideshow": {
     "slide_type": "slide"
    }
   },
   "outputs": [],
   "source": [
    "arrival_table = pd.read_sql(\"\"\"\n",
    "\n",
    "SELECT dest, COUNT(dest) as arrival_count\n",
    "     FROM routes\n",
    "     \n",
    "     GROUP BY dest\n",
    "     \n",
    "\"\"\", con)"
   ]
  },
  {
   "cell_type": "code",
   "execution_count": 17,
   "id": "97ea49b8",
   "metadata": {
    "slideshow": {
     "slide_type": "subslide"
    }
   },
   "outputs": [
    {
     "data": {
      "text/html": [
       "<div>\n",
       "<style scoped>\n",
       "    .dataframe tbody tr th:only-of-type {\n",
       "        vertical-align: middle;\n",
       "    }\n",
       "\n",
       "    .dataframe tbody tr th {\n",
       "        vertical-align: top;\n",
       "    }\n",
       "\n",
       "    .dataframe thead th {\n",
       "        text-align: right;\n",
       "    }\n",
       "</style>\n",
       "<table border=\"1\" class=\"dataframe\">\n",
       "  <thead>\n",
       "    <tr style=\"text-align: right;\">\n",
       "      <th></th>\n",
       "      <th>dest</th>\n",
       "      <th>arrival_count</th>\n",
       "    </tr>\n",
       "  </thead>\n",
       "  <tbody>\n",
       "    <tr>\n",
       "      <th>0</th>\n",
       "      <td>AAE</td>\n",
       "      <td>9</td>\n",
       "    </tr>\n",
       "    <tr>\n",
       "      <th>1</th>\n",
       "      <td>AAL</td>\n",
       "      <td>21</td>\n",
       "    </tr>\n",
       "    <tr>\n",
       "      <th>2</th>\n",
       "      <td>AAN</td>\n",
       "      <td>2</td>\n",
       "    </tr>\n",
       "    <tr>\n",
       "      <th>3</th>\n",
       "      <td>AAQ</td>\n",
       "      <td>3</td>\n",
       "    </tr>\n",
       "    <tr>\n",
       "      <th>4</th>\n",
       "      <td>AAR</td>\n",
       "      <td>8</td>\n",
       "    </tr>\n",
       "    <tr>\n",
       "      <th>...</th>\n",
       "      <td>...</td>\n",
       "      <td>...</td>\n",
       "    </tr>\n",
       "    <tr>\n",
       "      <th>3413</th>\n",
       "      <td>ZUH</td>\n",
       "      <td>59</td>\n",
       "    </tr>\n",
       "    <tr>\n",
       "      <th>3414</th>\n",
       "      <td>ZUM</td>\n",
       "      <td>2</td>\n",
       "    </tr>\n",
       "    <tr>\n",
       "      <th>3415</th>\n",
       "      <td>ZVK</td>\n",
       "      <td>3</td>\n",
       "    </tr>\n",
       "    <tr>\n",
       "      <th>3416</th>\n",
       "      <td>ZYI</td>\n",
       "      <td>15</td>\n",
       "    </tr>\n",
       "    <tr>\n",
       "      <th>3417</th>\n",
       "      <td>ZYL</td>\n",
       "      <td>6</td>\n",
       "    </tr>\n",
       "  </tbody>\n",
       "</table>\n",
       "<p>3418 rows × 2 columns</p>\n",
       "</div>"
      ],
      "text/plain": [
       "     dest  arrival_count\n",
       "0     AAE              9\n",
       "1     AAL             21\n",
       "2     AAN              2\n",
       "3     AAQ              3\n",
       "4     AAR              8\n",
       "...   ...            ...\n",
       "3413  ZUH             59\n",
       "3414  ZUM              2\n",
       "3415  ZVK              3\n",
       "3416  ZYI             15\n",
       "3417  ZYL              6\n",
       "\n",
       "[3418 rows x 2 columns]"
      ]
     },
     "execution_count": 17,
     "metadata": {},
     "output_type": "execute_result"
    }
   ],
   "source": [
    "arrival_table"
   ]
  },
  {
   "cell_type": "markdown",
   "id": "42cde3fc",
   "metadata": {
    "slideshow": {
     "slide_type": "slide"
    }
   },
   "source": [
    "We can link these the arrival tables and destination tables together:\n",
    "- Keep records where source and destination are in both tables.\n",
    "- What operation?"
   ]
  },
  {
   "cell_type": "markdown",
   "id": "63ba73d9",
   "metadata": {
    "slideshow": {
     "slide_type": "fragment"
    }
   },
   "source": [
    "INNER JOIN ON SUBQUERY RESULTS!"
   ]
  },
  {
   "cell_type": "code",
   "execution_count": 18,
   "id": "e0cb27c8",
   "metadata": {
    "slideshow": {
     "slide_type": "slide"
    }
   },
   "outputs": [],
   "source": [
    "%%capture full_result\n",
    "\n",
    "pd.read_sql(\"\"\"\n",
    "\n",
    "SELECT dep.source AS airport_code,\n",
    "        dep.departure_count,\n",
    "        arriv.arrival_count \n",
    "        \n",
    "FROM\n",
    "\n",
    "(SELECT source, COUNT(source) as departure_count\n",
    "     FROM routes\n",
    "     \n",
    "     GROUP BY source) AS dep\n",
    "\n",
    "INNER JOIN \n",
    "\n",
    "(SELECT dest, COUNT(dest) as arrival_count\n",
    "     FROM routes\n",
    "     \n",
    "     GROUP BY dest) AS arriv\n",
    "\n",
    "ON dep.source = arriv.dest\n",
    "     \n",
    "\"\"\", con)"
   ]
  },
  {
   "cell_type": "code",
   "execution_count": 19,
   "id": "c7fb0734",
   "metadata": {
    "slideshow": {
     "slide_type": "slide"
    }
   },
   "outputs": [
    {
     "data": {
      "text/html": [
       "<div>\n",
       "<style scoped>\n",
       "    .dataframe tbody tr th:only-of-type {\n",
       "        vertical-align: middle;\n",
       "    }\n",
       "\n",
       "    .dataframe tbody tr th {\n",
       "        vertical-align: top;\n",
       "    }\n",
       "\n",
       "    .dataframe thead th {\n",
       "        text-align: right;\n",
       "    }\n",
       "</style>\n",
       "<table border=\"1\" class=\"dataframe\">\n",
       "  <thead>\n",
       "    <tr style=\"text-align: right;\">\n",
       "      <th></th>\n",
       "      <th>airport_code</th>\n",
       "      <th>departure_count</th>\n",
       "      <th>arrival_count</th>\n",
       "    </tr>\n",
       "  </thead>\n",
       "  <tbody>\n",
       "    <tr>\n",
       "      <th>0</th>\n",
       "      <td>AAE</td>\n",
       "      <td>9</td>\n",
       "      <td>9</td>\n",
       "    </tr>\n",
       "    <tr>\n",
       "      <th>1</th>\n",
       "      <td>AAL</td>\n",
       "      <td>20</td>\n",
       "      <td>21</td>\n",
       "    </tr>\n",
       "    <tr>\n",
       "      <th>2</th>\n",
       "      <td>AAN</td>\n",
       "      <td>2</td>\n",
       "      <td>2</td>\n",
       "    </tr>\n",
       "    <tr>\n",
       "      <th>3</th>\n",
       "      <td>AAQ</td>\n",
       "      <td>3</td>\n",
       "      <td>3</td>\n",
       "    </tr>\n",
       "    <tr>\n",
       "      <th>4</th>\n",
       "      <td>AAR</td>\n",
       "      <td>8</td>\n",
       "      <td>8</td>\n",
       "    </tr>\n",
       "    <tr>\n",
       "      <th>...</th>\n",
       "      <td>...</td>\n",
       "      <td>...</td>\n",
       "      <td>...</td>\n",
       "    </tr>\n",
       "    <tr>\n",
       "      <th>3397</th>\n",
       "      <td>ZUH</td>\n",
       "      <td>60</td>\n",
       "      <td>59</td>\n",
       "    </tr>\n",
       "    <tr>\n",
       "      <th>3398</th>\n",
       "      <td>ZUM</td>\n",
       "      <td>2</td>\n",
       "      <td>2</td>\n",
       "    </tr>\n",
       "    <tr>\n",
       "      <th>3399</th>\n",
       "      <td>ZVK</td>\n",
       "      <td>3</td>\n",
       "      <td>3</td>\n",
       "    </tr>\n",
       "    <tr>\n",
       "      <th>3400</th>\n",
       "      <td>ZYI</td>\n",
       "      <td>15</td>\n",
       "      <td>15</td>\n",
       "    </tr>\n",
       "    <tr>\n",
       "      <th>3401</th>\n",
       "      <td>ZYL</td>\n",
       "      <td>4</td>\n",
       "      <td>6</td>\n",
       "    </tr>\n",
       "  </tbody>\n",
       "</table>\n",
       "<p>3402 rows × 3 columns</p>\n",
       "</div>"
      ],
      "text/plain": [
       "     airport_code  departure_count  arrival_count\n",
       "0             AAE                9              9\n",
       "1             AAL               20             21\n",
       "2             AAN                2              2\n",
       "3             AAQ                3              3\n",
       "4             AAR                8              8\n",
       "...           ...              ...            ...\n",
       "3397          ZUH               60             59\n",
       "3398          ZUM                2              2\n",
       "3399          ZVK                3              3\n",
       "3400          ZYI               15             15\n",
       "3401          ZYL                4              6\n",
       "\n",
       "[3402 rows x 3 columns]"
      ]
     },
     "metadata": {},
     "output_type": "display_data"
    }
   ],
   "source": [
    "full_result()"
   ]
  },
  {
   "cell_type": "markdown",
   "id": "88d845a2",
   "metadata": {
    "slideshow": {
     "slide_type": "slide"
    }
   },
   "source": [
    "This result is a derived table telling us information for each airport and keeping relevant records.\n",
    "\n",
    "- We can filter or aggregate on this derived table as we see fit.\n",
    "\n",
    "\n",
    "- Get all airports with significance difference in:\n",
    "    - number of routes originating and terminating at given airport.\n",
    "    - dfference in departure and arrival route counts greater than 5.\n",
    "- Order in descending order of this difference.\n",
    "\n",
    "Help me out!\n"
   ]
  },
  {
   "cell_type": "code",
   "execution_count": 22,
   "id": "712dc60f",
   "metadata": {
    "slideshow": {
     "slide_type": "fragment"
    }
   },
   "outputs": [],
   "source": [
    "%%capture filtered_result\n",
    "\n",
    "pd.read_sql(\"\"\"\n",
    "\n",
    "SELECT dep.source AS airport_code,\n",
    "        dep.departure_count,\n",
    "        ABS(dep.departure_count - arriv.arrival_count) AS count_diff \n",
    "        \n",
    "FROM\n",
    "\n",
    "(SELECT source, COUNT(source) as departure_count\n",
    "     FROM routes\n",
    "     \n",
    "     GROUP BY source) AS dep\n",
    "\n",
    "INNER JOIN \n",
    "\n",
    "(SELECT dest, COUNT(dest) as arrival_count\n",
    "     FROM routes\n",
    "     \n",
    "     GROUP BY dest) AS arriv\n",
    "\n",
    "ON dep.source = arriv.dest\n",
    "\n",
    "Where count_diff > 5\n",
    "ORDER BY count_diff DESC\n",
    "     \n",
    "\"\"\", con)"
   ]
  },
  {
   "cell_type": "markdown",
   "id": "872fc732",
   "metadata": {
    "slideshow": {
     "slide_type": "fragment"
    }
   },
   "source": [
    "<details>\n",
    "    <summary><b><u>Click Here for Answer Code</u></b></summary>\n",
    "\n",
    "```python \n",
    "%%capture filtered_result\n",
    "\n",
    "pd.read_sql(\"\"\"\n",
    "\n",
    "SELECT dep.source AS airport_code,\n",
    "        dep.departure_count,\n",
    "        arriv.arrival_count, \n",
    "        ABS(dep.departure_count - arrival_count) AS count_diff\n",
    "        \n",
    "FROM\n",
    "\n",
    "(SELECT source, COUNT(source) as departure_count\n",
    "     FROM routes\n",
    "     \n",
    "     GROUP BY source) AS dep\n",
    "\n",
    "INNER JOIN \n",
    "\n",
    "(SELECT dest, COUNT(dest) as arrival_count\n",
    "     FROM routes\n",
    "     \n",
    "     GROUP BY dest) AS arriv\n",
    "\n",
    "ON dep.source = arriv.dest\n",
    "\n",
    "WHERE count_diff > 5\n",
    "ORDER BY count_diff DESC\n",
    "     \n",
    "\"\"\", con)\n",
    "```\n",
    "</details>"
   ]
  },
  {
   "cell_type": "code",
   "execution_count": 21,
   "id": "11c93a32",
   "metadata": {
    "slideshow": {
     "slide_type": "slide"
    }
   },
   "outputs": [
    {
     "data": {
      "text/html": [
       "<div>\n",
       "<style scoped>\n",
       "    .dataframe tbody tr th:only-of-type {\n",
       "        vertical-align: middle;\n",
       "    }\n",
       "\n",
       "    .dataframe tbody tr th {\n",
       "        vertical-align: top;\n",
       "    }\n",
       "\n",
       "    .dataframe thead th {\n",
       "        text-align: right;\n",
       "    }\n",
       "</style>\n",
       "<table border=\"1\" class=\"dataframe\">\n",
       "  <thead>\n",
       "    <tr style=\"text-align: right;\">\n",
       "      <th></th>\n",
       "      <th>airport_code</th>\n",
       "      <th>departure_count</th>\n",
       "      <th>arrival_count</th>\n",
       "    </tr>\n",
       "  </thead>\n",
       "  <tbody>\n",
       "    <tr>\n",
       "      <th>0</th>\n",
       "      <td>AAE</td>\n",
       "      <td>9</td>\n",
       "      <td>9</td>\n",
       "    </tr>\n",
       "    <tr>\n",
       "      <th>1</th>\n",
       "      <td>AAL</td>\n",
       "      <td>20</td>\n",
       "      <td>21</td>\n",
       "    </tr>\n",
       "    <tr>\n",
       "      <th>2</th>\n",
       "      <td>AAN</td>\n",
       "      <td>2</td>\n",
       "      <td>2</td>\n",
       "    </tr>\n",
       "    <tr>\n",
       "      <th>3</th>\n",
       "      <td>AAQ</td>\n",
       "      <td>3</td>\n",
       "      <td>3</td>\n",
       "    </tr>\n",
       "    <tr>\n",
       "      <th>4</th>\n",
       "      <td>AAR</td>\n",
       "      <td>8</td>\n",
       "      <td>8</td>\n",
       "    </tr>\n",
       "    <tr>\n",
       "      <th>...</th>\n",
       "      <td>...</td>\n",
       "      <td>...</td>\n",
       "      <td>...</td>\n",
       "    </tr>\n",
       "    <tr>\n",
       "      <th>3397</th>\n",
       "      <td>ZUH</td>\n",
       "      <td>60</td>\n",
       "      <td>59</td>\n",
       "    </tr>\n",
       "    <tr>\n",
       "      <th>3398</th>\n",
       "      <td>ZUM</td>\n",
       "      <td>2</td>\n",
       "      <td>2</td>\n",
       "    </tr>\n",
       "    <tr>\n",
       "      <th>3399</th>\n",
       "      <td>ZVK</td>\n",
       "      <td>3</td>\n",
       "      <td>3</td>\n",
       "    </tr>\n",
       "    <tr>\n",
       "      <th>3400</th>\n",
       "      <td>ZYI</td>\n",
       "      <td>15</td>\n",
       "      <td>15</td>\n",
       "    </tr>\n",
       "    <tr>\n",
       "      <th>3401</th>\n",
       "      <td>ZYL</td>\n",
       "      <td>4</td>\n",
       "      <td>6</td>\n",
       "    </tr>\n",
       "  </tbody>\n",
       "</table>\n",
       "<p>3402 rows × 3 columns</p>\n",
       "</div>"
      ],
      "text/plain": [
       "     airport_code  departure_count  arrival_count\n",
       "0             AAE                9              9\n",
       "1             AAL               20             21\n",
       "2             AAN                2              2\n",
       "3             AAQ                3              3\n",
       "4             AAR                8              8\n",
       "...           ...              ...            ...\n",
       "3397          ZUH               60             59\n",
       "3398          ZUM                2              2\n",
       "3399          ZVK                3              3\n",
       "3400          ZYI               15             15\n",
       "3401          ZYL                4              6\n",
       "\n",
       "[3402 rows x 3 columns]"
      ]
     },
     "metadata": {},
     "output_type": "display_data"
    }
   ],
   "source": [
    "filtered_result()"
   ]
  },
  {
   "cell_type": "markdown",
   "id": "e819edd8",
   "metadata": {
    "slideshow": {
     "slide_type": "slide"
    }
   },
   "source": [
    "**Exercise**\n",
    "\n",
    "Get me the name, city, country and airport code of airports for countries with more than 10 active airlines companies\n",
    "\n",
    "Hints:\n",
    "- DISTINCT(name) will be useful.\n",
    "- A join might be useful. Aliasing tables will be important here as well.\n",
    "- Think of groupbys and aggregations and filtering on them."
   ]
  },
  {
   "cell_type": "code",
   "execution_count": 26,
   "id": "21df1448",
   "metadata": {
    "cell_style": "split",
    "slideshow": {
     "slide_type": "fragment"
    }
   },
   "outputs": [
    {
     "name": "stdout",
     "output_type": "stream",
     "text": [
      "CREATE TABLE airlines (\n",
      "[index] INTEGER,\n",
      "  [id] TEXT,\n",
      "  [name] TEXT,\n",
      "  [alias] TEXT,\n",
      "  [iata] TEXT,\n",
      "  [icao] TEXT,\n",
      "  [callsign] TEXT,\n",
      "  [country] TEXT,\n",
      "  [active] TEXT\n",
      ");\n",
      "CREATE INDEX ix_airlines_index ON airlines ([index]);\n"
     ]
    }
   ],
   "source": [
    "%%bash \n",
    "\n",
    "sqlite3 data/flights.db\n",
    ".schema airlines"
   ]
  },
  {
   "cell_type": "code",
   "execution_count": 27,
   "id": "fff41889",
   "metadata": {
    "cell_style": "split",
    "slideshow": {
     "slide_type": "fragment"
    }
   },
   "outputs": [
    {
     "name": "stdout",
     "output_type": "stream",
     "text": [
      "CREATE TABLE airports (\n",
      "[index] INTEGER,\n",
      "  [id] TEXT,\n",
      "  [name] TEXT,\n",
      "  [city] TEXT,\n",
      "  [country] TEXT,\n",
      "  [code] TEXT,\n",
      "  [icao] TEXT,\n",
      "  [latitude] TEXT,\n",
      "  [longitude] TEXT,\n",
      "  [altitude] TEXT,\n",
      "  [offset] TEXT,\n",
      "  [dst] TEXT,\n",
      "  [timezone] TEXT\n",
      ");\n",
      "CREATE INDEX ix_airports_index ON airports ([index]);\n"
     ]
    }
   ],
   "source": [
    "%%bash \n",
    "\n",
    "sqlite3 data/flights.db\n",
    ".schema airports"
   ]
  },
  {
   "cell_type": "code",
   "execution_count": 25,
   "id": "cae8e9a7",
   "metadata": {
    "slideshow": {
     "slide_type": "fragment"
    }
   },
   "outputs": [
    {
     "data": {
      "text/html": [
       "<div>\n",
       "<style scoped>\n",
       "    .dataframe tbody tr th:only-of-type {\n",
       "        vertical-align: middle;\n",
       "    }\n",
       "\n",
       "    .dataframe tbody tr th {\n",
       "        vertical-align: top;\n",
       "    }\n",
       "\n",
       "    .dataframe thead th {\n",
       "        text-align: right;\n",
       "    }\n",
       "</style>\n",
       "<table border=\"1\" class=\"dataframe\">\n",
       "  <thead>\n",
       "    <tr style=\"text-align: right;\">\n",
       "      <th></th>\n",
       "      <th>name</th>\n",
       "      <th>code</th>\n",
       "      <th>city</th>\n",
       "      <th>country</th>\n",
       "      <th>ct</th>\n",
       "    </tr>\n",
       "  </thead>\n",
       "  <tbody>\n",
       "    <tr>\n",
       "      <th>0</th>\n",
       "      <td>Sault Ste Marie</td>\n",
       "      <td>YAM</td>\n",
       "      <td>Sault Sainte Marie</td>\n",
       "      <td>Canada</td>\n",
       "      <td>34</td>\n",
       "    </tr>\n",
       "    <tr>\n",
       "      <th>1</th>\n",
       "      <td>Winnipeg St Andrews</td>\n",
       "      <td>YAV</td>\n",
       "      <td>Winnipeg</td>\n",
       "      <td>Canada</td>\n",
       "      <td>34</td>\n",
       "    </tr>\n",
       "    <tr>\n",
       "      <th>2</th>\n",
       "      <td>Shearwater</td>\n",
       "      <td>YAW</td>\n",
       "      <td>Halifax</td>\n",
       "      <td>Canada</td>\n",
       "      <td>34</td>\n",
       "    </tr>\n",
       "    <tr>\n",
       "      <th>3</th>\n",
       "      <td>St Anthony</td>\n",
       "      <td>YAY</td>\n",
       "      <td>St. Anthony</td>\n",
       "      <td>Canada</td>\n",
       "      <td>34</td>\n",
       "    </tr>\n",
       "    <tr>\n",
       "      <th>4</th>\n",
       "      <td>Tofino</td>\n",
       "      <td>YAZ</td>\n",
       "      <td>Tofino</td>\n",
       "      <td>Canada</td>\n",
       "      <td>34</td>\n",
       "    </tr>\n",
       "    <tr>\n",
       "      <th>...</th>\n",
       "      <td>...</td>\n",
       "      <td>...</td>\n",
       "      <td>...</td>\n",
       "      <td>...</td>\n",
       "      <td>...</td>\n",
       "    </tr>\n",
       "    <tr>\n",
       "      <th>4984</th>\n",
       "      <td>Mansons Landing Water Aerodrome</td>\n",
       "      <td>YMU</td>\n",
       "      <td>Mansons Landing</td>\n",
       "      <td>Canada</td>\n",
       "      <td>34</td>\n",
       "    </tr>\n",
       "    <tr>\n",
       "      <th>4985</th>\n",
       "      <td>Port McNeill Airport</td>\n",
       "      <td>YMP</td>\n",
       "      <td>Port McNeill</td>\n",
       "      <td>Canada</td>\n",
       "      <td>34</td>\n",
       "    </tr>\n",
       "    <tr>\n",
       "      <th>4986</th>\n",
       "      <td>Sullivan Bay Water Aerodrome</td>\n",
       "      <td>YTG</td>\n",
       "      <td>Sullivan Bay</td>\n",
       "      <td>Canada</td>\n",
       "      <td>34</td>\n",
       "    </tr>\n",
       "    <tr>\n",
       "      <th>4987</th>\n",
       "      <td>Deer Harbor Seaplane</td>\n",
       "      <td>DHB</td>\n",
       "      <td>Deer Harbor</td>\n",
       "      <td>United States</td>\n",
       "      <td>141</td>\n",
       "    </tr>\n",
       "    <tr>\n",
       "      <th>4988</th>\n",
       "      <td>San Diego Old Town Transit Center</td>\n",
       "      <td>OLT</td>\n",
       "      <td>San Diego</td>\n",
       "      <td>United States</td>\n",
       "      <td>141</td>\n",
       "    </tr>\n",
       "  </tbody>\n",
       "</table>\n",
       "<p>4989 rows × 5 columns</p>\n",
       "</div>"
      ],
      "text/plain": [
       "                                   name code                city  \\\n",
       "0                       Sault Ste Marie  YAM  Sault Sainte Marie   \n",
       "1                   Winnipeg St Andrews  YAV            Winnipeg   \n",
       "2                            Shearwater  YAW             Halifax   \n",
       "3                            St Anthony  YAY         St. Anthony   \n",
       "4                                Tofino  YAZ              Tofino   \n",
       "...                                 ...  ...                 ...   \n",
       "4984    Mansons Landing Water Aerodrome  YMU     Mansons Landing   \n",
       "4985               Port McNeill Airport  YMP        Port McNeill   \n",
       "4986       Sullivan Bay Water Aerodrome  YTG        Sullivan Bay   \n",
       "4987               Deer Harbor Seaplane  DHB         Deer Harbor   \n",
       "4988  San Diego Old Town Transit Center  OLT           San Diego   \n",
       "\n",
       "            country   ct  \n",
       "0            Canada   34  \n",
       "1            Canada   34  \n",
       "2            Canada   34  \n",
       "3            Canada   34  \n",
       "4            Canada   34  \n",
       "...             ...  ...  \n",
       "4984         Canada   34  \n",
       "4985         Canada   34  \n",
       "4986         Canada   34  \n",
       "4987  United States  141  \n",
       "4988  United States  141  \n",
       "\n",
       "[4989 rows x 5 columns]"
      ]
     },
     "execution_count": 25,
     "metadata": {},
     "output_type": "execute_result"
    }
   ],
   "source": []
  },
  {
   "cell_type": "markdown",
   "id": "9e65bcd9",
   "metadata": {
    "slideshow": {
     "slide_type": "fragment"
    }
   },
   "source": [
    "<details>\n",
    "    <summary><b><u>Click Here for Answer Code</u></b></summary>\n",
    "\n",
    "```python \n",
    "pd.read_sql(\"\"\"\n",
    "SELECT ar.name, ar.code, ar.city, ar.country, ct\n",
    "FROM \n",
    "( SELECT country, COUNT(DISTINCT name) AS ct\n",
    "FROM airlines \n",
    "WHERE active = 'Y'\n",
    "GROUP BY country\n",
    "HAVING ct > 10 ) as inter INNER JOIN airports as ar\n",
    "ON inter.country = ar.country\n",
    "\n",
    "\"\"\", con)\n",
    "```\n",
    "</details>"
   ]
  },
  {
   "cell_type": "markdown",
   "id": "a25b585b",
   "metadata": {
    "slideshow": {
     "slide_type": "slide"
    }
   },
   "source": [
    "- Complex as subqueries pile on. \n",
    "- There are ways to organize subqueries: common table expressions\n",
    "- Will make code readable.\n",
    "\n",
    "But first: other ways subqueries can be used."
   ]
  },
  {
   "cell_type": "markdown",
   "id": "d5f5f8f0",
   "metadata": {
    "slideshow": {
     "slide_type": "slide"
    }
   },
   "source": [
    "#### Subqueries in the WHERE statement\n",
    "\n",
    "- Can use the result of a subquery to filter another selection.\n",
    "\n",
    "I want all route records where the departure airport has a departure route count greater than 200."
   ]
  },
  {
   "cell_type": "code",
   "execution_count": 28,
   "id": "c3c60609",
   "metadata": {
    "slideshow": {
     "slide_type": "slide"
    }
   },
   "outputs": [
    {
     "data": {
      "text/html": [
       "<div>\n",
       "<style scoped>\n",
       "    .dataframe tbody tr th:only-of-type {\n",
       "        vertical-align: middle;\n",
       "    }\n",
       "\n",
       "    .dataframe tbody tr th {\n",
       "        vertical-align: top;\n",
       "    }\n",
       "\n",
       "    .dataframe thead th {\n",
       "        text-align: right;\n",
       "    }\n",
       "</style>\n",
       "<table border=\"1\" class=\"dataframe\">\n",
       "  <thead>\n",
       "    <tr style=\"text-align: right;\">\n",
       "      <th></th>\n",
       "      <th>source</th>\n",
       "      <th>COUNT(source)</th>\n",
       "    </tr>\n",
       "  </thead>\n",
       "  <tbody>\n",
       "    <tr>\n",
       "      <th>0</th>\n",
       "      <td>AGP</td>\n",
       "      <td>206</td>\n",
       "    </tr>\n",
       "    <tr>\n",
       "      <th>1</th>\n",
       "      <td>AMS</td>\n",
       "      <td>453</td>\n",
       "    </tr>\n",
       "    <tr>\n",
       "      <th>2</th>\n",
       "      <td>ARN</td>\n",
       "      <td>219</td>\n",
       "    </tr>\n",
       "    <tr>\n",
       "      <th>3</th>\n",
       "      <td>ATL</td>\n",
       "      <td>915</td>\n",
       "    </tr>\n",
       "    <tr>\n",
       "      <th>4</th>\n",
       "      <td>AUH</td>\n",
       "      <td>241</td>\n",
       "    </tr>\n",
       "    <tr>\n",
       "      <th>...</th>\n",
       "      <td>...</td>\n",
       "      <td>...</td>\n",
       "    </tr>\n",
       "    <tr>\n",
       "      <th>63</th>\n",
       "      <td>VIE</td>\n",
       "      <td>308</td>\n",
       "    </tr>\n",
       "    <tr>\n",
       "      <th>64</th>\n",
       "      <td>XIY</td>\n",
       "      <td>283</td>\n",
       "    </tr>\n",
       "    <tr>\n",
       "      <th>65</th>\n",
       "      <td>XMN</td>\n",
       "      <td>233</td>\n",
       "    </tr>\n",
       "    <tr>\n",
       "      <th>66</th>\n",
       "      <td>YYZ</td>\n",
       "      <td>319</td>\n",
       "    </tr>\n",
       "    <tr>\n",
       "      <th>67</th>\n",
       "      <td>ZRH</td>\n",
       "      <td>247</td>\n",
       "    </tr>\n",
       "  </tbody>\n",
       "</table>\n",
       "<p>68 rows × 2 columns</p>\n",
       "</div>"
      ],
      "text/plain": [
       "   source  COUNT(source)\n",
       "0     AGP            206\n",
       "1     AMS            453\n",
       "2     ARN            219\n",
       "3     ATL            915\n",
       "4     AUH            241\n",
       "..    ...            ...\n",
       "63    VIE            308\n",
       "64    XIY            283\n",
       "65    XMN            233\n",
       "66    YYZ            319\n",
       "67    ZRH            247\n",
       "\n",
       "[68 rows x 2 columns]"
      ]
     },
     "execution_count": 28,
     "metadata": {},
     "output_type": "execute_result"
    }
   ],
   "source": [
    "#subquery\n",
    "pd.read_sql('''\n",
    "\n",
    "\n",
    "SELECT source, COUNT(source)\n",
    "     FROM routes\n",
    "     GROUP BY source\n",
    "     HAVING COUNT(source) > 200\n",
    "''', con)"
   ]
  },
  {
   "cell_type": "code",
   "execution_count": 29,
   "id": "ae7b008a",
   "metadata": {
    "slideshow": {
     "slide_type": "fragment"
    }
   },
   "outputs": [],
   "source": [
    "%%capture where_subquery1\n",
    "pd.read_sql('''\n",
    "\n",
    "\n",
    "SELECT *\n",
    "            \n",
    "FROM routes\n",
    "\n",
    "WHERE source IN (SELECT source \n",
    "     FROM routes\n",
    "     GROUP BY source\n",
    "     HAVING COUNT(source) > 200) \n",
    "''', con)"
   ]
  },
  {
   "cell_type": "code",
   "execution_count": 30,
   "id": "7917ac74",
   "metadata": {
    "slideshow": {
     "slide_type": "slide"
    }
   },
   "outputs": [
    {
     "data": {
      "text/html": [
       "<div>\n",
       "<style scoped>\n",
       "    .dataframe tbody tr th:only-of-type {\n",
       "        vertical-align: middle;\n",
       "    }\n",
       "\n",
       "    .dataframe tbody tr th {\n",
       "        vertical-align: top;\n",
       "    }\n",
       "\n",
       "    .dataframe thead th {\n",
       "        text-align: right;\n",
       "    }\n",
       "</style>\n",
       "<table border=\"1\" class=\"dataframe\">\n",
       "  <thead>\n",
       "    <tr style=\"text-align: right;\">\n",
       "      <th></th>\n",
       "      <th>index</th>\n",
       "      <th>airline</th>\n",
       "      <th>airline_id</th>\n",
       "      <th>source</th>\n",
       "      <th>source_id</th>\n",
       "      <th>dest</th>\n",
       "      <th>dest_id</th>\n",
       "      <th>codeshare</th>\n",
       "      <th>stops</th>\n",
       "      <th>equipment</th>\n",
       "    </tr>\n",
       "  </thead>\n",
       "  <tbody>\n",
       "    <tr>\n",
       "      <th>0</th>\n",
       "      <td>5</td>\n",
       "      <td>2B</td>\n",
       "      <td>410</td>\n",
       "      <td>DME</td>\n",
       "      <td>4029</td>\n",
       "      <td>KZN</td>\n",
       "      <td>2990</td>\n",
       "      <td>None</td>\n",
       "      <td>0</td>\n",
       "      <td>CR2</td>\n",
       "    </tr>\n",
       "    <tr>\n",
       "      <th>1</th>\n",
       "      <td>6</td>\n",
       "      <td>2B</td>\n",
       "      <td>410</td>\n",
       "      <td>DME</td>\n",
       "      <td>4029</td>\n",
       "      <td>NBC</td>\n",
       "      <td>6969</td>\n",
       "      <td>None</td>\n",
       "      <td>0</td>\n",
       "      <td>CR2</td>\n",
       "    </tr>\n",
       "    <tr>\n",
       "      <th>2</th>\n",
       "      <td>7</td>\n",
       "      <td>2B</td>\n",
       "      <td>410</td>\n",
       "      <td>DME</td>\n",
       "      <td>4029</td>\n",
       "      <td>TGK</td>\n",
       "      <td>\\N</td>\n",
       "      <td>None</td>\n",
       "      <td>0</td>\n",
       "      <td>CR2</td>\n",
       "    </tr>\n",
       "    <tr>\n",
       "      <th>3</th>\n",
       "      <td>8</td>\n",
       "      <td>2B</td>\n",
       "      <td>410</td>\n",
       "      <td>DME</td>\n",
       "      <td>4029</td>\n",
       "      <td>UUA</td>\n",
       "      <td>6160</td>\n",
       "      <td>None</td>\n",
       "      <td>0</td>\n",
       "      <td>CR2</td>\n",
       "    </tr>\n",
       "    <tr>\n",
       "      <th>4</th>\n",
       "      <td>123</td>\n",
       "      <td>2L</td>\n",
       "      <td>2750</td>\n",
       "      <td>ZRH</td>\n",
       "      <td>1678</td>\n",
       "      <td>BDS</td>\n",
       "      <td>1506</td>\n",
       "      <td>None</td>\n",
       "      <td>0</td>\n",
       "      <td>100</td>\n",
       "    </tr>\n",
       "    <tr>\n",
       "      <th>...</th>\n",
       "      <td>...</td>\n",
       "      <td>...</td>\n",
       "      <td>...</td>\n",
       "      <td>...</td>\n",
       "      <td>...</td>\n",
       "      <td>...</td>\n",
       "      <td>...</td>\n",
       "      <td>...</td>\n",
       "      <td>...</td>\n",
       "      <td>...</td>\n",
       "    </tr>\n",
       "    <tr>\n",
       "      <th>21698</th>\n",
       "      <td>67646</td>\n",
       "      <td>ZL</td>\n",
       "      <td>4178</td>\n",
       "      <td>SYD</td>\n",
       "      <td>3361</td>\n",
       "      <td>OAG</td>\n",
       "      <td>6793</td>\n",
       "      <td>None</td>\n",
       "      <td>0</td>\n",
       "      <td>SF3</td>\n",
       "    </tr>\n",
       "    <tr>\n",
       "      <th>21699</th>\n",
       "      <td>67647</td>\n",
       "      <td>ZL</td>\n",
       "      <td>4178</td>\n",
       "      <td>SYD</td>\n",
       "      <td>3361</td>\n",
       "      <td>PKE</td>\n",
       "      <td>6317</td>\n",
       "      <td>None</td>\n",
       "      <td>0</td>\n",
       "      <td>SF3</td>\n",
       "    </tr>\n",
       "    <tr>\n",
       "      <th>21700</th>\n",
       "      <td>67648</td>\n",
       "      <td>ZL</td>\n",
       "      <td>4178</td>\n",
       "      <td>SYD</td>\n",
       "      <td>3361</td>\n",
       "      <td>TRO</td>\n",
       "      <td>6794</td>\n",
       "      <td>None</td>\n",
       "      <td>0</td>\n",
       "      <td>SF3</td>\n",
       "    </tr>\n",
       "    <tr>\n",
       "      <th>21701</th>\n",
       "      <td>67649</td>\n",
       "      <td>ZL</td>\n",
       "      <td>4178</td>\n",
       "      <td>SYD</td>\n",
       "      <td>3361</td>\n",
       "      <td>WGA</td>\n",
       "      <td>3363</td>\n",
       "      <td>None</td>\n",
       "      <td>0</td>\n",
       "      <td>SF3</td>\n",
       "    </tr>\n",
       "    <tr>\n",
       "      <th>21702</th>\n",
       "      <td>67659</td>\n",
       "      <td>ZM</td>\n",
       "      <td>19016</td>\n",
       "      <td>DME</td>\n",
       "      <td>4029</td>\n",
       "      <td>FRU</td>\n",
       "      <td>2912</td>\n",
       "      <td>None</td>\n",
       "      <td>0</td>\n",
       "      <td>734</td>\n",
       "    </tr>\n",
       "  </tbody>\n",
       "</table>\n",
       "<p>21703 rows × 10 columns</p>\n",
       "</div>"
      ],
      "text/plain": [
       "       index airline airline_id source source_id dest dest_id codeshare stops  \\\n",
       "0          5      2B        410    DME      4029  KZN    2990      None     0   \n",
       "1          6      2B        410    DME      4029  NBC    6969      None     0   \n",
       "2          7      2B        410    DME      4029  TGK      \\N      None     0   \n",
       "3          8      2B        410    DME      4029  UUA    6160      None     0   \n",
       "4        123      2L       2750    ZRH      1678  BDS    1506      None     0   \n",
       "...      ...     ...        ...    ...       ...  ...     ...       ...   ...   \n",
       "21698  67646      ZL       4178    SYD      3361  OAG    6793      None     0   \n",
       "21699  67647      ZL       4178    SYD      3361  PKE    6317      None     0   \n",
       "21700  67648      ZL       4178    SYD      3361  TRO    6794      None     0   \n",
       "21701  67649      ZL       4178    SYD      3361  WGA    3363      None     0   \n",
       "21702  67659      ZM      19016    DME      4029  FRU    2912      None     0   \n",
       "\n",
       "      equipment  \n",
       "0           CR2  \n",
       "1           CR2  \n",
       "2           CR2  \n",
       "3           CR2  \n",
       "4           100  \n",
       "...         ...  \n",
       "21698       SF3  \n",
       "21699       SF3  \n",
       "21700       SF3  \n",
       "21701       SF3  \n",
       "21702       734  \n",
       "\n",
       "[21703 rows x 10 columns]"
      ]
     },
     "metadata": {},
     "output_type": "display_data"
    }
   ],
   "source": [
    "where_subquery1()"
   ]
  },
  {
   "cell_type": "markdown",
   "id": "7d0f125e",
   "metadata": {
    "slideshow": {
     "slide_type": "slide"
    }
   },
   "source": [
    "#### The Semijoin\n",
    "\n",
    "- Using a subquery from one table to filter another table.\n",
    "\n",
    "Example:\n",
    "\n",
    "Get the airport name, code, country, and altitude for airports with more than 200 routes originating from that airport."
   ]
  },
  {
   "cell_type": "code",
   "execution_count": 31,
   "id": "7f2e7333",
   "metadata": {
    "slideshow": {
     "slide_type": "fragment"
    }
   },
   "outputs": [],
   "source": [
    "%%capture semijoin\n",
    "pd.read_sql('''\n",
    "\n",
    "SELECT *\n",
    "FROM airports\n",
    "\n",
    "WHERE code IN (\n",
    "SELECT source \n",
    "     FROM routes\n",
    "     GROUP BY source\n",
    "     HAVING COUNT(source) > 200 \n",
    ")\n",
    "''', con)"
   ]
  },
  {
   "cell_type": "code",
   "execution_count": 32,
   "id": "dad9c2b1",
   "metadata": {
    "scrolled": true,
    "slideshow": {
     "slide_type": "slide"
    }
   },
   "outputs": [
    {
     "data": {
      "text/html": [
       "<div>\n",
       "<style scoped>\n",
       "    .dataframe tbody tr th:only-of-type {\n",
       "        vertical-align: middle;\n",
       "    }\n",
       "\n",
       "    .dataframe tbody tr th {\n",
       "        vertical-align: top;\n",
       "    }\n",
       "\n",
       "    .dataframe thead th {\n",
       "        text-align: right;\n",
       "    }\n",
       "</style>\n",
       "<table border=\"1\" class=\"dataframe\">\n",
       "  <thead>\n",
       "    <tr style=\"text-align: right;\">\n",
       "      <th></th>\n",
       "      <th>index</th>\n",
       "      <th>id</th>\n",
       "      <th>name</th>\n",
       "      <th>city</th>\n",
       "      <th>country</th>\n",
       "      <th>code</th>\n",
       "      <th>icao</th>\n",
       "      <th>latitude</th>\n",
       "      <th>longitude</th>\n",
       "      <th>altitude</th>\n",
       "      <th>offset</th>\n",
       "      <th>dst</th>\n",
       "      <th>timezone</th>\n",
       "    </tr>\n",
       "  </thead>\n",
       "  <tbody>\n",
       "    <tr>\n",
       "      <th>0</th>\n",
       "      <td>191</td>\n",
       "      <td>193</td>\n",
       "      <td>Lester B Pearson Intl</td>\n",
       "      <td>Toronto</td>\n",
       "      <td>Canada</td>\n",
       "      <td>YYZ</td>\n",
       "      <td>CYYZ</td>\n",
       "      <td>43.677223</td>\n",
       "      <td>-79.630556</td>\n",
       "      <td>569</td>\n",
       "      <td>-5</td>\n",
       "      <td>A</td>\n",
       "      <td>America/Toronto</td>\n",
       "    </tr>\n",
       "    <tr>\n",
       "      <th>1</th>\n",
       "      <td>299</td>\n",
       "      <td>302</td>\n",
       "      <td>Brussels Natl</td>\n",
       "      <td>Brussels</td>\n",
       "      <td>Belgium</td>\n",
       "      <td>BRU</td>\n",
       "      <td>EBBR</td>\n",
       "      <td>50.901389</td>\n",
       "      <td>4.484444</td>\n",
       "      <td>184</td>\n",
       "      <td>1</td>\n",
       "      <td>E</td>\n",
       "      <td>Europe/Brussels</td>\n",
       "    </tr>\n",
       "    <tr>\n",
       "      <th>2</th>\n",
       "      <td>337</td>\n",
       "      <td>340</td>\n",
       "      <td>Frankfurt Main</td>\n",
       "      <td>Frankfurt</td>\n",
       "      <td>Germany</td>\n",
       "      <td>FRA</td>\n",
       "      <td>EDDF</td>\n",
       "      <td>50.026421</td>\n",
       "      <td>8.543125</td>\n",
       "      <td>364</td>\n",
       "      <td>1</td>\n",
       "      <td>E</td>\n",
       "      <td>Europe/Berlin</td>\n",
       "    </tr>\n",
       "    <tr>\n",
       "      <th>3</th>\n",
       "      <td>342</td>\n",
       "      <td>345</td>\n",
       "      <td>Dusseldorf</td>\n",
       "      <td>Duesseldorf</td>\n",
       "      <td>Germany</td>\n",
       "      <td>DUS</td>\n",
       "      <td>EDDL</td>\n",
       "      <td>51.289453</td>\n",
       "      <td>6.766775</td>\n",
       "      <td>147</td>\n",
       "      <td>1</td>\n",
       "      <td>E</td>\n",
       "      <td>Europe/Berlin</td>\n",
       "    </tr>\n",
       "    <tr>\n",
       "      <th>4</th>\n",
       "      <td>343</td>\n",
       "      <td>346</td>\n",
       "      <td>Franz Josef Strauss</td>\n",
       "      <td>Munich</td>\n",
       "      <td>Germany</td>\n",
       "      <td>MUC</td>\n",
       "      <td>EDDM</td>\n",
       "      <td>48.353783</td>\n",
       "      <td>11.786086</td>\n",
       "      <td>1487</td>\n",
       "      <td>1</td>\n",
       "      <td>E</td>\n",
       "      <td>Europe/Berlin</td>\n",
       "    </tr>\n",
       "    <tr>\n",
       "      <th>...</th>\n",
       "      <td>...</td>\n",
       "      <td>...</td>\n",
       "      <td>...</td>\n",
       "      <td>...</td>\n",
       "      <td>...</td>\n",
       "      <td>...</td>\n",
       "      <td>...</td>\n",
       "      <td>...</td>\n",
       "      <td>...</td>\n",
       "      <td>...</td>\n",
       "      <td>...</td>\n",
       "      <td>...</td>\n",
       "      <td>...</td>\n",
       "    </tr>\n",
       "    <tr>\n",
       "      <th>63</th>\n",
       "      <td>3778</td>\n",
       "      <td>3877</td>\n",
       "      <td>Mc Carran Intl</td>\n",
       "      <td>Las Vegas</td>\n",
       "      <td>United States</td>\n",
       "      <td>LAS</td>\n",
       "      <td>KLAS</td>\n",
       "      <td>36.080056</td>\n",
       "      <td>-115.15225</td>\n",
       "      <td>2141</td>\n",
       "      <td>-8</td>\n",
       "      <td>A</td>\n",
       "      <td>America/Los_Angeles</td>\n",
       "    </tr>\n",
       "    <tr>\n",
       "      <th>64</th>\n",
       "      <td>3779</td>\n",
       "      <td>3878</td>\n",
       "      <td>Orlando Intl</td>\n",
       "      <td>Orlando</td>\n",
       "      <td>United States</td>\n",
       "      <td>MCO</td>\n",
       "      <td>KMCO</td>\n",
       "      <td>28.429394</td>\n",
       "      <td>-81.308994</td>\n",
       "      <td>96</td>\n",
       "      <td>-5</td>\n",
       "      <td>A</td>\n",
       "      <td>America/New_York</td>\n",
       "    </tr>\n",
       "    <tr>\n",
       "      <th>65</th>\n",
       "      <td>3786</td>\n",
       "      <td>3885</td>\n",
       "      <td>Suvarnabhumi Intl</td>\n",
       "      <td>Bangkok</td>\n",
       "      <td>Thailand</td>\n",
       "      <td>BKK</td>\n",
       "      <td>VTBS</td>\n",
       "      <td>13.681108</td>\n",
       "      <td>100.747283</td>\n",
       "      <td>5</td>\n",
       "      <td>7</td>\n",
       "      <td>U</td>\n",
       "      <td>Asia/Bangkok</td>\n",
       "    </tr>\n",
       "    <tr>\n",
       "      <th>66</th>\n",
       "      <td>3890</td>\n",
       "      <td>3998</td>\n",
       "      <td>Son Sant Joan</td>\n",
       "      <td>Palma de Mallorca</td>\n",
       "      <td>Spain</td>\n",
       "      <td>PMI</td>\n",
       "      <td>LEPA</td>\n",
       "      <td>39.55361</td>\n",
       "      <td>2.727778</td>\n",
       "      <td>24</td>\n",
       "      <td>1</td>\n",
       "      <td>E</td>\n",
       "      <td>Europe/Madrid</td>\n",
       "    </tr>\n",
       "    <tr>\n",
       "      <th>67</th>\n",
       "      <td>3921</td>\n",
       "      <td>4029</td>\n",
       "      <td>Domododevo</td>\n",
       "      <td>Moscow</td>\n",
       "      <td>Russia</td>\n",
       "      <td>DME</td>\n",
       "      <td>UUDD</td>\n",
       "      <td>55.408611</td>\n",
       "      <td>37.906111</td>\n",
       "      <td>588</td>\n",
       "      <td>4</td>\n",
       "      <td>N</td>\n",
       "      <td>Europe/Moscow</td>\n",
       "    </tr>\n",
       "  </tbody>\n",
       "</table>\n",
       "<p>68 rows × 13 columns</p>\n",
       "</div>"
      ],
      "text/plain": [
       "    index    id                   name               city        country code  \\\n",
       "0     191   193  Lester B Pearson Intl            Toronto         Canada  YYZ   \n",
       "1     299   302          Brussels Natl           Brussels        Belgium  BRU   \n",
       "2     337   340         Frankfurt Main          Frankfurt        Germany  FRA   \n",
       "3     342   345             Dusseldorf        Duesseldorf        Germany  DUS   \n",
       "4     343   346    Franz Josef Strauss             Munich        Germany  MUC   \n",
       "..    ...   ...                    ...                ...            ...  ...   \n",
       "63   3778  3877         Mc Carran Intl          Las Vegas  United States  LAS   \n",
       "64   3779  3878           Orlando Intl            Orlando  United States  MCO   \n",
       "65   3786  3885      Suvarnabhumi Intl            Bangkok       Thailand  BKK   \n",
       "66   3890  3998          Son Sant Joan  Palma de Mallorca          Spain  PMI   \n",
       "67   3921  4029             Domododevo             Moscow         Russia  DME   \n",
       "\n",
       "    icao   latitude   longitude altitude offset dst             timezone  \n",
       "0   CYYZ  43.677223  -79.630556      569     -5   A      America/Toronto  \n",
       "1   EBBR  50.901389    4.484444      184      1   E      Europe/Brussels  \n",
       "2   EDDF  50.026421    8.543125      364      1   E        Europe/Berlin  \n",
       "3   EDDL  51.289453    6.766775      147      1   E        Europe/Berlin  \n",
       "4   EDDM  48.353783   11.786086     1487      1   E        Europe/Berlin  \n",
       "..   ...        ...         ...      ...    ...  ..                  ...  \n",
       "63  KLAS  36.080056  -115.15225     2141     -8   A  America/Los_Angeles  \n",
       "64  KMCO  28.429394  -81.308994       96     -5   A     America/New_York  \n",
       "65  VTBS  13.681108  100.747283        5      7   U         Asia/Bangkok  \n",
       "66  LEPA   39.55361    2.727778       24      1   E        Europe/Madrid  \n",
       "67  UUDD  55.408611   37.906111      588      4   N        Europe/Moscow  \n",
       "\n",
       "[68 rows x 13 columns]"
      ]
     },
     "metadata": {},
     "output_type": "display_data"
    }
   ],
   "source": [
    "semijoin()"
   ]
  },
  {
   "cell_type": "markdown",
   "id": "759877c7",
   "metadata": {
    "slideshow": {
     "slide_type": "slide"
    }
   },
   "source": [
    "**Exercise**\n",
    "\n",
    "Get me routes (all columns) whose destination airport is in the America/New York time zone."
   ]
  },
  {
   "cell_type": "code",
   "execution_count": 33,
   "id": "20a7a3a8",
   "metadata": {
    "cell_style": "split"
   },
   "outputs": [
    {
     "name": "stdout",
     "output_type": "stream",
     "text": [
      "CREATE TABLE airports (\n",
      "[index] INTEGER,\n",
      "  [id] TEXT,\n",
      "  [name] TEXT,\n",
      "  [city] TEXT,\n",
      "  [country] TEXT,\n",
      "  [code] TEXT,\n",
      "  [icao] TEXT,\n",
      "  [latitude] TEXT,\n",
      "  [longitude] TEXT,\n",
      "  [altitude] TEXT,\n",
      "  [offset] TEXT,\n",
      "  [dst] TEXT,\n",
      "  [timezone] TEXT\n",
      ");\n",
      "CREATE INDEX ix_airports_index ON airports ([index]);\n"
     ]
    }
   ],
   "source": [
    "%%bash\n",
    "\n",
    "sqlite3 data/flights.db\n",
    ".schema airports"
   ]
  },
  {
   "cell_type": "code",
   "execution_count": 34,
   "id": "74534e49",
   "metadata": {
    "cell_style": "split"
   },
   "outputs": [
    {
     "name": "stdout",
     "output_type": "stream",
     "text": [
      "CREATE TABLE airlines (\n",
      "[index] INTEGER,\n",
      "  [id] TEXT,\n",
      "  [name] TEXT,\n",
      "  [alias] TEXT,\n",
      "  [iata] TEXT,\n",
      "  [icao] TEXT,\n",
      "  [callsign] TEXT,\n",
      "  [country] TEXT,\n",
      "  [active] TEXT\n",
      ");\n",
      "CREATE INDEX ix_airlines_index ON airlines ([index]);\n"
     ]
    }
   ],
   "source": [
    "%%bash\n",
    "\n",
    "sqlite3 data/flights.db\n",
    ".schema airlines"
   ]
  },
  {
   "cell_type": "code",
   "execution_count": null,
   "id": "f9c0782e",
   "metadata": {},
   "outputs": [],
   "source": []
  },
  {
   "cell_type": "markdown",
   "id": "4aa32b7c",
   "metadata": {},
   "source": [
    "<details>\n",
    "    <summary><b><u>Click Here for Answer Code</u></b></summary>\n",
    "\n",
    "```python \n",
    "pd.read_sql('''\n",
    "SELECT *\n",
    "FROM routes\n",
    "WHERE dest IN\n",
    "(SELECT code \n",
    "FROM airports \n",
    "WHERE timezone = 'America/New_York')\n",
    "\n",
    "''', con)\n",
    "```\n",
    "</details>"
   ]
  },
  {
   "cell_type": "markdown",
   "id": "ad15717b",
   "metadata": {
    "slideshow": {
     "slide_type": "slide"
    }
   },
   "source": [
    "#### The antijoin\n",
    "\n",
    "Just the negation of the semijoin:"
   ]
  },
  {
   "cell_type": "code",
   "execution_count": null,
   "id": "2d01e230",
   "metadata": {
    "slideshow": {
     "slide_type": "fragment"
    }
   },
   "outputs": [],
   "source": [
    "%%capture antijoin\n",
    "\n",
    "pd.read_sql('''\n",
    "SELECT *\n",
    "FROM airports\n",
    "\n",
    "WHERE NOT code IN (\n",
    "SELECT source \n",
    "     FROM routes\n",
    "     GROUP BY source\n",
    "     HAVING COUNT(source) > 200 \n",
    ")\n",
    "''', con)"
   ]
  },
  {
   "cell_type": "code",
   "execution_count": null,
   "id": "cace0012",
   "metadata": {
    "slideshow": {
     "slide_type": "slide"
    }
   },
   "outputs": [],
   "source": [
    "antijoin()"
   ]
  },
  {
   "cell_type": "markdown",
   "id": "b5baae57",
   "metadata": {
    "slideshow": {
     "slide_type": "slide"
    }
   },
   "source": [
    "#### Subqueries in the SELECT statement\n",
    "\n",
    "Get altitude of airport side by side with average airport altitude in the respective country."
   ]
  },
  {
   "cell_type": "code",
   "execution_count": null,
   "id": "fe75ebec",
   "metadata": {
    "slideshow": {
     "slide_type": "fragment"
    }
   },
   "outputs": [],
   "source": [
    "%%capture select_subquery\n",
    "\n",
    "pd.read_sql('''\n",
    "SELECT a1.country,\n",
    "name, \n",
    "CAST(altitude as int) AS altitude ,\n",
    "\n",
    "(SELECT AVG(CAST(altitude as int))\n",
    "FROM airports AS a2\n",
    "WHERE a2.country == a1.country\n",
    ") AS avg_alt\n",
    "\n",
    "FROM airports AS a1\n",
    "\n",
    "\n",
    "''', con)"
   ]
  },
  {
   "cell_type": "markdown",
   "id": "2775e216",
   "metadata": {
    "slideshow": {
     "slide_type": "slide"
    }
   },
   "source": [
    "Sometimes known as a **correlated subquery**.\n",
    "\n",
    "- Inner select statement filters a2 by country matching a given row's country in a1. Takes average altitude.\n",
    "\n",
    "- Does this for each row in a1. The filtering of a2 by country *correlated* with current row in a1.\n",
    "\n",
    "\n",
    "**Correlated subqueries can be a bit slow**\n"
   ]
  },
  {
   "cell_type": "code",
   "execution_count": null,
   "id": "02746df0",
   "metadata": {
    "slideshow": {
     "slide_type": "slide"
    }
   },
   "outputs": [],
   "source": [
    "select_subquery()"
   ]
  },
  {
   "cell_type": "markdown",
   "id": "617c47cc",
   "metadata": {
    "cell_style": "split",
    "slideshow": {
     "slide_type": "slide"
    }
   },
   "source": [
    "#### Common Table Expressions (CTEs)\n",
    "\n",
    "Useful for when:\n",
    "\n",
    "- Multiple subqueries floating around.\n",
    "- Reusing same subqueries over and over again in same statement.\n",
    "\n",
    "Cleans code up, reduces error, makes readable."
   ]
  },
  {
   "cell_type": "markdown",
   "id": "44cac3d1",
   "metadata": {
    "cell_style": "split",
    "slideshow": {
     "slide_type": "fragment"
    }
   },
   "source": [
    "CTE syntax:\n",
    "\n",
    "WITH subquery1_name AS (subquery1 statement),\n",
    "<br>\n",
    "WITH subquery2_name AS (subquery2 statement), \n",
    "<br>\n",
    "...., \n",
    "<br>\n",
    "WITH subquery_n_name AS (subquery_n statement)\n",
    "<br>\n",
    "<br>\n",
    "MAIN QUERY"
   ]
  },
  {
   "cell_type": "code",
   "execution_count": 35,
   "id": "e1c09dc7",
   "metadata": {
    "slideshow": {
     "slide_type": "slide"
    }
   },
   "outputs": [],
   "source": [
    "%%capture full_result\n",
    "\n",
    "pd.read_sql(\"\"\"\n",
    "\n",
    "SELECT dep.source AS airport_code,\n",
    "        dep.departure_count,\n",
    "        arriv.arrival_count \n",
    "        \n",
    "FROM\n",
    "\n",
    "(SELECT source, COUNT(source) as departure_count\n",
    "     FROM routes\n",
    "     \n",
    "     GROUP BY source) AS dep\n",
    "\n",
    "INNER JOIN \n",
    "\n",
    "(SELECT dest, COUNT(dest) as arrival_count\n",
    "     FROM routes\n",
    "     \n",
    "     GROUP BY dest) AS arriv\n",
    "\n",
    "ON dep.source = arriv.dest\n",
    "     \n",
    "\"\"\", con)"
   ]
  },
  {
   "cell_type": "code",
   "execution_count": 36,
   "id": "bc77ef85",
   "metadata": {
    "slideshow": {
     "slide_type": "slide"
    }
   },
   "outputs": [
    {
     "data": {
      "text/html": [
       "<div>\n",
       "<style scoped>\n",
       "    .dataframe tbody tr th:only-of-type {\n",
       "        vertical-align: middle;\n",
       "    }\n",
       "\n",
       "    .dataframe tbody tr th {\n",
       "        vertical-align: top;\n",
       "    }\n",
       "\n",
       "    .dataframe thead th {\n",
       "        text-align: right;\n",
       "    }\n",
       "</style>\n",
       "<table border=\"1\" class=\"dataframe\">\n",
       "  <thead>\n",
       "    <tr style=\"text-align: right;\">\n",
       "      <th></th>\n",
       "      <th>airport_code</th>\n",
       "      <th>departure_count</th>\n",
       "      <th>arrival_count</th>\n",
       "    </tr>\n",
       "  </thead>\n",
       "  <tbody>\n",
       "    <tr>\n",
       "      <th>0</th>\n",
       "      <td>AAE</td>\n",
       "      <td>9</td>\n",
       "      <td>9</td>\n",
       "    </tr>\n",
       "    <tr>\n",
       "      <th>1</th>\n",
       "      <td>AAL</td>\n",
       "      <td>20</td>\n",
       "      <td>21</td>\n",
       "    </tr>\n",
       "    <tr>\n",
       "      <th>2</th>\n",
       "      <td>AAN</td>\n",
       "      <td>2</td>\n",
       "      <td>2</td>\n",
       "    </tr>\n",
       "    <tr>\n",
       "      <th>3</th>\n",
       "      <td>AAQ</td>\n",
       "      <td>3</td>\n",
       "      <td>3</td>\n",
       "    </tr>\n",
       "    <tr>\n",
       "      <th>4</th>\n",
       "      <td>AAR</td>\n",
       "      <td>8</td>\n",
       "      <td>8</td>\n",
       "    </tr>\n",
       "    <tr>\n",
       "      <th>...</th>\n",
       "      <td>...</td>\n",
       "      <td>...</td>\n",
       "      <td>...</td>\n",
       "    </tr>\n",
       "    <tr>\n",
       "      <th>3397</th>\n",
       "      <td>ZUH</td>\n",
       "      <td>60</td>\n",
       "      <td>59</td>\n",
       "    </tr>\n",
       "    <tr>\n",
       "      <th>3398</th>\n",
       "      <td>ZUM</td>\n",
       "      <td>2</td>\n",
       "      <td>2</td>\n",
       "    </tr>\n",
       "    <tr>\n",
       "      <th>3399</th>\n",
       "      <td>ZVK</td>\n",
       "      <td>3</td>\n",
       "      <td>3</td>\n",
       "    </tr>\n",
       "    <tr>\n",
       "      <th>3400</th>\n",
       "      <td>ZYI</td>\n",
       "      <td>15</td>\n",
       "      <td>15</td>\n",
       "    </tr>\n",
       "    <tr>\n",
       "      <th>3401</th>\n",
       "      <td>ZYL</td>\n",
       "      <td>4</td>\n",
       "      <td>6</td>\n",
       "    </tr>\n",
       "  </tbody>\n",
       "</table>\n",
       "<p>3402 rows × 3 columns</p>\n",
       "</div>"
      ],
      "text/plain": [
       "     airport_code  departure_count  arrival_count\n",
       "0             AAE                9              9\n",
       "1             AAL               20             21\n",
       "2             AAN                2              2\n",
       "3             AAQ                3              3\n",
       "4             AAR                8              8\n",
       "...           ...              ...            ...\n",
       "3397          ZUH               60             59\n",
       "3398          ZUM                2              2\n",
       "3399          ZVK                3              3\n",
       "3400          ZYI               15             15\n",
       "3401          ZYL                4              6\n",
       "\n",
       "[3402 rows x 3 columns]"
      ]
     },
     "metadata": {},
     "output_type": "display_data"
    }
   ],
   "source": [
    "full_result()"
   ]
  },
  {
   "cell_type": "code",
   "execution_count": 37,
   "id": "fcf1c075",
   "metadata": {
    "slideshow": {
     "slide_type": "slide"
    }
   },
   "outputs": [],
   "source": [
    "%%capture filtered_result\n",
    "\n",
    "pd.read_sql(\"\"\"\n",
    "\n",
    "WITH s1 AS (\n",
    "     SELECT source, COUNT(source) as departure_count\n",
    "     FROM routes\n",
    "     GROUP BY source),\n",
    "     \n",
    "     s2 AS ( \n",
    "     SELECT dest, COUNT(dest) as arrival_count\n",
    "     FROM routes\n",
    "     GROUP BY dest\n",
    "     )\n",
    "\n",
    "\n",
    "SELECT source, departure_count, arrival_count\n",
    "FROM\n",
    "s1 INNER JOIN s2\n",
    "ON s1.source = s2.dest\n",
    "\n",
    "     \n",
    "\"\"\", con)"
   ]
  },
  {
   "cell_type": "code",
   "execution_count": 38,
   "id": "2d100662",
   "metadata": {
    "slideshow": {
     "slide_type": "slide"
    }
   },
   "outputs": [
    {
     "data": {
      "text/html": [
       "<div>\n",
       "<style scoped>\n",
       "    .dataframe tbody tr th:only-of-type {\n",
       "        vertical-align: middle;\n",
       "    }\n",
       "\n",
       "    .dataframe tbody tr th {\n",
       "        vertical-align: top;\n",
       "    }\n",
       "\n",
       "    .dataframe thead th {\n",
       "        text-align: right;\n",
       "    }\n",
       "</style>\n",
       "<table border=\"1\" class=\"dataframe\">\n",
       "  <thead>\n",
       "    <tr style=\"text-align: right;\">\n",
       "      <th></th>\n",
       "      <th>source</th>\n",
       "      <th>departure_count</th>\n",
       "      <th>arrival_count</th>\n",
       "    </tr>\n",
       "  </thead>\n",
       "  <tbody>\n",
       "    <tr>\n",
       "      <th>0</th>\n",
       "      <td>AAE</td>\n",
       "      <td>9</td>\n",
       "      <td>9</td>\n",
       "    </tr>\n",
       "    <tr>\n",
       "      <th>1</th>\n",
       "      <td>AAL</td>\n",
       "      <td>20</td>\n",
       "      <td>21</td>\n",
       "    </tr>\n",
       "    <tr>\n",
       "      <th>2</th>\n",
       "      <td>AAN</td>\n",
       "      <td>2</td>\n",
       "      <td>2</td>\n",
       "    </tr>\n",
       "    <tr>\n",
       "      <th>3</th>\n",
       "      <td>AAQ</td>\n",
       "      <td>3</td>\n",
       "      <td>3</td>\n",
       "    </tr>\n",
       "    <tr>\n",
       "      <th>4</th>\n",
       "      <td>AAR</td>\n",
       "      <td>8</td>\n",
       "      <td>8</td>\n",
       "    </tr>\n",
       "    <tr>\n",
       "      <th>...</th>\n",
       "      <td>...</td>\n",
       "      <td>...</td>\n",
       "      <td>...</td>\n",
       "    </tr>\n",
       "    <tr>\n",
       "      <th>3397</th>\n",
       "      <td>ZUH</td>\n",
       "      <td>60</td>\n",
       "      <td>59</td>\n",
       "    </tr>\n",
       "    <tr>\n",
       "      <th>3398</th>\n",
       "      <td>ZUM</td>\n",
       "      <td>2</td>\n",
       "      <td>2</td>\n",
       "    </tr>\n",
       "    <tr>\n",
       "      <th>3399</th>\n",
       "      <td>ZVK</td>\n",
       "      <td>3</td>\n",
       "      <td>3</td>\n",
       "    </tr>\n",
       "    <tr>\n",
       "      <th>3400</th>\n",
       "      <td>ZYI</td>\n",
       "      <td>15</td>\n",
       "      <td>15</td>\n",
       "    </tr>\n",
       "    <tr>\n",
       "      <th>3401</th>\n",
       "      <td>ZYL</td>\n",
       "      <td>4</td>\n",
       "      <td>6</td>\n",
       "    </tr>\n",
       "  </tbody>\n",
       "</table>\n",
       "<p>3402 rows × 3 columns</p>\n",
       "</div>"
      ],
      "text/plain": [
       "     source  departure_count  arrival_count\n",
       "0       AAE                9              9\n",
       "1       AAL               20             21\n",
       "2       AAN                2              2\n",
       "3       AAQ                3              3\n",
       "4       AAR                8              8\n",
       "...     ...              ...            ...\n",
       "3397    ZUH               60             59\n",
       "3398    ZUM                2              2\n",
       "3399    ZVK                3              3\n",
       "3400    ZYI               15             15\n",
       "3401    ZYL                4              6\n",
       "\n",
       "[3402 rows x 3 columns]"
      ]
     },
     "metadata": {},
     "output_type": "display_data"
    }
   ],
   "source": [
    "filtered_result()"
   ]
  },
  {
   "cell_type": "markdown",
   "id": "cba66f63",
   "metadata": {
    "slideshow": {
     "slide_type": "slide"
    }
   },
   "source": [
    "CTEs make the primary query easy to read.\n",
    "\n",
    "- Subqueries can just be referenced by looking it up in the CTE."
   ]
  },
  {
   "cell_type": "code",
   "execution_count": null,
   "id": "d0ef224b",
   "metadata": {},
   "outputs": [],
   "source": []
  }
 ],
 "metadata": {
  "kernelspec": {
   "display_name": "Python (learn-env)",
   "language": "python",
   "name": "learn-env"
  },
  "language_info": {
   "codemirror_mode": {
    "name": "ipython",
    "version": 3
   },
   "file_extension": ".py",
   "mimetype": "text/x-python",
   "name": "python",
   "nbconvert_exporter": "python",
   "pygments_lexer": "ipython3",
   "version": "3.8.5"
  }
 },
 "nbformat": 4,
 "nbformat_minor": 5
}
